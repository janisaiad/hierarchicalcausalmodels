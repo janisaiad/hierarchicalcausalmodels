{
 "cells": [
  {
   "cell_type": "code",
   "execution_count": 1,
   "metadata": {
    "ExecuteTime": {
     "end_time": "2024-09-10T21:47:10.073888Z",
     "start_time": "2024-09-10T21:47:10.059608Z"
    }
   },
   "outputs": [
    {
     "name": "stdout",
     "output_type": "stream",
     "text": [
      "Hello world\n"
     ]
    }
   ],
   "source": [
    "print(\"Hello world\")"
   ]
  },
  {
   "cell_type": "code",
   "execution_count": 2,
   "metadata": {
    "ExecuteTime": {
     "end_time": "2024-09-10T21:47:11.682467Z",
     "start_time": "2024-09-10T21:47:10.175157Z"
    }
   },
   "outputs": [
    {
     "name": "stderr",
     "output_type": "stream",
     "text": [
      "WARNING (pytensor.tensor.blas): Using NumPy C-API based implementation for BLAS functions.\n"
     ]
    }
   ],
   "source": [
    "import networkx as nx\n",
    "import numpy as np\n",
    "from scipy.stats import norm, gaussian_kde\n",
    "from scipy.integrate import quad\n",
    "import pymc as pm\n"
   ]
  },
  {
   "cell_type": "code",
   "execution_count": 31,
   "metadata": {
    "ExecuteTime": {
     "end_time": "2024-09-10T21:55:03.294622Z",
     "start_time": "2024-09-10T21:55:03.274408Z"
    }
   },
   "outputs": [],
   "source": [
    "from scipy.stats import entropy\n",
    "\n",
    "def kl_divergence(p, q):\n",
    "    \"\"\"\n",
    "    Calcule la divergence KL entre deux distributions empiriques représentées par des tableaux.\n",
    "    \n",
    "    :param p: Premier tableau de données\n",
    "    :param q: Second tableau de données\n",
    "    :return: Valeur de la divergence KL\n",
    "    \"\"\"\n",
    "    # Assurez-vous que les tableaux ont la même taille\n",
    "    min_len = min(len(p), len(q))\n",
    "    p = p[:min_len]\n",
    "    q = q[:min_len]\n",
    "    \n",
    "    # Calculez les histogrammes des deux distributions\n",
    "    bins = np.linspace(min(np.min(p), np.min(q)), max(np.max(p), np.max(q)), 1000)\n",
    "    p_hist, _ = np.histogram(p, bins=bins, density=True)\n",
    "    q_hist, _ = np.histogram(q, bins=bins, density=True)\n",
    "    \n",
    "    # Ajoutez un petit epsilon pour éviter la division par zéro\n",
    "    epsilon = 1e-10\n",
    "    p_hist += epsilon\n",
    "    q_hist += epsilon\n",
    "    \n",
    "    # Normalisez les histogrammes\n",
    "    p_hist /= np.sum(p_hist)\n",
    "    q_hist /= np.sum(q_hist)\n",
    "    \n",
    "    # Calculez la divergence KL\n",
    "    return entropy(p_hist, q_hist)\n",
    "\n",
    "from scipy.stats import gaussian_kde\n",
    "\n",
    "def kl_divergence(p, q, bandwidth='scott'):\n",
    "    \"\"\"\n",
    "    Calcule la divergence KL entre deux distributions empiriques représentées par des tableaux,\n",
    "    en utilisant l'estimation de densité par noyau.\n",
    "    \n",
    "    :param p: Premier tableau de données\n",
    "    :param q: Second tableau de données\n",
    "    :param bandwidth: Méthode pour estimer la largeur de bande ('scott', 'silverman' ou un nombre)\n",
    "    :return: Valeur de la divergence KL\n",
    "    \"\"\"\n",
    "    # Assurez-vous que les tableaux ont la même taille\n",
    "    min_len = min(len(p), len(q))\n",
    "    p = p[:min_len]\n",
    "    q = q[:min_len]\n",
    "    \n",
    "    # Estimation de densité par noyau\n",
    "    kde_p = gaussian_kde(p, bw_method=bandwidth)\n",
    "    kde_q = gaussian_kde(q, bw_method=bandwidth)\n",
    "    \n",
    "    # Créez un espace d'échantillonnage\n",
    "    x = np.linspace(min(np.min(p), np.min(q)), max(np.max(p), np.max(q)), 10000)\n",
    "    \n",
    "    # Estimez les densités\n",
    "    p_density = kde_p(x)\n",
    "    q_density = kde_q(x)\n",
    "    \n",
    "    # Ajoutez un petit epsilon pour éviter la division par zéro\n",
    "    epsilon = 1e-10\n",
    "    p_density += epsilon\n",
    "    q_density += epsilon\n",
    "    \n",
    "    # Normalisez les densités\n",
    "    p_density /= np.sum(p_density)\n",
    "    q_density /= np.sum(q_density)\n",
    "    \n",
    "    # Calculez la divergence KL\n",
    "    return np.sum(p_density * np.log(p_density / q_density))\n",
    "\n",
    "\n",
    "\n",
    "def kl_divergence(p, q, bandwidth='scott'):\n",
    "    \"\"\"\n",
    "    Calcule la divergence KL entre deux distributions empiriques représentées par des tableaux,\n",
    "    en utilisant l'estimation de densité par noyau.\n",
    "    \n",
    "    :param p: Premier tableau de données\n",
    "    :param q: Second tableau de données\n",
    "    :param bandwidth: Méthode pour estimer la largeur de bande ('scott', 'silverman' ou un nombre)\n",
    "    :return: Valeur de la divergence KL\n",
    "    \"\"\"\n",
    "    # Assurez-vous que les tableaux ont la même taille\n",
    "    min_len = min(len(p), len(q))\n",
    "    p = p[:min_len]\n",
    "    q = q[:min_len]\n",
    "    \n",
    "    # Estimation de densité par noyau\n",
    "    kde_p = gaussian_kde(p, bw_method=bandwidth)\n",
    "    kde_q = gaussian_kde(q, bw_method=bandwidth)\n",
    "    \n",
    "    # Créez un espace d'échantillonnage\n",
    "    x = np.linspace(min(np.min(p), np.min(q)), max(np.max(p), np.max(q)), 10000)\n",
    "    \n",
    "    # Estimez les densités\n",
    "    p_density = kde_p(x)\n",
    "    q_density = kde_q(x)\n",
    "    \n",
    "    # Ajoutez un petit epsilon pour éviter la division par zéro\n",
    "    epsilon = 1e-10\n",
    "    p_density += epsilon\n",
    "    q_density += epsilon\n",
    "    \n",
    "    # Normalisez les densités\n",
    "    p_density /= np.sum(p_density)\n",
    "    q_density /= np.sum(q_density)\n",
    "    \n",
    "    # Calculez la divergence KL\n",
    "    return np.sum(p_density * np.log(p_density / q_density))\n",
    "\n",
    "\n"
   ]
  },
  {
   "cell_type": "markdown",
   "metadata": {},
   "source": [
    "New model"
   ]
  },
  {
   "cell_type": "code",
   "execution_count": 8,
   "metadata": {
    "ExecuteTime": {
     "end_time": "2024-09-10T21:47:27.257284Z",
     "start_time": "2024-09-10T21:47:27.073007Z"
    }
   },
   "outputs": [
    {
     "name": "stdout",
     "output_type": "stream",
     "text": [
      "[CudaDevice(id=0)]\n"
     ]
    }
   ],
   "source": [
    "import jax\n",
    "print(jax.devices())"
   ]
  },
  {
   "cell_type": "code",
   "execution_count": 9,
   "metadata": {
    "ExecuteTime": {
     "end_time": "2024-09-10T21:47:30.154431Z",
     "start_time": "2024-09-10T21:47:30.145853Z"
    }
   },
   "outputs": [
    {
     "name": "stdout",
     "output_type": "stream",
     "text": [
      "/usr/bin/python3\n",
      "['C:\\\\Program Files\\\\JetBrains\\\\PyCharm 2024.1.4\\\\plugins\\\\python\\\\helpers-pro\\\\jupyter_debug', 'C:\\\\Program Files\\\\JetBrains\\\\PyCharm 2024.1.4\\\\plugins\\\\python\\\\helpers\\\\pydev', '/root/temp_janis_test_parallellization', '/usr/lib/python310.zip', '/usr/lib/python3.10', '/usr/lib/python3.10/lib-dynload', '', '/usr/local/lib/python3.10/dist-packages', '/usr/lib/python3/dist-packages', '/usr/local/lib/python3.10/dist-packages/setuptools/_vendor']\n"
     ]
    }
   ],
   "source": [
    "import sys\n",
    "print(sys.executable)\n",
    "print(sys.path)"
   ]
  },
  {
   "cell_type": "code",
   "execution_count": 10,
   "metadata": {
    "ExecuteTime": {
     "end_time": "2024-09-10T21:47:30.609607Z",
     "start_time": "2024-09-10T21:47:30.602735Z"
    }
   },
   "outputs": [],
   "source": [
    "import jax"
   ]
  },
  {
   "cell_type": "code",
   "execution_count": 11,
   "metadata": {
    "ExecuteTime": {
     "end_time": "2024-09-10T21:47:30.688129Z",
     "start_time": "2024-09-10T21:47:30.681138Z"
    }
   },
   "outputs": [],
   "source": [
    "import numpy as np"
   ]
  },
  {
   "cell_type": "code",
   "execution_count": 12,
   "metadata": {
    "ExecuteTime": {
     "end_time": "2024-09-10T21:47:30.830749Z",
     "start_time": "2024-09-10T21:47:30.823257Z"
    }
   },
   "outputs": [],
   "source": [
    "import pymc as pm\n"
   ]
  },
  {
   "cell_type": "code",
   "execution_count": 13,
   "metadata": {
    "ExecuteTime": {
     "end_time": "2024-09-10T21:47:30.951664Z",
     "start_time": "2024-09-10T21:47:30.940819Z"
    }
   },
   "outputs": [],
   "source": [
    "import json\n",
    "\n",
    "def load_data_from_json(file_path):\n",
    "    \"\"\"\n",
    "    Load data from a JSON file and return it as a dictionary.\n",
    "    \n",
    "    :param file_path: Path to the JSON file\n",
    "    :return: Dictionary containing the loaded data\n",
    "    \"\"\"\n",
    "    try:\n",
    "        with open(file_path, 'r') as file:\n",
    "            data = json.load(file)\n",
    "        print(f\"Data successfully loaded from {file_path}\")\n",
    "        return data\n",
    "    except FileNotFoundError:\n",
    "        print(f\"Error: File not found at {file_path}\")\n",
    "        return None\n",
    "    except json.JSONDecodeError:\n",
    "        print(f\"Error: Invalid JSON format in {file_path}\")\n",
    "        return None\n",
    "    except Exception as e:\n",
    "        print(f\"An unexpected error occurred: {str(e)}\")\n",
    "        return None\n",
    "\n"
   ]
  },
  {
   "cell_type": "code",
   "execution_count": 14,
   "metadata": {
    "ExecuteTime": {
     "end_time": "2024-09-10T21:47:31.315206Z",
     "start_time": "2024-09-10T21:47:31.292054Z"
    }
   },
   "outputs": [
    {
     "name": "stdout",
     "output_type": "stream",
     "text": [
      "Data successfully loaded from data/sampled_data.json\n",
      "Shape of a: (50,)\n",
      "Shape of b: (50, 50)\n",
      "Shape of c: (50,)\n",
      "Shape of d: (50, 50)\n",
      "Shape of e: (50,)\n",
      "1.3565596226212755\n",
      "1.3565596226212755\n"
     ]
    }
   ],
   "source": [
    "\n",
    "# Usage\n",
    "n_schools = 50\n",
    "n_students = 50\n",
    "graph = [('a', '_b'), ('a', 'c'), ('_b', 'c'), ('c', '_d'), ('_b', '_d'), ('_d', 'e'), ('c', 'e')]\n",
    "data = load_data_from_json('data/sampled_data.json')\n",
    "\n",
    "\n",
    "# Convert data to numpy arrays\n",
    "a = np.array([data[f'a{i}'] for i in range(n_schools)])\n",
    "c = np.array([data[f'c{i}'] for i in range(n_schools)])\n",
    "e = np.array([data[f'e{i}'] for i in range(n_schools)])\n",
    "\n",
    "# For b and d, we need to create 2D arrays\n",
    "b = np.array([[data[f'_b{i}_{j}'] for j in range(n_students)] for i in range(n_schools)])\n",
    "d = np.array([[data[f'_d{i}_{j}'] for j in range(n_students)] for i in range(n_schools)])\n",
    "\n",
    "print(\"Shape of a:\", a.shape)\n",
    "print(\"Shape of b:\", b.shape)\n",
    "print(\"Shape of c:\", c.shape)\n",
    "print(\"Shape of d:\", d.shape)\n",
    "print(\"Shape of e:\", e.shape)\n",
    "print(data['_b1_2'])\n",
    "print(b[1, 2])"
   ]
  },
  {
   "cell_type": "code",
   "execution_count": 15,
   "metadata": {
    "ExecuteTime": {
     "end_time": "2024-09-10T21:47:32.330564Z",
     "start_time": "2024-09-10T21:47:32.323079Z"
    }
   },
   "outputs": [
    {
     "name": "stdout",
     "output_type": "stream",
     "text": [
      "[CudaDevice(id=0)]\n"
     ]
    }
   ],
   "source": [
    "print(jax.devices())"
   ]
  },
  {
   "cell_type": "code",
   "execution_count": 26,
   "metadata": {
    "ExecuteTime": {
     "end_time": "2024-09-10T21:52:47.986632Z",
     "start_time": "2024-09-10T21:52:47.977928Z"
    }
   },
   "outputs": [
    {
     "name": "stdout",
     "output_type": "stream",
     "text": [
      "[CudaDevice(id=0)]\n"
     ]
    }
   ],
   "source": [
    "import pymc as pm\n",
    "import jax\n",
    "print(jax.devices())\n",
    "import multiprocessing\n",
    "multiprocessing.set_start_method('spawn', force=True)"
   ]
  },
  {
   "cell_type": "code",
   "metadata": {
    "ExecuteTime": {
     "end_time": "2024-09-10T21:59:12.235755Z",
     "start_time": "2024-09-10T21:58:31.701077Z"
    }
   },
   "source": [
    "with pm.Model() as model:\n",
    "    # Priors pour les coefficients (au niveau des écoles)\n",
    "    alpha_B = pm.Normal('alpha_B', mu=0, sigma=1)\n",
    "    beta_B_A = pm.Normal('beta_B_A', mu=0, sigma=1)\n",
    "    beta_B_C = pm.Normal('beta_B_C', mu=0, sigma=1)\n",
    "    beta_B_E = pm.Normal('beta_B_E', mu=0, sigma=1)\n",
    "    \n",
    "    alpha_D = pm.Normal('alpha_D', mu=1, sigma=1)\n",
    "    beta_D_A = pm.Normal('beta_D_A', mu=1, sigma=1)\n",
    "    beta_D_C = pm.Normal('beta_D_C', mu=1, sigma=1)\n",
    "    beta_D_E = pm.Normal('beta_D_E', mu=1, sigma=1)\n",
    "    beta_D_A3 = pm.Normal('beta_D_A3', mu=1, sigma=1)\n",
    "    beta_D_A2 = pm.Normal('beta_D_A2', mu=1, sigma=1)\n",
    "\n",
    "    # Variables aléatoires pour les écoles\n",
    "    mu_B_j = alpha_B + beta_B_A * a + beta_B_C * c + beta_B_E * e\n",
    "    mu_D_j = alpha_D + beta_D_A * a + beta_D_C * c + beta_D_E * e + beta_D_A3 * a**3  + beta_D_A2 * a**2\n",
    "    \n",
    "    # Ajustement des dimensions pour correspondre à celles des élèves\n",
    "    mu_B_j = pm.Deterministic('mu_B_j', mu_B_j[:, None])\n",
    "    mu_D_j = pm.Deterministic('mu_D_j', mu_D_j[:, None])\n",
    "    \n",
    "    # Priors pour les écarts types au niveau des élèves\n",
    "    sigma_B = pm.HalfNormal('sigma_B', sigma=1)\n",
    "    sigma_D = pm.HalfNormal('sigma_D', sigma=1)\n",
    "    \n",
    "    # Niveau des élèves : chaque élève est modelé en fonction de son école\n",
    "    B = pm.Normal('B', mu=mu_B_j, sigma=sigma_B, observed=b)\n",
    "    D = pm.Normal('D', mu=mu_D_j, sigma=sigma_D, observed=d)\n",
    "\n",
    "    # Inference\n",
    "    trace = pm.sample(1000, return_inferencedata=True, progressbar=True)\n",
    "    \n",
    "# Analyse des résultats\n",
    "print(pm.summary(trace, var_names=['alpha_B', 'beta_B_A', 'beta_B_C', 'beta_B_E','alpha_D', 'beta_D_A', 'beta_D_C', 'beta_D_E',  'sigma_B', 'sigma_D', 'beta_D_A3', 'beta_D_A2']))"
   ],
   "outputs": [
    {
     "name": "stderr",
     "output_type": "stream",
     "text": [
      "Auto-assigning NUTS sampler...\n",
      "Initializing NUTS using jitter+adapt_diag...\n",
      "Multiprocess sampling (4 chains in 4 jobs)\n",
      "NUTS: [alpha_B, beta_B_A, beta_B_C, beta_B_E, alpha_D, beta_D_A, beta_D_C, beta_D_E, beta_D_A3, beta_D_A2, sigma_B, sigma_D]\n",
      "WARNING (pytensor.tensor.blas): Using NumPy C-API based implementation for BLAS functions.\n",
      "WARNING (pytensor.tensor.blas): Using NumPy C-API based implementation for BLAS functions.\n",
      "WARNING (pytensor.tensor.blas): Using NumPy C-API based implementation for BLAS functions.\n",
      "WARNING (pytensor.tensor.blas): Using NumPy C-API based implementation for BLAS functions.\n"
     ]
    },
    {
     "data": {
      "text/plain": [
       "Output()"
      ],
      "application/vnd.jupyter.widget-view+json": {
       "version_major": 2,
       "version_minor": 0,
       "model_id": "fffc645e52d34dfb8039db7ee69d8dab"
      }
     },
     "metadata": {},
     "output_type": "display_data"
    },
    {
     "data": {
      "text/plain": [],
      "text/html": [
       "<pre style=\"white-space:pre;overflow-x:auto;line-height:normal;font-family:Menlo,'DejaVu Sans Mono',consolas,'Courier New',monospace\"></pre>\n"
      ]
     },
     "metadata": {},
     "output_type": "display_data"
    },
    {
     "name": "stderr",
     "output_type": "stream",
     "text": [
      "Sampling 4 chains for 1_000 tune and 1_000 draw iterations (4_000 + 4_000 draws total) took 26 seconds.\n"
     ]
    },
    {
     "name": "stdout",
     "output_type": "stream",
     "text": [
      "            mean     sd  hdi_3%  hdi_97%  mcse_mean  mcse_sd  ess_bulk  \\\n",
      "alpha_B   -0.037  0.053  -0.140    0.061      0.001    0.001    2979.0   \n",
      "beta_B_A   0.987  0.045   0.905    1.068      0.001    0.001    3252.0   \n",
      "beta_B_C  -0.010  0.009  -0.028    0.006      0.000    0.000    3076.0   \n",
      "beta_B_E   0.021  0.015  -0.005    0.048      0.000    0.000    2784.0   \n",
      "alpha_D    0.963  0.084   0.800    1.114      0.001    0.001    3127.0   \n",
      "beta_D_A   0.951  0.075   0.812    1.089      0.001    0.001    3176.0   \n",
      "beta_D_C   0.006  0.024  -0.038    0.052      0.000    0.000    2606.0   \n",
      "beta_D_E   0.035  0.024  -0.014    0.078      0.000    0.000    3262.0   \n",
      "sigma_B    0.983  0.014   0.956    1.008      0.000    0.000    4650.0   \n",
      "sigma_D    1.450  0.021   1.412    1.491      0.000    0.000    5107.0   \n",
      "beta_D_A3 -0.021  0.028  -0.075    0.031      0.001    0.000    3125.0   \n",
      "beta_D_A2 -0.073  0.032  -0.132   -0.013      0.001    0.000    2817.0   \n",
      "\n",
      "           ess_tail  r_hat  \n",
      "alpha_B      2457.0    1.0  \n",
      "beta_B_A     2588.0    1.0  \n",
      "beta_B_C     2600.0    1.0  \n",
      "beta_B_E     2404.0    1.0  \n",
      "alpha_D      2682.0    1.0  \n",
      "beta_D_A     2738.0    1.0  \n",
      "beta_D_C     2742.0    1.0  \n",
      "beta_D_E     2771.0    1.0  \n",
      "sigma_B      2757.0    1.0  \n",
      "sigma_D      3196.0    1.0  \n",
      "beta_D_A3    2970.0    1.0  \n",
      "beta_D_A2    2876.0    1.0  \n"
     ]
    }
   ],
   "execution_count": 36
  },
  {
   "cell_type": "code",
   "metadata": {
    "ExecuteTime": {
     "end_time": "2024-09-10T21:59:12.241145Z",
     "start_time": "2024-09-10T21:59:12.238014Z"
    }
   },
   "source": [],
   "outputs": [],
   "execution_count": 36
  },
  {
   "cell_type": "code",
   "execution_count": 31,
   "metadata": {
    "ExecuteTime": {
     "end_time": "2024-09-10T21:55:23.636718Z",
     "start_time": "2024-09-10T21:55:23.631607Z"
    }
   },
   "outputs": [],
   "source": []
  },
  {
   "cell_type": "code",
   "execution_count": 32,
   "metadata": {
    "ExecuteTime": {
     "end_time": "2024-09-10T21:55:23.658308Z",
     "start_time": "2024-09-10T21:55:23.641047Z"
    }
   },
   "outputs": [
    {
     "name": "stdout",
     "output_type": "stream",
     "text": [
      "Shape of generated a: (50,)\n",
      "Shape of generated b: (50, 1)\n",
      "Shape of generated c: (50,)\n",
      "Shape of generated d: (50, 1)\n",
      "Shape of generated e: (50,)\n",
      "Generated data: {'a': array([-2.28518092, -0.18706956, -0.89579762,  1.15814669,  0.10234227,\n",
      "        1.37361927,  1.12738924, -0.44909954, -0.67037546, -0.59114775,\n",
      "        0.97079196, -0.06478065,  0.06568451,  2.0657252 , -0.01775167,\n",
      "        2.09011736,  0.62874429, -1.19238992,  0.13041571, -0.29539845,\n",
      "        0.70097246, -2.24518876,  0.1766883 , -0.01262842, -0.76635642,\n",
      "        2.07172617,  0.34349196,  0.37867878,  0.78489238, -1.53000665,\n",
      "        1.61932454, -0.57656184, -1.69092627, -0.08418004, -0.53016312,\n",
      "        0.66155681,  0.13069028, -1.69781685,  1.77786882, -0.71339937,\n",
      "        0.77800513, -0.28269455,  0.91159501, -0.58727034, -0.32466117,\n",
      "       -0.54765735, -1.31151056,  0.54847825,  0.3616922 , -0.55909829]), 'c': array([-9.30535778,  0.84850606, -2.04984136,  3.80362784,  1.48901993,\n",
      "        6.72096594,  5.27131665, -0.38996598, -0.03051545,  0.05487752,\n",
      "        2.95267495,  2.32836084, -0.22004692, 19.07734858,  0.8908963 ,\n",
      "       18.9527484 ,  4.47800268, -2.52838485,  0.48906006, -0.5082602 ,\n",
      "        4.07660342, -8.86196118,  0.26837219,  0.71906122,  0.73108059,\n",
      "       14.87128444,  2.12324905,  1.46379302,  4.10743895, -5.27609643,\n",
      "        8.31103461,  0.4299194 , -3.41943925,  0.99107093,  1.63159004,\n",
      "        1.98079324,  3.73672582, -3.84495967, 12.33479749, -0.25261262,\n",
      "        4.2291301 ,  0.19386228,  3.9246175 ,  1.07204492, -1.18592918,\n",
      "        2.59644555, -3.24156552,  1.67391627,  3.47942461, -1.36338891]), 'e': array([ 3.75973629,  4.9305802 ,  2.13337085,  4.8090215 ,  2.99589486,\n",
      "        5.85804342,  5.52987988,  2.01160032,  1.71740919,  2.23538673,\n",
      "        5.73746484,  5.26475062,  2.19045437, 10.27539225,  2.65037419,\n",
      "        8.38389785,  4.48761577,  4.07422185,  3.06901507,  2.8476593 ,\n",
      "        5.09792715,  1.15564141,  2.23479107,  3.45500763, -0.57182168,\n",
      "        6.88677018,  6.3841092 ,  3.74655138,  3.16533403,  2.37329529,\n",
      "        4.86071131,  1.23489829,  1.55106761,  3.48029261,  2.16266894,\n",
      "        3.38144626,  3.69090375,  3.23602905,  8.37557267,  3.08036767,\n",
      "        3.37809718,  0.42894102,  4.86505308,  2.3641055 ,  2.02599684,\n",
      "        2.40702208,  4.91095039,  3.68982212,  2.49682049,  3.06104395]), 'b': array([[-2.10442747e+00],\n",
      "       [ 1.66247099e+00],\n",
      "       [-9.40828232e-01],\n",
      "       [ 1.51712049e+00],\n",
      "       [ 2.50790130e-01],\n",
      "       [ 1.62119604e+00],\n",
      "       [ 1.87000528e+00],\n",
      "       [-5.93834951e-01],\n",
      "       [-1.34139163e+00],\n",
      "       [-1.45944985e+00],\n",
      "       [ 2.17016162e+00],\n",
      "       [ 1.15721153e+00],\n",
      "       [-2.90267683e-01],\n",
      "       [ 2.47153716e+00],\n",
      "       [ 6.38073471e-01],\n",
      "       [ 1.69521629e+00],\n",
      "       [ 1.35405231e+00],\n",
      "       [-1.57602993e+00],\n",
      "       [-2.45494558e-01],\n",
      "       [ 2.36512358e-01],\n",
      "       [-5.62244132e-01],\n",
      "       [-2.80286577e+00],\n",
      "       [ 1.54661027e+00],\n",
      "       [ 1.08984042e+00],\n",
      "       [-6.25209303e-01],\n",
      "       [ 2.57521565e+00],\n",
      "       [-1.64108087e+00],\n",
      "       [ 1.19487033e+00],\n",
      "       [ 2.90005914e-01],\n",
      "       [-1.42047651e+00],\n",
      "       [ 2.23063320e+00],\n",
      "       [-3.46610503e-02],\n",
      "       [-3.72389016e-01],\n",
      "       [ 3.86825084e-01],\n",
      "       [ 2.09116980e-01],\n",
      "       [ 1.18958253e-03],\n",
      "       [ 1.38038267e+00],\n",
      "       [-1.46539538e+00],\n",
      "       [ 2.78066583e+00],\n",
      "       [-3.63132465e+00],\n",
      "       [ 2.63168458e+00],\n",
      "       [-1.51139837e+00],\n",
      "       [ 8.56016147e-01],\n",
      "       [-9.13128332e-01],\n",
      "       [-6.07814887e-01],\n",
      "       [ 4.89029860e-02],\n",
      "       [-2.83424491e+00],\n",
      "       [-1.01199598e-01],\n",
      "       [-1.60895070e+00],\n",
      "       [-1.61985800e+00]]), 'd': array([[-1.48764354],\n",
      "       [ 1.20972858],\n",
      "       [ 0.08843425],\n",
      "       [ 2.02235335],\n",
      "       [-0.55986235],\n",
      "       [ 5.70491024],\n",
      "       [ 2.25499288],\n",
      "       [ 1.82211759],\n",
      "       [ 1.5208234 ],\n",
      "       [-1.78553884],\n",
      "       [ 1.64834759],\n",
      "       [ 0.34373531],\n",
      "       [ 3.06089913],\n",
      "       [ 2.36814083],\n",
      "       [ 0.46492115],\n",
      "       [ 2.0860726 ],\n",
      "       [ 4.70006185],\n",
      "       [-0.39169769],\n",
      "       [ 1.22834302],\n",
      "       [ 1.4155059 ],\n",
      "       [ 1.4317258 ],\n",
      "       [-1.64668773],\n",
      "       [ 1.893612  ],\n",
      "       [ 1.7159446 ],\n",
      "       [-2.5659461 ],\n",
      "       [ 3.54713091],\n",
      "       [ 1.37935796],\n",
      "       [ 2.71355166],\n",
      "       [ 3.52483522],\n",
      "       [ 2.72212481],\n",
      "       [ 0.251586  ],\n",
      "       [-1.49378106],\n",
      "       [ 0.86677621],\n",
      "       [ 1.15043306],\n",
      "       [-0.93667185],\n",
      "       [ 0.94151725],\n",
      "       [-0.34976893],\n",
      "       [-2.61577745],\n",
      "       [ 3.34745605],\n",
      "       [ 2.09245331],\n",
      "       [ 4.6772889 ],\n",
      "       [-0.70554151],\n",
      "       [ 1.21576475],\n",
      "       [ 2.29368446],\n",
      "       [ 0.30709028],\n",
      "       [ 0.94128139],\n",
      "       [-3.42602596],\n",
      "       [ 1.90556894],\n",
      "       [-0.09524277],\n",
      "       [ 1.80718353]])}\n"
     ]
    }
   ],
   "source": [
    "generated_data = {}\n",
    "generated_data['a'] = a  # A est déjà une donnée observée\n",
    "generated_data['c'] = c  # C est déjà une donnée observée\n",
    "generated_data['e'] = e  # E est déjà une donnée observée\n",
    "\n",
    "mu_B = trace.posterior['mu_B_j'].mean(dim=('chain', 'draw')).values\n",
    "sigma_B = trace.posterior['sigma_B'].mean(dim=('chain', 'draw')).values\n",
    "generated_data['b'] = np.random.normal(mu_B, sigma_B)\n",
    "\n",
    "mu_D = trace.posterior['mu_D_j'].mean(dim=('chain', 'draw')).values\n",
    "sigma_D = trace.posterior['sigma_D'].mean(dim=('chain', 'draw')).values\n",
    "generated_data['d'] = np.random.normal(mu_D, sigma_D)\n",
    "\n",
    "# Affichage des formes des données générées\n",
    "for var in ['a', 'b', 'c', 'd', 'e']:\n",
    "    print(f\"Shape of generated {var}: {generated_data[var].shape}\")\n",
    "    \n",
    "print(\"Generated data:\", generated_data)\n"
   ]
  },
  {
   "cell_type": "code",
   "execution_count": 32,
   "metadata": {
    "ExecuteTime": {
     "end_time": "2024-09-10T21:55:24.397449Z",
     "start_time": "2024-09-10T21:55:24.392422Z"
    }
   },
   "outputs": [],
   "source": []
  },
  {
   "cell_type": "code",
   "execution_count": 33,
   "metadata": {
    "ExecuteTime": {
     "end_time": "2024-09-10T21:55:25.088039Z",
     "start_time": "2024-09-10T21:55:24.971853Z"
    }
   },
   "outputs": [
    {
     "name": "stdout",
     "output_type": "stream",
     "text": [
      "KL divergence pour a: 0.0\n",
      "KL divergence pour b: 1.034758245349844\n",
      "KL divergence pour c: 0.0\n",
      "KL divergence pour d: 0.7698384481020012\n",
      "KL divergence pour e: 0.0\n"
     ]
    }
   ],
   "source": [
    "# Calcul des divergences KL\n",
    "kl_divs = {}\n",
    "\n",
    "for var in ['a', 'b', 'c', 'd', 'e']:\n",
    "    original = eval(var)  # Les données originales\n",
    "    generated = generated_data[var]  # Les données générées\n",
    "    \n",
    "    # Pour b et d, nous devons aplatir les arrays 2D\n",
    "    if var in ['b', 'd']:\n",
    "        original = original.flatten()\n",
    "        generated = generated.flatten()\n",
    "    \n",
    "    kl_divs[var] = kl_divergence(original, generated)\n",
    "\n",
    "# Affichage des résultats\n",
    "for var, kl_div in kl_divs.items():\n",
    "    print(f\"KL divergence pour {var}: {kl_div}\")"
   ]
  },
  {
   "cell_type": "code",
   "metadata": {
    "ExecuteTime": {
     "end_time": "2024-09-10T21:56:19.517111Z",
     "start_time": "2024-09-10T21:56:18.283428Z"
    }
   },
   "source": [
    "import matplotlib.pyplot as plt\n",
    "import seaborn as sns\n",
    "\n",
    "# Create a joint plot of the original and generated A and B distributions\n",
    "plt.figure(figsize=(12, 10))\n",
    "\n",
    "# Original data\n",
    "sns.jointplot(x=a, y=b.flatten(), kind='scatter', color='blue', alpha=0.5, label='Original')\n",
    "\n",
    "# Generated data\n",
    "sns.jointplot(x=generated_data['a'], y=generated_data['b'].flatten(), kind='scatter', color='red', alpha=0.5, label='Generated')\n",
    "\n",
    "plt.suptitle('Joint Distribution of A and B: Original vs Generated', y=1.02)\n",
    "plt.tight_layout()\n",
    "\n",
    "# Add legend\n",
    "plt.legend(loc='upper right')\n",
    "\n",
    "plt.show()\n"
   ],
   "outputs": [
    {
     "ename": "ValueError",
     "evalue": "All arrays must be of the same length",
     "output_type": "error",
     "traceback": [
      "\u001B[0;31m---------------------------------------------------------------------------\u001B[0m",
      "\u001B[0;31mValueError\u001B[0m                                Traceback (most recent call last)",
      "Cell \u001B[0;32mIn[35], line 8\u001B[0m\n\u001B[1;32m      5\u001B[0m plt\u001B[38;5;241m.\u001B[39mfigure(figsize\u001B[38;5;241m=\u001B[39m(\u001B[38;5;241m12\u001B[39m, \u001B[38;5;241m10\u001B[39m))\n\u001B[1;32m      7\u001B[0m \u001B[38;5;66;03m# Original data\u001B[39;00m\n\u001B[0;32m----> 8\u001B[0m \u001B[43msns\u001B[49m\u001B[38;5;241;43m.\u001B[39;49m\u001B[43mjointplot\u001B[49m\u001B[43m(\u001B[49m\u001B[43mx\u001B[49m\u001B[38;5;241;43m=\u001B[39;49m\u001B[43ma\u001B[49m\u001B[43m,\u001B[49m\u001B[43m \u001B[49m\u001B[43my\u001B[49m\u001B[38;5;241;43m=\u001B[39;49m\u001B[43mb\u001B[49m\u001B[38;5;241;43m.\u001B[39;49m\u001B[43mflatten\u001B[49m\u001B[43m(\u001B[49m\u001B[43m)\u001B[49m\u001B[43m,\u001B[49m\u001B[43m \u001B[49m\u001B[43mkind\u001B[49m\u001B[38;5;241;43m=\u001B[39;49m\u001B[38;5;124;43m'\u001B[39;49m\u001B[38;5;124;43mscatter\u001B[39;49m\u001B[38;5;124;43m'\u001B[39;49m\u001B[43m,\u001B[49m\u001B[43m \u001B[49m\u001B[43mcolor\u001B[49m\u001B[38;5;241;43m=\u001B[39;49m\u001B[38;5;124;43m'\u001B[39;49m\u001B[38;5;124;43mblue\u001B[39;49m\u001B[38;5;124;43m'\u001B[39;49m\u001B[43m,\u001B[49m\u001B[43m \u001B[49m\u001B[43malpha\u001B[49m\u001B[38;5;241;43m=\u001B[39;49m\u001B[38;5;241;43m0.5\u001B[39;49m\u001B[43m,\u001B[49m\u001B[43m \u001B[49m\u001B[43mlabel\u001B[49m\u001B[38;5;241;43m=\u001B[39;49m\u001B[38;5;124;43m'\u001B[39;49m\u001B[38;5;124;43mOriginal\u001B[39;49m\u001B[38;5;124;43m'\u001B[39;49m\u001B[43m)\u001B[49m\n\u001B[1;32m     10\u001B[0m \u001B[38;5;66;03m# Generated data\u001B[39;00m\n\u001B[1;32m     11\u001B[0m sns\u001B[38;5;241m.\u001B[39mjointplot(x\u001B[38;5;241m=\u001B[39mgenerated_data[\u001B[38;5;124m'\u001B[39m\u001B[38;5;124ma\u001B[39m\u001B[38;5;124m'\u001B[39m], y\u001B[38;5;241m=\u001B[39mgenerated_data[\u001B[38;5;124m'\u001B[39m\u001B[38;5;124mb\u001B[39m\u001B[38;5;124m'\u001B[39m]\u001B[38;5;241m.\u001B[39mflatten(), kind\u001B[38;5;241m=\u001B[39m\u001B[38;5;124m'\u001B[39m\u001B[38;5;124mscatter\u001B[39m\u001B[38;5;124m'\u001B[39m, color\u001B[38;5;241m=\u001B[39m\u001B[38;5;124m'\u001B[39m\u001B[38;5;124mred\u001B[39m\u001B[38;5;124m'\u001B[39m, alpha\u001B[38;5;241m=\u001B[39m\u001B[38;5;241m0.5\u001B[39m, label\u001B[38;5;241m=\u001B[39m\u001B[38;5;124m'\u001B[39m\u001B[38;5;124mGenerated\u001B[39m\u001B[38;5;124m'\u001B[39m)\n",
      "File \u001B[0;32m/usr/local/lib/python3.10/dist-packages/seaborn/axisgrid.py:2243\u001B[0m, in \u001B[0;36mjointplot\u001B[0;34m(data, x, y, hue, kind, height, ratio, space, dropna, xlim, ylim, color, palette, hue_order, hue_norm, marginal_ticks, joint_kws, marginal_kws, **kwargs)\u001B[0m\n\u001B[1;32m   2240\u001B[0m     dropna \u001B[38;5;241m=\u001B[39m \u001B[38;5;28;01mTrue\u001B[39;00m\n\u001B[1;32m   2242\u001B[0m \u001B[38;5;66;03m# Initialize the JointGrid object\u001B[39;00m\n\u001B[0;32m-> 2243\u001B[0m grid \u001B[38;5;241m=\u001B[39m \u001B[43mJointGrid\u001B[49m\u001B[43m(\u001B[49m\n\u001B[1;32m   2244\u001B[0m \u001B[43m    \u001B[49m\u001B[43mdata\u001B[49m\u001B[38;5;241;43m=\u001B[39;49m\u001B[43mdata\u001B[49m\u001B[43m,\u001B[49m\u001B[43m \u001B[49m\u001B[43mx\u001B[49m\u001B[38;5;241;43m=\u001B[39;49m\u001B[43mx\u001B[49m\u001B[43m,\u001B[49m\u001B[43m \u001B[49m\u001B[43my\u001B[49m\u001B[38;5;241;43m=\u001B[39;49m\u001B[43my\u001B[49m\u001B[43m,\u001B[49m\u001B[43m \u001B[49m\u001B[43mhue\u001B[49m\u001B[38;5;241;43m=\u001B[39;49m\u001B[43mhue\u001B[49m\u001B[43m,\u001B[49m\n\u001B[1;32m   2245\u001B[0m \u001B[43m    \u001B[49m\u001B[43mpalette\u001B[49m\u001B[38;5;241;43m=\u001B[39;49m\u001B[43mpalette\u001B[49m\u001B[43m,\u001B[49m\u001B[43m \u001B[49m\u001B[43mhue_order\u001B[49m\u001B[38;5;241;43m=\u001B[39;49m\u001B[43mhue_order\u001B[49m\u001B[43m,\u001B[49m\u001B[43m \u001B[49m\u001B[43mhue_norm\u001B[49m\u001B[38;5;241;43m=\u001B[39;49m\u001B[43mhue_norm\u001B[49m\u001B[43m,\u001B[49m\n\u001B[1;32m   2246\u001B[0m \u001B[43m    \u001B[49m\u001B[43mdropna\u001B[49m\u001B[38;5;241;43m=\u001B[39;49m\u001B[43mdropna\u001B[49m\u001B[43m,\u001B[49m\u001B[43m \u001B[49m\u001B[43mheight\u001B[49m\u001B[38;5;241;43m=\u001B[39;49m\u001B[43mheight\u001B[49m\u001B[43m,\u001B[49m\u001B[43m \u001B[49m\u001B[43mratio\u001B[49m\u001B[38;5;241;43m=\u001B[39;49m\u001B[43mratio\u001B[49m\u001B[43m,\u001B[49m\u001B[43m \u001B[49m\u001B[43mspace\u001B[49m\u001B[38;5;241;43m=\u001B[39;49m\u001B[43mspace\u001B[49m\u001B[43m,\u001B[49m\n\u001B[1;32m   2247\u001B[0m \u001B[43m    \u001B[49m\u001B[43mxlim\u001B[49m\u001B[38;5;241;43m=\u001B[39;49m\u001B[43mxlim\u001B[49m\u001B[43m,\u001B[49m\u001B[43m \u001B[49m\u001B[43mylim\u001B[49m\u001B[38;5;241;43m=\u001B[39;49m\u001B[43mylim\u001B[49m\u001B[43m,\u001B[49m\u001B[43m \u001B[49m\u001B[43mmarginal_ticks\u001B[49m\u001B[38;5;241;43m=\u001B[39;49m\u001B[43mmarginal_ticks\u001B[49m\u001B[43m,\u001B[49m\n\u001B[1;32m   2248\u001B[0m \u001B[43m\u001B[49m\u001B[43m)\u001B[49m\n\u001B[1;32m   2250\u001B[0m \u001B[38;5;28;01mif\u001B[39;00m grid\u001B[38;5;241m.\u001B[39mhue \u001B[38;5;129;01mis\u001B[39;00m \u001B[38;5;129;01mnot\u001B[39;00m \u001B[38;5;28;01mNone\u001B[39;00m:\n\u001B[1;32m   2251\u001B[0m     marginal_kws\u001B[38;5;241m.\u001B[39msetdefault(\u001B[38;5;124m\"\u001B[39m\u001B[38;5;124mlegend\u001B[39m\u001B[38;5;124m\"\u001B[39m, \u001B[38;5;28;01mFalse\u001B[39;00m)\n",
      "File \u001B[0;32m/usr/local/lib/python3.10/dist-packages/seaborn/axisgrid.py:1728\u001B[0m, in \u001B[0;36mJointGrid.__init__\u001B[0;34m(self, data, x, y, hue, height, ratio, space, palette, hue_order, hue_norm, dropna, xlim, ylim, marginal_ticks)\u001B[0m\n\u001B[1;32m   1725\u001B[0m     ax_marg_y\u001B[38;5;241m.\u001B[39mxaxis\u001B[38;5;241m.\u001B[39mgrid(\u001B[38;5;28;01mFalse\u001B[39;00m)\n\u001B[1;32m   1727\u001B[0m \u001B[38;5;66;03m# Process the input variables\u001B[39;00m\n\u001B[0;32m-> 1728\u001B[0m p \u001B[38;5;241m=\u001B[39m \u001B[43mVectorPlotter\u001B[49m\u001B[43m(\u001B[49m\u001B[43mdata\u001B[49m\u001B[38;5;241;43m=\u001B[39;49m\u001B[43mdata\u001B[49m\u001B[43m,\u001B[49m\u001B[43m \u001B[49m\u001B[43mvariables\u001B[49m\u001B[38;5;241;43m=\u001B[39;49m\u001B[38;5;28;43mdict\u001B[39;49m\u001B[43m(\u001B[49m\u001B[43mx\u001B[49m\u001B[38;5;241;43m=\u001B[39;49m\u001B[43mx\u001B[49m\u001B[43m,\u001B[49m\u001B[43m \u001B[49m\u001B[43my\u001B[49m\u001B[38;5;241;43m=\u001B[39;49m\u001B[43my\u001B[49m\u001B[43m,\u001B[49m\u001B[43m \u001B[49m\u001B[43mhue\u001B[49m\u001B[38;5;241;43m=\u001B[39;49m\u001B[43mhue\u001B[49m\u001B[43m)\u001B[49m\u001B[43m)\u001B[49m\n\u001B[1;32m   1729\u001B[0m plot_data \u001B[38;5;241m=\u001B[39m p\u001B[38;5;241m.\u001B[39mplot_data\u001B[38;5;241m.\u001B[39mloc[:, p\u001B[38;5;241m.\u001B[39mplot_data\u001B[38;5;241m.\u001B[39mnotna()\u001B[38;5;241m.\u001B[39many()]\n\u001B[1;32m   1731\u001B[0m \u001B[38;5;66;03m# Possibly drop NA\u001B[39;00m\n",
      "File \u001B[0;32m/usr/local/lib/python3.10/dist-packages/seaborn/_base.py:634\u001B[0m, in \u001B[0;36mVectorPlotter.__init__\u001B[0;34m(self, data, variables)\u001B[0m\n\u001B[1;32m    629\u001B[0m \u001B[38;5;66;03m# var_ordered is relevant only for categorical axis variables, and may\u001B[39;00m\n\u001B[1;32m    630\u001B[0m \u001B[38;5;66;03m# be better handled by an internal axis information object that tracks\u001B[39;00m\n\u001B[1;32m    631\u001B[0m \u001B[38;5;66;03m# such information and is set up by the scale_* methods. The analogous\u001B[39;00m\n\u001B[1;32m    632\u001B[0m \u001B[38;5;66;03m# information for numeric axes would be information about log scales.\u001B[39;00m\n\u001B[1;32m    633\u001B[0m \u001B[38;5;28mself\u001B[39m\u001B[38;5;241m.\u001B[39m_var_ordered \u001B[38;5;241m=\u001B[39m {\u001B[38;5;124m\"\u001B[39m\u001B[38;5;124mx\u001B[39m\u001B[38;5;124m\"\u001B[39m: \u001B[38;5;28;01mFalse\u001B[39;00m, \u001B[38;5;124m\"\u001B[39m\u001B[38;5;124my\u001B[39m\u001B[38;5;124m\"\u001B[39m: \u001B[38;5;28;01mFalse\u001B[39;00m}  \u001B[38;5;66;03m# alt., used DefaultDict\u001B[39;00m\n\u001B[0;32m--> 634\u001B[0m \u001B[38;5;28;43mself\u001B[39;49m\u001B[38;5;241;43m.\u001B[39;49m\u001B[43massign_variables\u001B[49m\u001B[43m(\u001B[49m\u001B[43mdata\u001B[49m\u001B[43m,\u001B[49m\u001B[43m \u001B[49m\u001B[43mvariables\u001B[49m\u001B[43m)\u001B[49m\n\u001B[1;32m    636\u001B[0m \u001B[38;5;66;03m# TODO Lots of tests assume that these are called to initialize the\u001B[39;00m\n\u001B[1;32m    637\u001B[0m \u001B[38;5;66;03m# mappings to default values on class initialization. I'd prefer to\u001B[39;00m\n\u001B[1;32m    638\u001B[0m \u001B[38;5;66;03m# move away from that and only have a mapping when explicitly called.\u001B[39;00m\n\u001B[1;32m    639\u001B[0m \u001B[38;5;28;01mfor\u001B[39;00m var \u001B[38;5;129;01min\u001B[39;00m [\u001B[38;5;124m\"\u001B[39m\u001B[38;5;124mhue\u001B[39m\u001B[38;5;124m\"\u001B[39m, \u001B[38;5;124m\"\u001B[39m\u001B[38;5;124msize\u001B[39m\u001B[38;5;124m\"\u001B[39m, \u001B[38;5;124m\"\u001B[39m\u001B[38;5;124mstyle\u001B[39m\u001B[38;5;124m\"\u001B[39m]:\n",
      "File \u001B[0;32m/usr/local/lib/python3.10/dist-packages/seaborn/_base.py:679\u001B[0m, in \u001B[0;36mVectorPlotter.assign_variables\u001B[0;34m(self, data, variables)\u001B[0m\n\u001B[1;32m    674\u001B[0m \u001B[38;5;28;01melse\u001B[39;00m:\n\u001B[1;32m    675\u001B[0m     \u001B[38;5;66;03m# When dealing with long-form input, use the newer PlotData\u001B[39;00m\n\u001B[1;32m    676\u001B[0m     \u001B[38;5;66;03m# object (internal but introduced for the objects interface)\u001B[39;00m\n\u001B[1;32m    677\u001B[0m     \u001B[38;5;66;03m# to centralize / standardize data consumption logic.\u001B[39;00m\n\u001B[1;32m    678\u001B[0m     \u001B[38;5;28mself\u001B[39m\u001B[38;5;241m.\u001B[39minput_format \u001B[38;5;241m=\u001B[39m \u001B[38;5;124m\"\u001B[39m\u001B[38;5;124mlong\u001B[39m\u001B[38;5;124m\"\u001B[39m\n\u001B[0;32m--> 679\u001B[0m     plot_data \u001B[38;5;241m=\u001B[39m \u001B[43mPlotData\u001B[49m\u001B[43m(\u001B[49m\u001B[43mdata\u001B[49m\u001B[43m,\u001B[49m\u001B[43m \u001B[49m\u001B[43mvariables\u001B[49m\u001B[43m)\u001B[49m\n\u001B[1;32m    680\u001B[0m     frame \u001B[38;5;241m=\u001B[39m plot_data\u001B[38;5;241m.\u001B[39mframe\n\u001B[1;32m    681\u001B[0m     names \u001B[38;5;241m=\u001B[39m plot_data\u001B[38;5;241m.\u001B[39mnames\n",
      "File \u001B[0;32m/usr/local/lib/python3.10/dist-packages/seaborn/_core/data.py:58\u001B[0m, in \u001B[0;36mPlotData.__init__\u001B[0;34m(self, data, variables)\u001B[0m\n\u001B[1;32m     51\u001B[0m \u001B[38;5;28;01mdef\u001B[39;00m \u001B[38;5;21m__init__\u001B[39m(\n\u001B[1;32m     52\u001B[0m     \u001B[38;5;28mself\u001B[39m,\n\u001B[1;32m     53\u001B[0m     data: DataSource,\n\u001B[1;32m     54\u001B[0m     variables: \u001B[38;5;28mdict\u001B[39m[\u001B[38;5;28mstr\u001B[39m, VariableSpec],\n\u001B[1;32m     55\u001B[0m ):\n\u001B[1;32m     57\u001B[0m     data \u001B[38;5;241m=\u001B[39m handle_data_source(data)\n\u001B[0;32m---> 58\u001B[0m     frame, names, ids \u001B[38;5;241m=\u001B[39m \u001B[38;5;28;43mself\u001B[39;49m\u001B[38;5;241;43m.\u001B[39;49m\u001B[43m_assign_variables\u001B[49m\u001B[43m(\u001B[49m\u001B[43mdata\u001B[49m\u001B[43m,\u001B[49m\u001B[43m \u001B[49m\u001B[43mvariables\u001B[49m\u001B[43m)\u001B[49m\n\u001B[1;32m     60\u001B[0m     \u001B[38;5;28mself\u001B[39m\u001B[38;5;241m.\u001B[39mframe \u001B[38;5;241m=\u001B[39m frame\n\u001B[1;32m     61\u001B[0m     \u001B[38;5;28mself\u001B[39m\u001B[38;5;241m.\u001B[39mnames \u001B[38;5;241m=\u001B[39m names\n",
      "File \u001B[0;32m/usr/local/lib/python3.10/dist-packages/seaborn/_core/data.py:265\u001B[0m, in \u001B[0;36mPlotData._assign_variables\u001B[0;34m(self, data, variables)\u001B[0m\n\u001B[1;32m    260\u001B[0m             ids[key] \u001B[38;5;241m=\u001B[39m \u001B[38;5;28mid\u001B[39m(val)\n\u001B[1;32m    262\u001B[0m \u001B[38;5;66;03m# Construct a tidy plot DataFrame. This will convert a number of\u001B[39;00m\n\u001B[1;32m    263\u001B[0m \u001B[38;5;66;03m# types automatically, aligning on index in case of pandas objects\u001B[39;00m\n\u001B[1;32m    264\u001B[0m \u001B[38;5;66;03m# TODO Note: this fails when variable specs *only* have scalars!\u001B[39;00m\n\u001B[0;32m--> 265\u001B[0m frame \u001B[38;5;241m=\u001B[39m \u001B[43mpd\u001B[49m\u001B[38;5;241;43m.\u001B[39;49m\u001B[43mDataFrame\u001B[49m\u001B[43m(\u001B[49m\u001B[43mplot_data\u001B[49m\u001B[43m)\u001B[49m\n\u001B[1;32m    267\u001B[0m \u001B[38;5;28;01mreturn\u001B[39;00m frame, names, ids\n",
      "File \u001B[0;32m/usr/local/lib/python3.10/dist-packages/pandas/core/frame.py:709\u001B[0m, in \u001B[0;36mDataFrame.__init__\u001B[0;34m(self, data, index, columns, dtype, copy)\u001B[0m\n\u001B[1;32m    703\u001B[0m     mgr \u001B[38;5;241m=\u001B[39m \u001B[38;5;28mself\u001B[39m\u001B[38;5;241m.\u001B[39m_init_mgr(\n\u001B[1;32m    704\u001B[0m         data, axes\u001B[38;5;241m=\u001B[39m{\u001B[38;5;124m\"\u001B[39m\u001B[38;5;124mindex\u001B[39m\u001B[38;5;124m\"\u001B[39m: index, \u001B[38;5;124m\"\u001B[39m\u001B[38;5;124mcolumns\u001B[39m\u001B[38;5;124m\"\u001B[39m: columns}, dtype\u001B[38;5;241m=\u001B[39mdtype, copy\u001B[38;5;241m=\u001B[39mcopy\n\u001B[1;32m    705\u001B[0m     )\n\u001B[1;32m    707\u001B[0m \u001B[38;5;28;01melif\u001B[39;00m \u001B[38;5;28misinstance\u001B[39m(data, \u001B[38;5;28mdict\u001B[39m):\n\u001B[1;32m    708\u001B[0m     \u001B[38;5;66;03m# GH#38939 de facto copy defaults to False only in non-dict cases\u001B[39;00m\n\u001B[0;32m--> 709\u001B[0m     mgr \u001B[38;5;241m=\u001B[39m \u001B[43mdict_to_mgr\u001B[49m\u001B[43m(\u001B[49m\u001B[43mdata\u001B[49m\u001B[43m,\u001B[49m\u001B[43m \u001B[49m\u001B[43mindex\u001B[49m\u001B[43m,\u001B[49m\u001B[43m \u001B[49m\u001B[43mcolumns\u001B[49m\u001B[43m,\u001B[49m\u001B[43m \u001B[49m\u001B[43mdtype\u001B[49m\u001B[38;5;241;43m=\u001B[39;49m\u001B[43mdtype\u001B[49m\u001B[43m,\u001B[49m\u001B[43m \u001B[49m\u001B[43mcopy\u001B[49m\u001B[38;5;241;43m=\u001B[39;49m\u001B[43mcopy\u001B[49m\u001B[43m,\u001B[49m\u001B[43m \u001B[49m\u001B[43mtyp\u001B[49m\u001B[38;5;241;43m=\u001B[39;49m\u001B[43mmanager\u001B[49m\u001B[43m)\u001B[49m\n\u001B[1;32m    710\u001B[0m \u001B[38;5;28;01melif\u001B[39;00m \u001B[38;5;28misinstance\u001B[39m(data, ma\u001B[38;5;241m.\u001B[39mMaskedArray):\n\u001B[1;32m    711\u001B[0m     \u001B[38;5;28;01mfrom\u001B[39;00m \u001B[38;5;21;01mnumpy\u001B[39;00m\u001B[38;5;21;01m.\u001B[39;00m\u001B[38;5;21;01mma\u001B[39;00m \u001B[38;5;28;01mimport\u001B[39;00m mrecords\n",
      "File \u001B[0;32m/usr/local/lib/python3.10/dist-packages/pandas/core/internals/construction.py:481\u001B[0m, in \u001B[0;36mdict_to_mgr\u001B[0;34m(data, index, columns, dtype, typ, copy)\u001B[0m\n\u001B[1;32m    477\u001B[0m     \u001B[38;5;28;01melse\u001B[39;00m:\n\u001B[1;32m    478\u001B[0m         \u001B[38;5;66;03m# dtype check to exclude e.g. range objects, scalars\u001B[39;00m\n\u001B[1;32m    479\u001B[0m         arrays \u001B[38;5;241m=\u001B[39m [x\u001B[38;5;241m.\u001B[39mcopy() \u001B[38;5;28;01mif\u001B[39;00m \u001B[38;5;28mhasattr\u001B[39m(x, \u001B[38;5;124m\"\u001B[39m\u001B[38;5;124mdtype\u001B[39m\u001B[38;5;124m\"\u001B[39m) \u001B[38;5;28;01melse\u001B[39;00m x \u001B[38;5;28;01mfor\u001B[39;00m x \u001B[38;5;129;01min\u001B[39;00m arrays]\n\u001B[0;32m--> 481\u001B[0m \u001B[38;5;28;01mreturn\u001B[39;00m \u001B[43marrays_to_mgr\u001B[49m\u001B[43m(\u001B[49m\u001B[43marrays\u001B[49m\u001B[43m,\u001B[49m\u001B[43m \u001B[49m\u001B[43mcolumns\u001B[49m\u001B[43m,\u001B[49m\u001B[43m \u001B[49m\u001B[43mindex\u001B[49m\u001B[43m,\u001B[49m\u001B[43m \u001B[49m\u001B[43mdtype\u001B[49m\u001B[38;5;241;43m=\u001B[39;49m\u001B[43mdtype\u001B[49m\u001B[43m,\u001B[49m\u001B[43m \u001B[49m\u001B[43mtyp\u001B[49m\u001B[38;5;241;43m=\u001B[39;49m\u001B[43mtyp\u001B[49m\u001B[43m,\u001B[49m\u001B[43m \u001B[49m\u001B[43mconsolidate\u001B[49m\u001B[38;5;241;43m=\u001B[39;49m\u001B[43mcopy\u001B[49m\u001B[43m)\u001B[49m\n",
      "File \u001B[0;32m/usr/local/lib/python3.10/dist-packages/pandas/core/internals/construction.py:115\u001B[0m, in \u001B[0;36marrays_to_mgr\u001B[0;34m(arrays, columns, index, dtype, verify_integrity, typ, consolidate)\u001B[0m\n\u001B[1;32m    112\u001B[0m \u001B[38;5;28;01mif\u001B[39;00m verify_integrity:\n\u001B[1;32m    113\u001B[0m     \u001B[38;5;66;03m# figure out the index, if necessary\u001B[39;00m\n\u001B[1;32m    114\u001B[0m     \u001B[38;5;28;01mif\u001B[39;00m index \u001B[38;5;129;01mis\u001B[39;00m \u001B[38;5;28;01mNone\u001B[39;00m:\n\u001B[0;32m--> 115\u001B[0m         index \u001B[38;5;241m=\u001B[39m \u001B[43m_extract_index\u001B[49m\u001B[43m(\u001B[49m\u001B[43marrays\u001B[49m\u001B[43m)\u001B[49m\n\u001B[1;32m    116\u001B[0m     \u001B[38;5;28;01melse\u001B[39;00m:\n\u001B[1;32m    117\u001B[0m         index \u001B[38;5;241m=\u001B[39m ensure_index(index)\n",
      "File \u001B[0;32m/usr/local/lib/python3.10/dist-packages/pandas/core/internals/construction.py:655\u001B[0m, in \u001B[0;36m_extract_index\u001B[0;34m(data)\u001B[0m\n\u001B[1;32m    653\u001B[0m lengths \u001B[38;5;241m=\u001B[39m \u001B[38;5;28mlist\u001B[39m(\u001B[38;5;28mset\u001B[39m(raw_lengths))\n\u001B[1;32m    654\u001B[0m \u001B[38;5;28;01mif\u001B[39;00m \u001B[38;5;28mlen\u001B[39m(lengths) \u001B[38;5;241m>\u001B[39m \u001B[38;5;241m1\u001B[39m:\n\u001B[0;32m--> 655\u001B[0m     \u001B[38;5;28;01mraise\u001B[39;00m \u001B[38;5;167;01mValueError\u001B[39;00m(\u001B[38;5;124m\"\u001B[39m\u001B[38;5;124mAll arrays must be of the same length\u001B[39m\u001B[38;5;124m\"\u001B[39m)\n\u001B[1;32m    657\u001B[0m \u001B[38;5;28;01mif\u001B[39;00m have_dicts:\n\u001B[1;32m    658\u001B[0m     \u001B[38;5;28;01mraise\u001B[39;00m \u001B[38;5;167;01mValueError\u001B[39;00m(\n\u001B[1;32m    659\u001B[0m         \u001B[38;5;124m\"\u001B[39m\u001B[38;5;124mMixing dicts with non-Series may lead to ambiguous ordering.\u001B[39m\u001B[38;5;124m\"\u001B[39m\n\u001B[1;32m    660\u001B[0m     )\n",
      "\u001B[0;31mValueError\u001B[0m: All arrays must be of the same length"
     ]
    },
    {
     "data": {
      "text/plain": [
       "<Figure size 1200x1000 with 0 Axes>"
      ]
     },
     "metadata": {},
     "output_type": "display_data"
    },
    {
     "data": {
      "text/plain": [
       "<Figure size 600x600 with 3 Axes>"
      ],
      "image/png": "[encoded data removed]"
     },
     "metadata": {},
     "output_type": "display_data"
    }
   ],
   "execution_count": 35
  },
  {
   "cell_type": "code",
   "execution_count": null,
   "metadata": {},
   "outputs": [],
   "source": []
  },
  {
   "cell_type": "code",
   "execution_count": 2,
   "metadata": {
    "ExecuteTime": {
     "end_time": "2024-09-10T21:02:20.543867Z",
     "start_time": "2024-09-10T21:02:20.538313Z"
    }
   },
   "outputs": [],
   "source": []
  },
  {
   "cell_type": "code",
   "execution_count": 2,
   "metadata": {
    "ExecuteTime": {
     "end_time": "2024-09-10T21:02:20.916124Z",
     "start_time": "2024-09-10T21:02:20.910981Z"
    }
   },
   "outputs": [],
   "source": []
  },
  {
   "cell_type": "code",
   "execution_count": 2,
   "metadata": {
    "ExecuteTime": {
     "end_time": "2024-09-10T21:02:20.923743Z",
     "start_time": "2024-09-10T21:02:20.919778Z"
    }
   },
   "outputs": [],
   "source": []
  },
  {
   "cell_type": "code",
   "execution_count": 2,
   "metadata": {
    "ExecuteTime": {
     "end_time": "2024-09-10T21:02:20.936509Z",
     "start_time": "2024-09-10T21:02:20.933381Z"
    }
   },
   "outputs": [],
   "source": []
  },
  {
   "cell_type": "code",
   "execution_count": 2,
   "metadata": {
    "ExecuteTime": {
     "end_time": "2024-09-10T21:02:21.134907Z",
     "start_time": "2024-09-10T21:02:21.130093Z"
    }
   },
   "outputs": [],
   "source": []
  },
  {
   "cell_type": "code",
   "execution_count": 2,
   "metadata": {
    "ExecuteTime": {
     "end_time": "2024-09-10T21:02:21.592556Z",
     "start_time": "2024-09-10T21:02:21.587574Z"
    }
   },
   "outputs": [],
   "source": []
  },
  {
   "cell_type": "code",
   "execution_count": 2,
   "metadata": {
    "ExecuteTime": {
     "end_time": "2024-09-10T21:02:21.627035Z",
     "start_time": "2024-09-10T21:02:21.624261Z"
    }
   },
   "outputs": [],
   "source": []
  },
  {
   "cell_type": "code",
   "execution_count": 2,
   "metadata": {
    "ExecuteTime": {
     "end_time": "2024-09-10T21:02:21.631941Z",
     "start_time": "2024-09-10T21:02:21.628976Z"
    }
   },
   "outputs": [],
   "source": []
  },
  {
   "cell_type": "code",
   "execution_count": 2,
   "metadata": {
    "ExecuteTime": {
     "end_time": "2024-09-10T21:02:21.680837Z",
     "start_time": "2024-09-10T21:02:21.676422Z"
    }
   },
   "outputs": [],
   "source": []
  },
  {
   "cell_type": "code",
   "execution_count": 2,
   "metadata": {
    "ExecuteTime": {
     "end_time": "2024-09-10T21:02:21.813483Z",
     "start_time": "2024-09-10T21:02:21.808540Z"
    }
   },
   "outputs": [],
   "source": []
  },
  {
   "cell_type": "code",
   "execution_count": 2,
   "metadata": {
    "ExecuteTime": {
     "end_time": "2024-09-10T21:02:22.280218Z",
     "start_time": "2024-09-10T21:02:22.275230Z"
    }
   },
   "outputs": [],
   "source": []
  },
  {
   "cell_type": "code",
   "execution_count": 2,
   "metadata": {
    "ExecuteTime": {
     "end_time": "2024-09-10T21:02:22.289712Z",
     "start_time": "2024-09-10T21:02:22.284867Z"
    }
   },
   "outputs": [],
   "source": []
  },
  {
   "cell_type": "code",
   "execution_count": null,
   "metadata": {},
   "outputs": [],
   "source": [
    "\n",
    "def preprocess_data(self):\n",
    "    data = {}\n",
    "    for var in self.unit_vars:\n",
    "        for i in range(len(self.sizes)):\n",
    "            data[var + str(i)] = self.data[var + str(i)]\n",
    "    for var in self.subunit_vars:\n",
    "        for i in range(len(self.sizes)):\n",
    "            s = 0\n",
    "            for j in range(self.sizes[i]):\n",
    "                s += self.data['_' + var + str(i) + '_' + str(j)]\n",
    "            data[var + str(i)] = s / self.sizes[i]\n",
    "    return data\n",
    "\n",
    "\n",
    "class HierarchicalBayesSampler:\n",
    "    def __init__(self, graph, data, unit_vars, subunit_vars, sizes):\n",
    "        self.graph = nx.DiGraph(graph)\n",
    "        self.data = data\n",
    "        self.unit_vars = unit_vars\n",
    "        self.subunit_vars = subunit_vars\n",
    "        self.sizes = sizes\n",
    "        self.processed_data = self.preprocess_data()\n",
    "\n",
    "    def preprocess_data(self):\n",
    "        data = {}\n",
    "        for var in self.unit_vars:\n",
    "            for i in range(len(self.sizes)):\n",
    "                data[var + str(i)] = self.data[var + str(i)]\n",
    "        for var in self.subunit_vars:\n",
    "            for i in range(len(self.sizes)):\n",
    "                s = 0\n",
    "                for j in range(self.sizes[i]):\n",
    "                    s += self.data['_' + var + str(i) + '_' + str(j)]\n",
    "                data[var + str(i)] = s / self.sizes[i]\n",
    "        return data\n",
    "\n",
    "    def generate(self):  # num_samples est maintenant 2\n",
    "        num_samples = self.sizes[0]\n",
    "        with pm.Model() as model:\n",
    "            # Hyperpriors\n",
    "            mu = {var: pm.Normal(f'mu_{var}', mu=0, sigma=1) for var in self.unit_vars + self.subunit_vars}\n",
    "            sigma = {var: pm.HalfNormal(f'sigma_{var}', sigma=1) for var in self.unit_vars + self.subunit_vars}\n",
    "\n",
    "            # Priors pour les variables de niveau supérieur\n",
    "            variables = {}\n",
    "            for var in self.unit_vars:\n",
    "                variables[var] = pm.Normal(var, mu=mu[var], sigma=sigma[var], shape=len(self.sizes))\n",
    "\n",
    "            # Priors pour les variables de niveau inférieur (sous-unités)\n",
    "            subunit_variables = {}\n",
    "            for var in self.subunit_vars:\n",
    "                for i in range(len(self.sizes)):\n",
    "                    subunit_variables[f'{var}{i}'] = pm.Normal(f'{var}{i}', mu=mu[var], sigma=sigma[var],\n",
    "                                                               shape=self.sizes[i])\n",
    "\n",
    "            # Likelihood pour les variables de niveau supérieur\n",
    "            for var in self.unit_vars:\n",
    "                pm.Normal(f'obs_{var}', mu=variables[var], sigma=1,\n",
    "                          observed=np.array([self.processed_data[f'{var}{i}'] for i in range(len(self.sizes))]))\n",
    "\n",
    "            # Likelihood pour les variables de niveau inférieur (sous-unités)\n",
    "            for var in self.subunit_vars:\n",
    "                for i in range(len(self.sizes)):\n",
    "                    pm.Normal(f'obs_{var}{i}',\n",
    "                              mu=subunit_variables[f'{var}{i}'],\n",
    "                              sigma=1,\n",
    "                              observed=np.array([self.data[f'_{var}{i}_{j}'] for j in range(self.sizes[i])]))\n",
    "\n",
    "            # Sampling\n",
    "            trace = pm.sample(num_samples, return_inferencedata=False)\n",
    "\n",
    "        # Extraction des échantillons\n",
    "        generated_data = {}\n",
    "        for var in self.unit_vars:\n",
    "            generated_data[var] = trace[var][0]  # Prend le premier (et seul) échantillon\n",
    "\n",
    "        # Extraction et génération des sous-unités\n",
    "        for var in self.subunit_vars:\n",
    "            for i in range(len(self.sizes)):\n",
    "                generated_data[f'{var}{i}'] = trace[f'{var}{i}'][0]  # Prend le premier (et seul) échantillon\n",
    "\n",
    "        return generated_data\n",
    "\n",
    "    def generate_cond(self):\n",
    "        num_samples = self.sizes[0]\n",
    "        with pm.Model() as model:\n",
    "            # Hyperpriors pour les autres variables\n",
    "            mu = {var: pm.Normal(f'mu_{var}', mu=0, sigma=1) for var in self.unit_vars + ['d']}\n",
    "            sigma = {var: pm.HalfNormal(f'sigma_{var}', sigma=1) for var in self.unit_vars + ['d']}\n",
    "\n",
    "            # Priors pour les variables de niveau supérieur\n",
    "            variables = {}\n",
    "            for var in self.unit_vars:\n",
    "                variables[var] = pm.Normal(var, mu=mu[var], sigma=sigma[var], shape=len(self.sizes))\n",
    "\n",
    "            # b est défini comme une variable observée suivant une loi normale standard\n",
    "            b = pm.Normal('b', mu=0, sigma=1, shape=(len(self.sizes), max(self.sizes)),\n",
    "                          observed=np.random.normal(0, 1, (len(self.sizes), max(self.sizes))))\n",
    "\n",
    "            # Priors pour les autres variables de niveau inférieur (d)\n",
    "            subunit_variables = {}\n",
    "            for i in range(len(self.sizes)):\n",
    "                subunit_variables[f'd{i}'] = pm.Normal(f'd{i}', mu=mu['d'], sigma=sigma['d'], shape=self.sizes[i])\n",
    "\n",
    "            # Likelihood pour les variables de niveau supérieur\n",
    "            for var in self.unit_vars:\n",
    "                pm.Normal(f'obs_{var}', mu=variables[var], sigma=1,\n",
    "                          observed=np.array([self.processed_data[f'{var}{i}'] for i in range(len(self.sizes))]))\n",
    "\n",
    "            # Likelihood pour d\n",
    "            for i in range(len(self.sizes)):\n",
    "                pm.Normal(f'obs_d{i}',\n",
    "                          mu=subunit_variables[f'd{i}'],\n",
    "                          sigma=1,\n",
    "                          observed=np.array([self.data[f'_d{i}_{j}'] for j in range(self.sizes[i])]))\n",
    "\n",
    "            # Sampling\n",
    "            trace = pm.sample(num_samples, return_inferencedata=False)\n",
    "\n",
    "        # Extraction des échantillons\n",
    "        generated_data = {}\n",
    "        for var in self.unit_vars:\n",
    "            generated_data[var] = trace[var][0]\n",
    "\n",
    "        # Génération de b (toujours à partir d'une loi normale standard)\n",
    "        for i in range(len(self.sizes)):\n",
    "            generated_data[f'b{i}'] = np.random.normal(0, 1, size=self.sizes[i])\n",
    "\n",
    "        # Extraction de d\n",
    "        for i in range(len(self.sizes)):\n",
    "            generated_data[f'd{i}'] = trace[f'd{i}'][0]\n",
    "\n",
    "        return generated_data\n",
    "\n",
    "\n",
    "# Usage\n",
    "n_schools = 50\n",
    "n_students = 50\n",
    "graph = [('a', '_b'), ('a', 'c'), ('_b', 'c'), ('c', '_d'), ('_b', '_d'), ('_d', 'e'), ('c', 'e')]\n",
    "\n",
    "# Generate data for b and d\n",
    "for i in range(n_schools):\n",
    "    for j in range(n_students):\n",
    "        data[f'_b{i}_{j}'] = 2 * i + j % 2 + 1  # This creates a slight variation between students\n",
    "        data[f'_d{i}_{j}'] = 2 * i + j % 2 + 7  # This creates a slight variation between students\n",
    "\n",
    "unit_vars = ['a', 'c', 'e']\n",
    "subunit_vars = ['b', 'd']\n",
    "sizes = [n_students] * n_schools\n",
    "\n",
    "sampling\n",
    "\n",
    "sampler = HierarchicalBayesSampler(graph, data, unit_vars, subunit_vars, sizes)\n",
    "\n",
    "generated_data = sampler.generate()\n",
    "print(generated_data)\n",
    "\n",
    "generated_data_cond = sampler.generate_cond()\n",
    "print(generated_data_cond)"
   ]
  },
  {
   "cell_type": "code",
   "execution_count": null,
   "metadata": {},
   "outputs": [],
   "source": [
    "# Compute KL divergence for 'e' variable\n",
    "e_generated = generated_data['e']\n",
    "e_original = np.array([sampler.processed_data[f'e{i}'] for i in range(len(sizes))])\n",
    "\n",
    "e_generated_cond = generated_data_cond['e']\n",
    "\n",
    "kl_div = kl_divergence(e_original, e_generated)\n",
    "print(f\"KL divergence between original 'e' and generated 'e': {kl_div}\")\n",
    "kl_div_cond = kl_divergence(e_original, e_generated_cond)\n",
    "print(f\"KL divergence between original 'e' and generated 'e' with conditionning: {kl_div_cond}\")\n"
   ]
  }
 ],
 "metadata": {
  "kernelspec": {
   "display_name": "Python 3",
   "language": "python",
   "name": "python3"
  },
  "language_info": {
   "codemirror_mode": {
    "name": "ipython",
    "version": 3
   },
   "file_extension": ".py",
   "mimetype": "text/x-python",
   "name": "python",
   "nbconvert_exporter": "python",
   "pygments_lexer": "ipython3",
   "version": "3.11.9"
  }
 },
 "nbformat": 4,
 "nbformat_minor": 2
}
