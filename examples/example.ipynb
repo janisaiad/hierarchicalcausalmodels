{
 "cells": [
  {
   "metadata": {
    "ExecuteTime": {
     "end_time": "2024-08-10T21:03:52.273641Z",
     "start_time": "2024-08-10T21:03:52.262066Z"
    }
   },
   "cell_type": "code",
   "source": [
    "import numpy as np\n",
    "import pandas as pd\n",
    "import networkx as nx\n",
    "from HSCM import HSCM\n",
    "\n",
    "import graphviz\n"
   ],
   "id": "131eef8a3ab46b53",
   "outputs": [],
   "execution_count": 20
  },
  {
   "metadata": {
    "ExecuteTime": {
     "end_time": "2024-08-10T21:01:25.903520Z",
     "start_time": "2024-08-10T21:01:25.898004Z"
    }
   },
   "cell_type": "code",
   "source": "",
   "id": "89d313fba725dc09",
   "outputs": [
    {
     "name": "stdout",
     "output_type": "stream",
     "text": [
      "<HSCM.HSCM object at 0xe84feffdb210>\n"
     ]
    }
   ],
   "execution_count": 18
  },
  {
   "cell_type": "code",
   "id": "initial_id",
   "metadata": {
    "collapsed": true,
    "ExecuteTime": {
     "end_time": "2024-08-13T14:46:47.779280Z",
     "start_time": "2024-08-13T14:46:47.713957Z"
    }
   },
   "source": "import numpy as np",
   "outputs": [],
   "execution_count": 1
  },
  {
   "metadata": {
    "ExecuteTime": {
     "end_time": "2024-08-13T14:47:24.327576Z",
     "start_time": "2024-08-13T14:47:24.318889Z"
    }
   },
   "cell_type": "code",
   "source": "np.random.uniform()",
   "id": "8827dfb7eb66774a",
   "outputs": [
    {
     "data": {
      "text/plain": [
       "0.5819959026858219"
      ]
     },
     "execution_count": 8,
     "metadata": {},
     "output_type": "execute_result"
    }
   ],
   "execution_count": 8
  },
  {
   "metadata": {
    "ExecuteTime": {
     "end_time": "2024-08-12T20:18:08.621505Z",
     "start_time": "2024-08-12T20:18:08.209506Z"
    }
   },
   "cell_type": "code",
   "source": [
    "import numpy as np\n",
    "import pandas as pd\n",
    "import networkx as nx\n",
    "from HSCM import HSCM\n",
    "\n",
    "import graphviz\n",
    "\n",
    "\n",
    "coeffs = {\n",
    "    \"a\": {\"mean\": 0, \"std\": 1},\n",
    "    \"b\": {\"a\": 1.5, \"mean\": 0, \"std\": 1},\n",
    "    \"c\": {\"a\": 0.5, \"b\": 2.0, \"mean\": 0, \"std\": 1},\n",
    "    \"d\": {\"b\": 1.0, \"c\": 1.0, \"mean\": 0, \"std\": 1},\n",
    "    \"e\": {\"d\": 3.0,'b':1, \"mean\": 0, \"std\": 1}\n",
    "}\n",
    "\n",
    "# Define the\n",
    "\n",
    "# Define the nodes, edges, unit nodes, subunit nodes, and sizes\n",
    "nodes = [\"a\", \"b\", \"c\", \"d\", \"e\"]\n",
    "edges = [(\"a\", \"b\"),('a','c'), (\"b\", \"c\"), (\"c\", \"d\"),(\"b\",\"d\"), (\"d\", \"e\"),(\"b\", \"e\")]\n",
    "unit_nodes = [\"a\", \"b\", \"c\", \"e\"]\n",
    "subunit_nodes = [\"d\",\"b\"]\n",
    "sizes = [3, 2]\n",
    "\n",
    "\n"
   ],
   "id": "cfaa2576c6178db7",
   "outputs": [],
   "execution_count": 1
  },
  {
   "metadata": {
    "ExecuteTime": {
     "end_time": "2024-08-12T20:18:10.055012Z",
     "start_time": "2024-08-12T20:18:09.999237Z"
    }
   },
   "cell_type": "code",
   "source": [
    "\n",
    "# Create an instance of the HSCM class\n",
    "hscm = HSCM(nodes, edges, unit_nodes, subunit_nodes, sizes, node_functions={})\n",
    "# hscm.print_predecessors()\n",
    "hscm.linear_model(coeffs)\n",
    "# Sample data\n",
    "sampled_data = hscm.sample_data()\n",
    "\n",
    "def print_sampled_data(sampled_data):\n",
    "    for key in sampled_data:\n",
    "        print(key, sampled_data[key])\n",
    "\n",
    "# Print the sampled data\n",
    "print_sampled_data(sampled_data)\n",
    "\n",
    "# Print the graph\n",
    "hscm.cgm.draw()"
   ],
   "id": "9263fe3c6fb9d13e",
   "outputs": [
    {
     "name": "stdout",
     "output_type": "stream",
     "text": [
      "{}\n",
      "{}\n",
      "{'a0': 1.23768121747306, '_b0': {0.7454797609811257, 2.974875738957427, 2.316864616436302}}\n",
      "{'_b1': {-1.5655730791947575, -1.9270805718907194}, 'a1': -0.8605065484321925}\n",
      "{'_b0': {0.7454797609811257, 2.974875738957427, 2.316864616436302}, '_d0': {-0.11091929123251776, 1.054029918764285, 3.0127509895014253}}\n",
      "{'_d1': {-0.7501195710352322, -1.317502530492236}, '_b1': {-1.5655730791947575, -1.9270805718907194}}\n",
      "a0 1.23768121747306\n",
      "a1 -0.8605065484321925\n",
      "_b0_0 0.7454797609811257\n",
      "_b0_1 2.974875738957427\n",
      "_b0_2 2.316864616436302\n",
      "_b1_0 -1.5655730791947575\n",
      "_b1_1 -1.9270805718907194\n",
      "c0 4.044341867913983\n",
      "c1 -4.506176630404957\n",
      "_d0_0 -0.11091929123251776\n",
      "_d0_1 1.054029918764285\n",
      "_d0_2 3.0127509895014253\n",
      "_d1_0 -0.7501195710352322\n",
      "_d1_1 -1.317502530492236\n",
      "e0 5.929221132697814\n",
      "e1 -5.813109702919284\n"
     ]
    },
    {
     "data": {
      "image/svg+xml": "<?xml version=\"1.0\" encoding=\"UTF-8\" standalone=\"no\"?>\n<!DOCTYPE svg PUBLIC \"-//W3C//DTD SVG 1.1//EN\"\n \"http://www.w3.org/Graphics/SVG/1.1/DTD/svg11.dtd\">\n<!-- Generated by graphviz version 2.43.0 (0)\n -->\n<!-- Title: %3 Pages: 1 -->\n<svg width=\"128pt\" height=\"332pt\"\n viewBox=\"0.00 0.00 128.00 332.00\" xmlns=\"http://www.w3.org/2000/svg\" xmlns:xlink=\"http://www.w3.org/1999/xlink\">\n<g id=\"graph0\" class=\"graph\" transform=\"scale(1 1) rotate(0) translate(4 328)\">\n<title>%3</title>\n<polygon fill=\"white\" stroke=\"transparent\" points=\"-4,4 -4,-328 124,-328 124,4 -4,4\"/>\n<!-- e -->\n<g id=\"node1\" class=\"node\">\n<title>e</title>\n<ellipse fill=\"none\" stroke=\"black\" cx=\"27\" cy=\"-18\" rx=\"27\" ry=\"18\"/>\n<text text-anchor=\"middle\" x=\"27\" y=\"-14.3\" font-family=\"Times,serif\" font-size=\"14.00\">e</text>\n</g>\n<!-- a -->\n<g id=\"node2\" class=\"node\">\n<title>a</title>\n<ellipse fill=\"none\" stroke=\"black\" cx=\"65\" cy=\"-306\" rx=\"27\" ry=\"18\"/>\n<text text-anchor=\"middle\" x=\"65\" y=\"-302.3\" font-family=\"Times,serif\" font-size=\"14.00\">a</text>\n</g>\n<!-- _b -->\n<g id=\"node3\" class=\"node\">\n<title>_b</title>\n<ellipse fill=\"none\" stroke=\"black\" cx=\"38\" cy=\"-234\" rx=\"27\" ry=\"18\"/>\n<text text-anchor=\"middle\" x=\"38\" y=\"-230.3\" font-family=\"Times,serif\" font-size=\"14.00\">_b</text>\n</g>\n<!-- a&#45;&gt;_b -->\n<g id=\"edge6\" class=\"edge\">\n<title>a&#45;&gt;_b</title>\n<path fill=\"none\" stroke=\"black\" d=\"M58.6,-288.41C55.49,-280.34 51.67,-270.43 48.17,-261.35\"/>\n<polygon fill=\"black\" stroke=\"black\" points=\"51.4,-260.03 44.54,-251.96 44.87,-262.55 51.4,-260.03\"/>\n</g>\n<!-- c -->\n<g id=\"node5\" class=\"node\">\n<title>c</title>\n<ellipse fill=\"none\" stroke=\"black\" cx=\"93\" cy=\"-162\" rx=\"27\" ry=\"18\"/>\n<text text-anchor=\"middle\" x=\"93\" y=\"-158.3\" font-family=\"Times,serif\" font-size=\"14.00\">c</text>\n</g>\n<!-- a&#45;&gt;c -->\n<g id=\"edge5\" class=\"edge\">\n<title>a&#45;&gt;c</title>\n<path fill=\"none\" stroke=\"black\" d=\"M68.38,-287.87C73.17,-263.56 81.99,-218.82 87.67,-190.01\"/>\n<polygon fill=\"black\" stroke=\"black\" points=\"91.11,-190.68 89.61,-180.19 84.24,-189.32 91.11,-190.68\"/>\n</g>\n<!-- _b&#45;&gt;e -->\n<g id=\"edge1\" class=\"edge\">\n<title>_b&#45;&gt;e</title>\n<path fill=\"none\" stroke=\"black\" d=\"M33.85,-216.12C27.14,-186.86 15.04,-124.76 19,-72 19.64,-63.52 20.84,-54.34 22.12,-46.04\"/>\n<polygon fill=\"black\" stroke=\"black\" points=\"25.58,-46.55 23.75,-36.11 18.68,-45.41 25.58,-46.55\"/>\n</g>\n<!-- _d -->\n<g id=\"node4\" class=\"node\">\n<title>_d</title>\n<ellipse fill=\"none\" stroke=\"black\" cx=\"55\" cy=\"-90\" rx=\"27\" ry=\"18\"/>\n<text text-anchor=\"middle\" x=\"55\" y=\"-86.3\" font-family=\"Times,serif\" font-size=\"14.00\">_d</text>\n</g>\n<!-- _b&#45;&gt;_d -->\n<g id=\"edge2\" class=\"edge\">\n<title>_b&#45;&gt;_d</title>\n<path fill=\"none\" stroke=\"black\" d=\"M40.05,-215.87C42.95,-191.67 48.27,-147.21 51.72,-118.39\"/>\n<polygon fill=\"black\" stroke=\"black\" points=\"55.23,-118.53 52.94,-108.19 48.28,-117.7 55.23,-118.53\"/>\n</g>\n<!-- _b&#45;&gt;c -->\n<g id=\"edge3\" class=\"edge\">\n<title>_b&#45;&gt;c</title>\n<path fill=\"none\" stroke=\"black\" d=\"M49.93,-217.81C57.21,-208.55 66.66,-196.52 74.85,-186.09\"/>\n<polygon fill=\"black\" stroke=\"black\" points=\"77.66,-188.18 81.09,-178.16 72.16,-183.86 77.66,-188.18\"/>\n</g>\n<!-- _d&#45;&gt;e -->\n<g id=\"edge4\" class=\"edge\">\n<title>_d&#45;&gt;e</title>\n<path fill=\"none\" stroke=\"black\" d=\"M48.36,-72.41C45.09,-64.22 41.06,-54.14 37.38,-44.95\"/>\n<polygon fill=\"black\" stroke=\"black\" points=\"40.55,-43.45 33.59,-35.47 34.05,-46.05 40.55,-43.45\"/>\n</g>\n<!-- c&#45;&gt;_d -->\n<g id=\"edge7\" class=\"edge\">\n<title>c&#45;&gt;_d</title>\n<path fill=\"none\" stroke=\"black\" d=\"M84.19,-144.76C79.58,-136.28 73.84,-125.71 68.68,-116.2\"/>\n<polygon fill=\"black\" stroke=\"black\" points=\"71.61,-114.27 63.77,-107.15 65.46,-117.61 71.61,-114.27\"/>\n</g>\n</g>\n</svg>\n",
      "text/plain": [
       "<graphviz.graphs.Digraph at 0xf618595879d0>"
      ]
     },
     "execution_count": 2,
     "metadata": {},
     "output_type": "execute_result"
    }
   ],
   "execution_count": 2
  },
  {
   "metadata": {
    "ExecuteTime": {
     "end_time": "2024-08-12T20:18:19.316915Z",
     "start_time": "2024-08-12T20:18:19.313242Z"
    }
   },
   "cell_type": "code",
   "source": "",
   "id": "ff85f7c99f956d6e",
   "outputs": [],
   "execution_count": 2
  },
  {
   "metadata": {
    "ExecuteTime": {
     "end_time": "2024-08-12T20:18:20.796214Z",
     "start_time": "2024-08-12T20:18:20.746405Z"
    }
   },
   "cell_type": "code",
   "source": [
    "import numpy as np\n",
    "import pandas as pd\n",
    "import networkx as nx\n",
    "from HSCM import HSCM\n",
    "import graphviz\n",
    "\n",
    "# Define a larger set of coefficients\n",
    "coeffs = {\n",
    "    \"a\": {\"mean\": 0, \"std\": 1},\n",
    "    \"b\": {\"a\": 1.5, \"mean\": 0, \"std\": 1},\n",
    "    \"c\": {\"a\": 0.5, \"b\": 2.0, \"mean\": 0, \"std\": 1},\n",
    "    \"d\": {\"b\": 1.0, \"c\": 1.0, \"mean\": 0, \"std\": 1},\n",
    "    \"e\": {\"d\": 3.0, \"mean\": 0, \"std\": 1},\n",
    "    \"f\": {\"a\": 1.0, \"e\": 2.0, \"mean\": 0, \"std\": 1},\n",
    "    \"g\": {\"f\": 1.5, \"mean\": 0, \"std\": 1},\n",
    "    \"h\": { \"g\": 2.0, \"mean\": 0, \"std\": 1},\n",
    "    \"i\": {\"h\": 1.0, \"mean\": 0, \"std\": 1},\n",
    "    \"j\": {\"i\": 0.5, \"mean\": 0, \"std\": 1},\n",
    "    \"k\": {\"j\": 1.5, \"mean\": 0, \"std\": 1},\n",
    "    \"l\": {\"k\": 2.0, \"mean\": 0, \"std\": 1},\n",
    "    \"m\": {\"l\": 1.0, \"mean\": 0, \"std\": 1},\n",
    "    \"n\": {\"m\": 0.5, \"mean\": 0, \"std\": 1},\n",
    "    \"o\": {\"n\": 1.5, \"mean\": 0, \"std\": 1},\n",
    "    \"p\": {\"o\": 2.0, \"mean\": 0, \"std\": 1}\n",
    "}\n",
    "\n",
    "# Define the nodes, edges, unit nodes, subunit nodes, and sizes\n",
    "nodes = [\"a\", \"b\", \"c\", \"d\", \"e\", \"f\", \"g\", \"h\", \"i\", \"j\", \"k\", \"l\", \"m\", \"n\", \"o\", \"p\"]\n",
    "edges = [(\"a\", \"b\"), (\"a\", \"c\"), (\"b\", \"c\"), (\"c\", \"d\"), (\"b\", \"d\"), (\"d\", \"e\"), (\"a\", \"f\"), (\"e\", \"f\"),\n",
    "         (\"f\", \"g\"), (\"g\", \"h\"), (\"h\", \"i\"), (\"i\", \"j\"), (\"j\", \"k\"), (\"k\", \"l\"), (\"l\", \"m\"), (\"m\", \"n\"),\n",
    "         (\"n\", \"o\"), (\"o\", \"p\")]\n",
    "unit_nodes = [\"a\", \"b\", \"c\", \"d\", \"l\", \"m\", \"n\", \"o\", \"p\"]\n",
    "subunit_nodes = [\"e\", \"f\", \"g\", \"h\", \"i\", \"j\", \"k\"]\n",
    "sizes = [3, 2]\n",
    "\n",
    "# Create an instance of the HSCM class\n",
    "hscm = HSCM(nodes, edges, unit_nodes, subunit_nodes, sizes, node_functions={})\n",
    "hscm.linear_model(coeffs)\n",
    "\n",
    "# Sample data\n",
    "sampled_data = hscm.sample_data()\n",
    "\n",
    "def print_sampled_data(sampled_data):\n",
    "    for key in sampled_data:\n",
    "        print(key, sampled_data[key])\n",
    "\n",
    "# Print the sampled data\n",
    "print_sampled_data(sampled_data)\n",
    "\n",
    "# Print the graph\n",
    "hscm.cgm.draw()"
   ],
   "id": "9f714c1b8a931bf7",
   "outputs": [
    {
     "name": "stdout",
     "output_type": "stream",
     "text": [
      "{}\n",
      "{}\n",
      "{'a0': -0.23129087447342786}\n",
      "{'a1': -0.8527066197966103}\n",
      "{'a0': -0.23129087447342786, 'b0': -1.4292945701696214}\n",
      "{'b1': -2.6260685499967704, 'a1': -0.8527066197966103}\n",
      "{'c0': -3.3474422938226946, 'b0': -1.4292945701696214}\n",
      "{'b1': -2.6260685499967704, 'c1': -6.145440916618249}\n",
      "{'_k0': {-84.23613961205736, -75.07004922600622, -65.54419563246412}}\n",
      "{'_k1': {-110.19824092205056, -109.22368290338537}}\n",
      "{'l0': -151.299552130394}\n",
      "{'l1': -217.80647488798365}\n",
      "{'m0': -150.3973839512037}\n",
      "{'m1': -219.87184161973573}\n",
      "{'n0': -76.81625276012844}\n",
      "{'n1': -109.65053104991385}\n",
      "{'o0': -114.70065947289113}\n",
      "{'o1': -164.50952116566637}\n",
      "a0 -0.23129087447342786\n",
      "a1 -0.8527066197966103\n",
      "b0 -1.4292945701696214\n",
      "b1 -2.6260685499967704\n",
      "c0 -3.3474422938226946\n",
      "c1 -6.145440916618249\n",
      "d0 -5.532708953089027\n",
      "d1 -7.840342095157159\n",
      "_e0_0 -14.826676052322705\n",
      "_e0_1 -16.37562774616816\n",
      "_e0_2 -18.037361622085577\n",
      "_e1_0 -23.073714226674138\n",
      "_e1_1 -24.563333252320913\n",
      "_f0_0 -29.09121440945783\n",
      "_f0_1 -31.91581813705489\n",
      "_f0_2 -36.114177069572456\n",
      "_f1_0 -48.95674872129494\n",
      "_f1_1 -49.43958936871014\n",
      "_g0_0 -42.16725219895897\n",
      "_g0_1 -49.81772194654509\n",
      "_g0_2 -55.61658319330339\n",
      "_g1_0 -73.31758314970519\n",
      "_g1_1 -73.34959830706146\n",
      "_h0_0 -85.29940408212154\n",
      "_h0_1 -101.03762812515956\n",
      "_h0_2 -110.84153564215418\n",
      "_h1_0 -147.61994357458624\n",
      "_h1_1 -146.21619192298837\n",
      "_i0_0 -86.0551410304663\n",
      "_i0_1 -99.22062490358465\n",
      "_i0_2 -112.98381469711214\n",
      "_i1_0 -146.3911251978057\n",
      "_i1_1 -145.0064454227479\n",
      "_j0_0 -43.08638812292887\n",
      "_j0_1 -49.305021552208586\n",
      "_j0_2 -56.51256253269585\n",
      "_j1_0 -73.44517946398156\n",
      "_j1_1 -72.27522475006872\n",
      "_k0_0 -65.54419563246412\n",
      "_k0_1 -75.07004922600622\n",
      "_k0_2 -84.23613961205736\n",
      "_k1_0 -109.22368290338537\n",
      "_k1_1 -110.19824092205056\n",
      "l0 -151.299552130394\n",
      "l1 -217.80647488798365\n",
      "m0 -150.3973839512037\n",
      "m1 -219.87184161973573\n",
      "n0 -76.81625276012844\n",
      "n1 -109.65053104991385\n",
      "o0 -114.70065947289113\n",
      "o1 -164.50952116566637\n",
      "p0 -229.14461497206406\n",
      "p1 -329.34478463499335\n"
     ]
    },
    {
     "data": {
      "image/svg+xml": "<?xml version=\"1.0\" encoding=\"UTF-8\" standalone=\"no\"?>\n<!DOCTYPE svg PUBLIC \"-//W3C//DTD SVG 1.1//EN\"\n \"http://www.w3.org/Graphics/SVG/1.1/DTD/svg11.dtd\">\n<!-- Generated by graphviz version 2.43.0 (0)\n -->\n<!-- Title: %3 Pages: 1 -->\n<svg width=\"136pt\" height=\"1124pt\"\n viewBox=\"0.00 0.00 136.00 1124.00\" xmlns=\"http://www.w3.org/2000/svg\" xmlns:xlink=\"http://www.w3.org/1999/xlink\">\n<g id=\"graph0\" class=\"graph\" transform=\"scale(1 1) rotate(0) translate(4 1120)\">\n<title>%3</title>\n<polygon fill=\"white\" stroke=\"transparent\" points=\"-4,4 -4,-1120 132,-1120 132,4 -4,4\"/>\n<!-- _e -->\n<g id=\"node1\" class=\"node\">\n<title>_e</title>\n<ellipse fill=\"none\" stroke=\"black\" cx=\"73\" cy=\"-810\" rx=\"27\" ry=\"18\"/>\n<text text-anchor=\"middle\" x=\"73\" y=\"-806.3\" font-family=\"Times,serif\" font-size=\"14.00\">_e</text>\n</g>\n<!-- _f -->\n<g id=\"node10\" class=\"node\">\n<title>_f</title>\n<ellipse fill=\"none\" stroke=\"black\" cx=\"100\" cy=\"-738\" rx=\"27\" ry=\"18\"/>\n<text text-anchor=\"middle\" x=\"100\" y=\"-734.3\" font-family=\"Times,serif\" font-size=\"14.00\">_f</text>\n</g>\n<!-- _e&#45;&gt;_f -->\n<g id=\"edge2\" class=\"edge\">\n<title>_e&#45;&gt;_f</title>\n<path fill=\"none\" stroke=\"black\" d=\"M79.4,-792.41C82.51,-784.34 86.33,-774.43 89.83,-765.35\"/>\n<polygon fill=\"black\" stroke=\"black\" points=\"93.13,-766.55 93.46,-755.96 86.6,-764.03 93.13,-766.55\"/>\n</g>\n<!-- d -->\n<g id=\"node2\" class=\"node\">\n<title>d</title>\n<ellipse fill=\"none\" stroke=\"black\" cx=\"73\" cy=\"-882\" rx=\"27\" ry=\"18\"/>\n<text text-anchor=\"middle\" x=\"73\" y=\"-878.3\" font-family=\"Times,serif\" font-size=\"14.00\">d</text>\n</g>\n<!-- d&#45;&gt;_e -->\n<g id=\"edge7\" class=\"edge\">\n<title>d&#45;&gt;_e</title>\n<path fill=\"none\" stroke=\"black\" d=\"M73,-863.7C73,-855.98 73,-846.71 73,-838.11\"/>\n<polygon fill=\"black\" stroke=\"black\" points=\"76.5,-838.1 73,-828.1 69.5,-838.1 76.5,-838.1\"/>\n</g>\n<!-- _k -->\n<g id=\"node3\" class=\"node\">\n<title>_k</title>\n<ellipse fill=\"none\" stroke=\"black\" cx=\"100\" cy=\"-378\" rx=\"27\" ry=\"18\"/>\n<text text-anchor=\"middle\" x=\"100\" y=\"-374.3\" font-family=\"Times,serif\" font-size=\"14.00\">_k</text>\n</g>\n<!-- l -->\n<g id=\"node9\" class=\"node\">\n<title>l</title>\n<ellipse fill=\"none\" stroke=\"black\" cx=\"100\" cy=\"-306\" rx=\"27\" ry=\"18\"/>\n<text text-anchor=\"middle\" x=\"100\" y=\"-302.3\" font-family=\"Times,serif\" font-size=\"14.00\">l</text>\n</g>\n<!-- _k&#45;&gt;l -->\n<g id=\"edge10\" class=\"edge\">\n<title>_k&#45;&gt;l</title>\n<path fill=\"none\" stroke=\"black\" d=\"M100,-359.7C100,-351.98 100,-342.71 100,-334.11\"/>\n<polygon fill=\"black\" stroke=\"black\" points=\"103.5,-334.1 100,-324.1 96.5,-334.1 103.5,-334.1\"/>\n</g>\n<!-- n -->\n<g id=\"node4\" class=\"node\">\n<title>n</title>\n<ellipse fill=\"none\" stroke=\"black\" cx=\"100\" cy=\"-162\" rx=\"27\" ry=\"18\"/>\n<text text-anchor=\"middle\" x=\"100\" y=\"-158.3\" font-family=\"Times,serif\" font-size=\"14.00\">n</text>\n</g>\n<!-- o -->\n<g id=\"node12\" class=\"node\">\n<title>o</title>\n<ellipse fill=\"none\" stroke=\"black\" cx=\"100\" cy=\"-90\" rx=\"27\" ry=\"18\"/>\n<text text-anchor=\"middle\" x=\"100\" y=\"-86.3\" font-family=\"Times,serif\" font-size=\"14.00\">o</text>\n</g>\n<!-- n&#45;&gt;o -->\n<g id=\"edge11\" class=\"edge\">\n<title>n&#45;&gt;o</title>\n<path fill=\"none\" stroke=\"black\" d=\"M100,-143.7C100,-135.98 100,-126.71 100,-118.11\"/>\n<polygon fill=\"black\" stroke=\"black\" points=\"103.5,-118.1 100,-108.1 96.5,-118.1 103.5,-118.1\"/>\n</g>\n<!-- a -->\n<g id=\"node5\" class=\"node\">\n<title>a</title>\n<ellipse fill=\"none\" stroke=\"black\" cx=\"82\" cy=\"-1098\" rx=\"27\" ry=\"18\"/>\n<text text-anchor=\"middle\" x=\"82\" y=\"-1094.3\" font-family=\"Times,serif\" font-size=\"14.00\">a</text>\n</g>\n<!-- b -->\n<g id=\"node7\" class=\"node\">\n<title>b</title>\n<ellipse fill=\"none\" stroke=\"black\" cx=\"27\" cy=\"-1026\" rx=\"27\" ry=\"18\"/>\n<text text-anchor=\"middle\" x=\"27\" y=\"-1022.3\" font-family=\"Times,serif\" font-size=\"14.00\">b</text>\n</g>\n<!-- a&#45;&gt;b -->\n<g id=\"edge13\" class=\"edge\">\n<title>a&#45;&gt;b</title>\n<path fill=\"none\" stroke=\"black\" d=\"M70.07,-1081.81C62.79,-1072.55 53.34,-1060.52 45.15,-1050.09\"/>\n<polygon fill=\"black\" stroke=\"black\" points=\"47.84,-1047.86 38.91,-1042.16 42.34,-1052.18 47.84,-1047.86\"/>\n</g>\n<!-- a&#45;&gt;_f -->\n<g id=\"edge14\" class=\"edge\">\n<title>a&#45;&gt;_f</title>\n<path fill=\"none\" stroke=\"black\" d=\"M90.87,-1080.94C104.24,-1055.18 128,-1002.68 128,-955 128,-955 128,-955 128,-881 128,-840.23 116.75,-794.09 108.51,-765.77\"/>\n<polygon fill=\"black\" stroke=\"black\" points=\"111.76,-764.41 105.53,-755.84 105.05,-766.42 111.76,-764.41\"/>\n</g>\n<!-- c -->\n<g id=\"node16\" class=\"node\">\n<title>c</title>\n<ellipse fill=\"none\" stroke=\"black\" cx=\"73\" cy=\"-954\" rx=\"27\" ry=\"18\"/>\n<text text-anchor=\"middle\" x=\"73\" y=\"-950.3\" font-family=\"Times,serif\" font-size=\"14.00\">c</text>\n</g>\n<!-- a&#45;&gt;c -->\n<g id=\"edge12\" class=\"edge\">\n<title>a&#45;&gt;c</title>\n<path fill=\"none\" stroke=\"black\" d=\"M80.91,-1079.87C79.38,-1055.67 76.56,-1011.21 74.74,-982.39\"/>\n<polygon fill=\"black\" stroke=\"black\" points=\"78.22,-981.95 74.09,-972.19 71.23,-982.39 78.22,-981.95\"/>\n</g>\n<!-- _h -->\n<g id=\"node6\" class=\"node\">\n<title>_h</title>\n<ellipse fill=\"none\" stroke=\"black\" cx=\"100\" cy=\"-594\" rx=\"27\" ry=\"18\"/>\n<text text-anchor=\"middle\" x=\"100\" y=\"-590.3\" font-family=\"Times,serif\" font-size=\"14.00\">_h</text>\n</g>\n<!-- _i -->\n<g id=\"node13\" class=\"node\">\n<title>_i</title>\n<ellipse fill=\"none\" stroke=\"black\" cx=\"100\" cy=\"-522\" rx=\"27\" ry=\"18\"/>\n<text text-anchor=\"middle\" x=\"100\" y=\"-518.3\" font-family=\"Times,serif\" font-size=\"14.00\">_i</text>\n</g>\n<!-- _h&#45;&gt;_i -->\n<g id=\"edge15\" class=\"edge\">\n<title>_h&#45;&gt;_i</title>\n<path fill=\"none\" stroke=\"black\" d=\"M100,-575.7C100,-567.98 100,-558.71 100,-550.11\"/>\n<polygon fill=\"black\" stroke=\"black\" points=\"103.5,-550.1 100,-540.1 96.5,-550.1 103.5,-550.1\"/>\n</g>\n<!-- b&#45;&gt;d -->\n<g id=\"edge16\" class=\"edge\">\n<title>b&#45;&gt;d</title>\n<path fill=\"none\" stroke=\"black\" d=\"M26.52,-1007.71C26.56,-989.35 28.21,-959.77 37,-936 40.88,-925.52 47.26,-915.09 53.58,-906.3\"/>\n<polygon fill=\"black\" stroke=\"black\" points=\"56.54,-908.2 59.79,-898.11 50.96,-903.97 56.54,-908.2\"/>\n</g>\n<!-- b&#45;&gt;c -->\n<g id=\"edge17\" class=\"edge\">\n<title>b&#45;&gt;c</title>\n<path fill=\"none\" stroke=\"black\" d=\"M37.44,-1009.12C43.2,-1000.34 50.48,-989.26 56.96,-979.42\"/>\n<polygon fill=\"black\" stroke=\"black\" points=\"60.04,-981.1 62.6,-970.82 54.19,-977.26 60.04,-981.1\"/>\n</g>\n<!-- _g -->\n<g id=\"node8\" class=\"node\">\n<title>_g</title>\n<ellipse fill=\"none\" stroke=\"black\" cx=\"100\" cy=\"-666\" rx=\"27\" ry=\"18\"/>\n<text text-anchor=\"middle\" x=\"100\" y=\"-662.3\" font-family=\"Times,serif\" font-size=\"14.00\">_g</text>\n</g>\n<!-- _g&#45;&gt;_h -->\n<g id=\"edge1\" class=\"edge\">\n<title>_g&#45;&gt;_h</title>\n<path fill=\"none\" stroke=\"black\" d=\"M100,-647.7C100,-639.98 100,-630.71 100,-622.11\"/>\n<polygon fill=\"black\" stroke=\"black\" points=\"103.5,-622.1 100,-612.1 96.5,-622.1 103.5,-622.1\"/>\n</g>\n<!-- m -->\n<g id=\"node14\" class=\"node\">\n<title>m</title>\n<ellipse fill=\"none\" stroke=\"black\" cx=\"100\" cy=\"-234\" rx=\"27\" ry=\"18\"/>\n<text text-anchor=\"middle\" x=\"100\" y=\"-230.3\" font-family=\"Times,serif\" font-size=\"14.00\">m</text>\n</g>\n<!-- l&#45;&gt;m -->\n<g id=\"edge3\" class=\"edge\">\n<title>l&#45;&gt;m</title>\n<path fill=\"none\" stroke=\"black\" d=\"M100,-287.7C100,-279.98 100,-270.71 100,-262.11\"/>\n<polygon fill=\"black\" stroke=\"black\" points=\"103.5,-262.1 100,-252.1 96.5,-262.1 103.5,-262.1\"/>\n</g>\n<!-- _f&#45;&gt;_g -->\n<g id=\"edge4\" class=\"edge\">\n<title>_f&#45;&gt;_g</title>\n<path fill=\"none\" stroke=\"black\" d=\"M100,-719.7C100,-711.98 100,-702.71 100,-694.11\"/>\n<polygon fill=\"black\" stroke=\"black\" points=\"103.5,-694.1 100,-684.1 96.5,-694.1 103.5,-694.1\"/>\n</g>\n<!-- _j -->\n<g id=\"node11\" class=\"node\">\n<title>_j</title>\n<ellipse fill=\"none\" stroke=\"black\" cx=\"100\" cy=\"-450\" rx=\"27\" ry=\"18\"/>\n<text text-anchor=\"middle\" x=\"100\" y=\"-446.3\" font-family=\"Times,serif\" font-size=\"14.00\">_j</text>\n</g>\n<!-- _j&#45;&gt;_k -->\n<g id=\"edge5\" class=\"edge\">\n<title>_j&#45;&gt;_k</title>\n<path fill=\"none\" stroke=\"black\" d=\"M100,-431.7C100,-423.98 100,-414.71 100,-406.11\"/>\n<polygon fill=\"black\" stroke=\"black\" points=\"103.5,-406.1 100,-396.1 96.5,-406.1 103.5,-406.1\"/>\n</g>\n<!-- p -->\n<g id=\"node15\" class=\"node\">\n<title>p</title>\n<ellipse fill=\"none\" stroke=\"black\" cx=\"100\" cy=\"-18\" rx=\"27\" ry=\"18\"/>\n<text text-anchor=\"middle\" x=\"100\" y=\"-14.3\" font-family=\"Times,serif\" font-size=\"14.00\">p</text>\n</g>\n<!-- o&#45;&gt;p -->\n<g id=\"edge6\" class=\"edge\">\n<title>o&#45;&gt;p</title>\n<path fill=\"none\" stroke=\"black\" d=\"M100,-71.7C100,-63.98 100,-54.71 100,-46.11\"/>\n<polygon fill=\"black\" stroke=\"black\" points=\"103.5,-46.1 100,-36.1 96.5,-46.1 103.5,-46.1\"/>\n</g>\n<!-- _i&#45;&gt;_j -->\n<g id=\"edge8\" class=\"edge\">\n<title>_i&#45;&gt;_j</title>\n<path fill=\"none\" stroke=\"black\" d=\"M100,-503.7C100,-495.98 100,-486.71 100,-478.11\"/>\n<polygon fill=\"black\" stroke=\"black\" points=\"103.5,-478.1 100,-468.1 96.5,-478.1 103.5,-478.1\"/>\n</g>\n<!-- m&#45;&gt;n -->\n<g id=\"edge9\" class=\"edge\">\n<title>m&#45;&gt;n</title>\n<path fill=\"none\" stroke=\"black\" d=\"M100,-215.7C100,-207.98 100,-198.71 100,-190.11\"/>\n<polygon fill=\"black\" stroke=\"black\" points=\"103.5,-190.1 100,-180.1 96.5,-190.1 103.5,-190.1\"/>\n</g>\n<!-- c&#45;&gt;d -->\n<g id=\"edge18\" class=\"edge\">\n<title>c&#45;&gt;d</title>\n<path fill=\"none\" stroke=\"black\" d=\"M73,-935.7C73,-927.98 73,-918.71 73,-910.11\"/>\n<polygon fill=\"black\" stroke=\"black\" points=\"76.5,-910.1 73,-900.1 69.5,-910.1 76.5,-910.1\"/>\n</g>\n</g>\n</svg>\n",
      "text/plain": [
       "<graphviz.graphs.Digraph at 0xf618590dd710>"
      ]
     },
     "execution_count": 3,
     "metadata": {},
     "output_type": "execute_result"
    }
   ],
   "execution_count": 3
  },
  {
   "metadata": {
    "ExecuteTime": {
     "end_time": "2024-08-19T08:02:37.804662Z",
     "start_time": "2024-08-19T08:02:37.799028Z"
    }
   },
   "cell_type": "code",
   "source": "",
   "id": "78342ea02cd5e316",
   "outputs": [
    {
     "name": "stdout",
     "output_type": "stream",
     "text": [
      "2\n"
     ]
    }
   ],
   "execution_count": 11
  },
  {
   "metadata": {},
   "cell_type": "markdown",
   "source": "Distribution example",
   "id": "e4b78b25d22221a3"
  },
  {
   "metadata": {
    "ExecuteTime": {
     "end_time": "2024-08-19T11:39:56.481343Z",
     "start_time": "2024-08-19T11:39:55.966906Z"
    }
   },
   "cell_type": "code",
   "source": [
    "import numpy as np\n",
    "\n",
    "data = np.random.normal(0, 1, 1000)\n",
    "hist, bin_edges = np.histogram(data, bins='auto')\n",
    "\n",
    "print(\"Histogram:\", hist)\n",
    "print(\"Bin edges:\", bin_edges)"
   ],
   "id": "b9c3020d1598aec",
   "outputs": [
    {
     "name": "stdout",
     "output_type": "stream",
     "text": [
      "Histogram: [  3   2   5   9  10  15  37  38  56  66  89 100 107  98 106  77  57  39\n",
      "  30  30  10   5   5   6]\n",
      "Bin edges: [-3.21364562 -2.95679159 -2.69993757 -2.44308355 -2.18622953 -1.92937551\n",
      " -1.67252149 -1.41566746 -1.15881344 -0.90195942 -0.6451054  -0.38825138\n",
      " -0.13139735  0.12545667  0.38231069  0.63916471  0.89601873  1.15287276\n",
      "  1.40972678  1.6665808   1.92343482  2.18028884  2.43714287  2.69399689\n",
      "  2.95085091]\n"
     ]
    }
   ],
   "execution_count": 1
  },
  {
   "metadata": {
    "ExecuteTime": {
     "end_time": "2024-08-19T11:39:56.486999Z",
     "start_time": "2024-08-19T11:39:56.483151Z"
    }
   },
   "cell_type": "code",
   "source": "print(2)",
   "id": "6a4ff7e39f6256bf",
   "outputs": [
    {
     "name": "stdout",
     "output_type": "stream",
     "text": [
      "2\n"
     ]
    }
   ],
   "execution_count": 2
  },
  {
   "metadata": {},
   "cell_type": "code",
   "outputs": [],
   "execution_count": null,
   "source": "",
   "id": "aa9c5a6b0d95ee95"
  }
 ],
 "metadata": {
  "kernelspec": {
   "display_name": "Python 3",
   "language": "python",
   "name": "python3"
  },
  "language_info": {
   "codemirror_mode": {
    "name": "ipython",
    "version": 2
   },
   "file_extension": ".py",
   "mimetype": "text/x-python",
   "name": "python",
   "nbconvert_exporter": "python",
   "pygments_lexer": "ipython2",
   "version": "2.7.6"
  }
 },
 "nbformat": 4,
 "nbformat_minor": 5
}
