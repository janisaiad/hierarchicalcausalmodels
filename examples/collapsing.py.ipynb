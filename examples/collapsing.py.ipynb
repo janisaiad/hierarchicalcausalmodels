{
 "cells": [
  {
   "cell_type": "code",
   "id": "initial_id",
   "metadata": {
    "collapsed": true,
    "ExecuteTime": {
     "end_time": "2024-08-26T15:48:19.764648Z",
     "start_time": "2024-08-26T15:48:19.759476Z"
    }
   },
   "source": [
    "from hierarchicalcausalmodels.models.HSCMParametric.HSCMParametric import HSCM\n",
    "import numpy as np\n",
    "\n"
   ],
   "outputs": [],
   "execution_count": 34
  },
  {
   "metadata": {
    "ExecuteTime": {
     "end_time": "2024-08-26T16:20:05.280403Z",
     "start_time": "2024-08-26T16:20:05.270849Z"
    }
   },
   "cell_type": "code",
   "source": [
    "coeffs = {\n",
    "    \"a\": {\"mean\": 0, \"std\": 1},\n",
    "    \"b\": {\"a\": 1.5, \"mean\": 0, \"std\": 1},\n",
    "    \"c\": {\"a\": 0.5, \"b\": 2.0, \"mean\": 0, \"std\": 1},\n",
    "    \"d\": {\"b\": 1.0, \"c\": 1.0, \"mean\": 0, \"std\": 1},\n",
    "    \"e\": {\"d\": 3.0, \"b\": 1, \"mean\": 0, \"std\": 1},\n",
    "    \"f\": {\"a\": 0.8, \"mean\": 0, \"std\": 1},\n",
    "    \"g\": {\"c\": 1.2, \"mean\": 0, \"std\": 1},\n",
    "    \"h\": {\"e\": 2.5, \"mean\": 0, \"std\": 1},\n",
    "    \"i\": {\"f\": 1.1, \"g\": 0.9, \"mean\": 0, \"std\": 1},\n",
    "    \"j\": {\"h\": 1.3, \"mean\": 0, \"std\": 1}\n",
    "}\n",
    "\n",
    "nodes = {\"a\", \"b\", \"c\", \"d\", \"e\", \"f\", \"g\", \"h\", \"i\", \"j\"}\n",
    "edges = {\n",
    "    (\"a\", \"b\"), (\"a\", \"c\"), (\"b\", \"c\"), (\"c\", \"d\"), (\"b\", \"d\"), (\"d\", \"e\"), (\"b\", \"e\"),\n",
    "    (\"a\", \"f\"), (\"c\", \"g\"), (\"e\", \"h\"), (\"f\", \"i\"), (\"g\", \"i\"), (\"h\", \"j\")\n",
    "}\n",
    "unit_nodes = {\"a\", \"c\", \"e\", \"f\", \"h\", \"j\"}\n",
    "subunit_nodes = {\"b\", \"d\", \"i\",\"g\"}\n",
    "sizes = [100] * 10\n",
    "\n"
   ],
   "id": "3b7bf64f8a6d7070",
   "outputs": [],
   "execution_count": 50
  },
  {
   "metadata": {
    "ExecuteTime": {
     "end_time": "2024-08-26T16:20:05.440643Z",
     "start_time": "2024-08-26T16:20:05.437124Z"
    }
   },
   "cell_type": "code",
   "source": "",
   "id": "73c455e7f2022365",
   "outputs": [],
   "execution_count": 50
  },
  {
   "metadata": {
    "ExecuteTime": {
     "end_time": "2024-08-26T16:20:05.685029Z",
     "start_time": "2024-08-26T16:20:05.598958Z"
    }
   },
   "cell_type": "code",
   "source": [
    "\n",
    "# Create an instance of the HSCM class\n",
    "hscm = HSCM(nodes, edges, unit_nodes, subunit_nodes, sizes, node_functions={},data=[])\n",
    "# hscm.print_predecessors()\n",
    "hscm.linear_model(coeffs)\n",
    "for edge in edges:\n",
    "    hscm.set_aggregator(edge,lambda d:np.std(np.array(list(d))))\n",
    "# Sample data\n",
    "sampled_data = hscm.sample_data()\n",
    "\n",
    "\n",
    "# Print the graph\n",
    "hscm.cgm.draw()\n"
   ],
   "id": "5a985f9993210171",
   "outputs": [
    {
     "name": "stdout",
     "output_type": "stream",
     "text": [
      "{'e': {}, 'f': {}, 'c': {}, 'j': {}, 'h': {}, 'a': {}} aggregator_functions\n",
      "{'e': {'_d': <function <lambda> at 0xfbc03881b6a0>}, 'f': {}, 'c': {}, 'j': {}, 'h': {}, 'a': {}} aggregator_functions\n",
      "{'e': {'_d': <function <lambda> at 0xfbc03881b6a0>}, 'f': {}, 'c': {'_b': <function <lambda> at 0xfbc02f84c540>}, 'j': {}, 'h': {}, 'a': {}} aggregator_functions\n",
      "You can't set an aggregator for this edge ('a', 'f')\n",
      "{'e': {'_d': <function <lambda> at 0xfbc03881b6a0>}, 'f': {}, 'c': {'_b': <function <lambda> at 0xfbc02f84c540>}, 'j': {}, 'h': {}, 'a': {}} aggregator_functions\n",
      "You can't set an aggregator for this edge ('e', 'h')\n",
      "{'e': {'_d': <function <lambda> at 0xfbc03881b6a0>}, 'f': {}, 'c': {'_b': <function <lambda> at 0xfbc02f84c540>}, 'j': {}, 'h': {}, 'a': {}} aggregator_functions\n",
      "You can't set an aggregator for this edge ('c', 'g')\n",
      "{'e': {'_d': <function <lambda> at 0xfbc03881b6a0>}, 'f': {}, 'c': {'_b': <function <lambda> at 0xfbc02f84c540>}, 'j': {}, 'h': {}, 'a': {}} aggregator_functions\n",
      "You can't set an aggregator for this edge ('a', 'b')\n",
      "{'e': {'_d': <function <lambda> at 0xfbc03881b6a0>}, 'f': {}, 'c': {'_b': <function <lambda> at 0xfbc02f84c540>}, 'j': {}, 'h': {}, 'a': {}} aggregator_functions\n",
      "You can't set an aggregator for this edge ('b', 'd')\n",
      "{'e': {'_d': <function <lambda> at 0xfbc03881b6a0>}, 'f': {}, 'c': {'_b': <function <lambda> at 0xfbc02f84c540>}, 'j': {}, 'h': {}, 'a': {}} aggregator_functions\n",
      "You can't set an aggregator for this edge ('c', 'd')\n",
      "{'e': {'_d': <function <lambda> at 0xfbc03881b6a0>}, 'f': {}, 'c': {'_b': <function <lambda> at 0xfbc02f84c540>}, 'j': {}, 'h': {}, 'a': {}} aggregator_functions\n",
      "You can't set an aggregator for this edge ('a', 'c')\n",
      "{'e': {'_d': <function <lambda> at 0xfbc03881b6a0>}, 'f': {}, 'c': {'_b': <function <lambda> at 0xfbc02f84c540>}, 'j': {}, 'h': {}, 'a': {}} aggregator_functions\n",
      "You can't set an aggregator for this edge ('f', 'i')\n",
      "{'e': {'_d': <function <lambda> at 0xfbc03881b6a0>}, 'f': {}, 'c': {'_b': <function <lambda> at 0xfbc02f84c540>}, 'j': {}, 'h': {}, 'a': {}} aggregator_functions\n",
      "{'e': {'_d': <function <lambda> at 0xfbc03881b6a0>, '_b': <function <lambda> at 0xfbc02f84c4a0>}, 'f': {}, 'c': {'_b': <function <lambda> at 0xfbc02f84c540>}, 'j': {}, 'h': {}, 'a': {}} aggregator_functions\n",
      "You can't set an aggregator for this edge ('h', 'j')\n",
      "{'e': {'_d': <function <lambda> at 0xfbc03881b6a0>, '_b': <function <lambda> at 0xfbc02f84c4a0>}, 'f': {}, 'c': {'_b': <function <lambda> at 0xfbc02f84c540>}, 'j': {}, 'h': {}, 'a': {}} aggregator_functions\n",
      "You can't set an aggregator for this edge ('g', 'i')\n"
     ]
    },
    {
     "data": {
      "image/svg+xml": "<?xml version=\"1.0\" encoding=\"UTF-8\" standalone=\"no\"?>\n<!DOCTYPE svg PUBLIC \"-//W3C//DTD SVG 1.1//EN\"\n \"http://www.w3.org/Graphics/SVG/1.1/DTD/svg11.dtd\">\n<!-- Generated by graphviz version 2.43.0 (0)\n -->\n<!-- Title: %3 Pages: 1 -->\n<svg width=\"202pt\" height=\"476pt\"\n viewBox=\"0.00 0.00 202.00 476.00\" xmlns=\"http://www.w3.org/2000/svg\" xmlns:xlink=\"http://www.w3.org/1999/xlink\">\n<g id=\"graph0\" class=\"graph\" transform=\"scale(1 1) rotate(0) translate(4 472)\">\n<title>%3</title>\n<polygon fill=\"white\" stroke=\"transparent\" points=\"-4,4 -4,-472 198,-472 198,4 -4,4\"/>\n<!-- e -->\n<g id=\"node1\" class=\"node\">\n<title>e</title>\n<ellipse fill=\"none\" stroke=\"black\" cx=\"167\" cy=\"-162\" rx=\"27\" ry=\"18\"/>\n<text text-anchor=\"middle\" x=\"167\" y=\"-158.3\" font-family=\"Times,serif\" font-size=\"14.00\">e</text>\n</g>\n<!-- h -->\n<g id=\"node10\" class=\"node\">\n<title>h</title>\n<ellipse fill=\"none\" stroke=\"black\" cx=\"167\" cy=\"-90\" rx=\"27\" ry=\"18\"/>\n<text text-anchor=\"middle\" x=\"167\" y=\"-86.3\" font-family=\"Times,serif\" font-size=\"14.00\">h</text>\n</g>\n<!-- e&#45;&gt;h -->\n<g id=\"edge1\" class=\"edge\">\n<title>e&#45;&gt;h</title>\n<path fill=\"none\" stroke=\"black\" d=\"M167,-143.7C167,-135.98 167,-126.71 167,-118.11\"/>\n<polygon fill=\"black\" stroke=\"black\" points=\"170.5,-118.1 167,-108.1 163.5,-118.1 170.5,-118.1\"/>\n</g>\n<!-- c -->\n<g id=\"node2\" class=\"node\">\n<title>c</title>\n<ellipse fill=\"none\" stroke=\"black\" cx=\"99\" cy=\"-306\" rx=\"27\" ry=\"18\"/>\n<text text-anchor=\"middle\" x=\"99\" y=\"-302.3\" font-family=\"Times,serif\" font-size=\"14.00\">c</text>\n</g>\n<!-- _g -->\n<g id=\"node3\" class=\"node\">\n<title>_g</title>\n<ellipse fill=\"none\" stroke=\"black\" cx=\"82\" cy=\"-234\" rx=\"27\" ry=\"18\"/>\n<text text-anchor=\"middle\" x=\"82\" y=\"-230.3\" font-family=\"Times,serif\" font-size=\"14.00\">_g</text>\n</g>\n<!-- c&#45;&gt;_g -->\n<g id=\"edge2\" class=\"edge\">\n<title>c&#45;&gt;_g</title>\n<path fill=\"none\" stroke=\"black\" d=\"M94.88,-288.05C92.99,-280.26 90.7,-270.82 88.58,-262.08\"/>\n<polygon fill=\"black\" stroke=\"black\" points=\"91.96,-261.17 86.2,-252.28 85.15,-262.82 91.96,-261.17\"/>\n</g>\n<!-- _d -->\n<g id=\"node5\" class=\"node\">\n<title>_d</title>\n<ellipse fill=\"none\" stroke=\"black\" cx=\"154\" cy=\"-234\" rx=\"27\" ry=\"18\"/>\n<text text-anchor=\"middle\" x=\"154\" y=\"-230.3\" font-family=\"Times,serif\" font-size=\"14.00\">_d</text>\n</g>\n<!-- c&#45;&gt;_d -->\n<g id=\"edge3\" class=\"edge\">\n<title>c&#45;&gt;_d</title>\n<path fill=\"none\" stroke=\"black\" d=\"M110.93,-289.81C118.21,-280.55 127.66,-268.52 135.85,-258.09\"/>\n<polygon fill=\"black\" stroke=\"black\" points=\"138.66,-260.18 142.09,-250.16 133.16,-255.86 138.66,-260.18\"/>\n</g>\n<!-- _i -->\n<g id=\"node8\" class=\"node\">\n<title>_i</title>\n<ellipse fill=\"none\" stroke=\"black\" cx=\"68\" cy=\"-162\" rx=\"27\" ry=\"18\"/>\n<text text-anchor=\"middle\" x=\"68\" y=\"-158.3\" font-family=\"Times,serif\" font-size=\"14.00\">_i</text>\n</g>\n<!-- _g&#45;&gt;_i -->\n<g id=\"edge4\" class=\"edge\">\n<title>_g&#45;&gt;_i</title>\n<path fill=\"none\" stroke=\"black\" d=\"M78.61,-216.05C77.07,-208.35 75.21,-199.03 73.47,-190.36\"/>\n<polygon fill=\"black\" stroke=\"black\" points=\"76.85,-189.39 71.46,-180.28 69.98,-190.77 76.85,-189.39\"/>\n</g>\n<!-- j -->\n<g id=\"node4\" class=\"node\">\n<title>j</title>\n<ellipse fill=\"none\" stroke=\"black\" cx=\"167\" cy=\"-18\" rx=\"27\" ry=\"18\"/>\n<text text-anchor=\"middle\" x=\"167\" y=\"-14.3\" font-family=\"Times,serif\" font-size=\"14.00\">j</text>\n</g>\n<!-- _d&#45;&gt;e -->\n<g id=\"edge5\" class=\"edge\">\n<title>_d&#45;&gt;e</title>\n<path fill=\"none\" stroke=\"black\" d=\"M157.15,-216.05C158.58,-208.35 160.31,-199.03 161.92,-190.36\"/>\n<polygon fill=\"black\" stroke=\"black\" points=\"165.41,-190.75 163.79,-180.28 158.52,-189.47 165.41,-190.75\"/>\n</g>\n<!-- a -->\n<g id=\"node6\" class=\"node\">\n<title>a</title>\n<ellipse fill=\"none\" stroke=\"black\" cx=\"99\" cy=\"-450\" rx=\"27\" ry=\"18\"/>\n<text text-anchor=\"middle\" x=\"99\" y=\"-446.3\" font-family=\"Times,serif\" font-size=\"14.00\">a</text>\n</g>\n<!-- a&#45;&gt;c -->\n<g id=\"edge8\" class=\"edge\">\n<title>a&#45;&gt;c</title>\n<path fill=\"none\" stroke=\"black\" d=\"M99,-431.87C99,-407.67 99,-363.21 99,-334.39\"/>\n<polygon fill=\"black\" stroke=\"black\" points=\"102.5,-334.19 99,-324.19 95.5,-334.19 102.5,-334.19\"/>\n</g>\n<!-- _b -->\n<g id=\"node7\" class=\"node\">\n<title>_b</title>\n<ellipse fill=\"none\" stroke=\"black\" cx=\"154\" cy=\"-378\" rx=\"27\" ry=\"18\"/>\n<text text-anchor=\"middle\" x=\"154\" y=\"-374.3\" font-family=\"Times,serif\" font-size=\"14.00\">_b</text>\n</g>\n<!-- a&#45;&gt;_b -->\n<g id=\"edge7\" class=\"edge\">\n<title>a&#45;&gt;_b</title>\n<path fill=\"none\" stroke=\"black\" d=\"M110.93,-433.81C118.21,-424.55 127.66,-412.52 135.85,-402.09\"/>\n<polygon fill=\"black\" stroke=\"black\" points=\"138.66,-404.18 142.09,-394.16 133.16,-399.86 138.66,-404.18\"/>\n</g>\n<!-- f -->\n<g id=\"node9\" class=\"node\">\n<title>f</title>\n<ellipse fill=\"none\" stroke=\"black\" cx=\"27\" cy=\"-306\" rx=\"27\" ry=\"18\"/>\n<text text-anchor=\"middle\" x=\"27\" y=\"-302.3\" font-family=\"Times,serif\" font-size=\"14.00\">f</text>\n</g>\n<!-- a&#45;&gt;f -->\n<g id=\"edge6\" class=\"edge\">\n<title>a&#45;&gt;f</title>\n<path fill=\"none\" stroke=\"black\" d=\"M90.74,-432.71C78.33,-408.23 54.76,-361.74 40.02,-332.67\"/>\n<polygon fill=\"black\" stroke=\"black\" points=\"43.03,-330.87 35.38,-323.54 36.79,-334.04 43.03,-330.87\"/>\n</g>\n<!-- _b&#45;&gt;e -->\n<g id=\"edge11\" class=\"edge\">\n<title>_b&#45;&gt;e</title>\n<path fill=\"none\" stroke=\"black\" d=\"M162.37,-360.58C176.14,-331.5 201,-269 190,-216 188.04,-206.58 184.33,-196.78 180.44,-188.21\"/>\n<polygon fill=\"black\" stroke=\"black\" points=\"183.56,-186.62 176.07,-179.13 177.26,-189.66 183.56,-186.62\"/>\n</g>\n<!-- _b&#45;&gt;c -->\n<g id=\"edge9\" class=\"edge\">\n<title>_b&#45;&gt;c</title>\n<path fill=\"none\" stroke=\"black\" d=\"M142.07,-361.81C134.79,-352.55 125.34,-340.52 117.15,-330.09\"/>\n<polygon fill=\"black\" stroke=\"black\" points=\"119.84,-327.86 110.91,-322.16 114.34,-332.18 119.84,-327.86\"/>\n</g>\n<!-- _b&#45;&gt;_d -->\n<g id=\"edge10\" class=\"edge\">\n<title>_b&#45;&gt;_d</title>\n<path fill=\"none\" stroke=\"black\" d=\"M154,-359.87C154,-335.67 154,-291.21 154,-262.39\"/>\n<polygon fill=\"black\" stroke=\"black\" points=\"157.5,-262.19 154,-252.19 150.5,-262.19 157.5,-262.19\"/>\n</g>\n<!-- f&#45;&gt;_i -->\n<g id=\"edge12\" class=\"edge\">\n<title>f&#45;&gt;_i</title>\n<path fill=\"none\" stroke=\"black\" d=\"M29.67,-288.03C32.73,-269.95 38.34,-240.59 46,-216 48.81,-206.98 52.56,-197.36 56.17,-188.83\"/>\n<polygon fill=\"black\" stroke=\"black\" points=\"59.48,-189.99 60.27,-179.42 53.06,-187.19 59.48,-189.99\"/>\n</g>\n<!-- h&#45;&gt;j -->\n<g id=\"edge13\" class=\"edge\">\n<title>h&#45;&gt;j</title>\n<path fill=\"none\" stroke=\"black\" d=\"M167,-71.7C167,-63.98 167,-54.71 167,-46.11\"/>\n<polygon fill=\"black\" stroke=\"black\" points=\"170.5,-46.1 167,-36.1 163.5,-46.1 170.5,-46.1\"/>\n</g>\n</g>\n</svg>\n",
      "text/plain": [
       "<graphviz.graphs.Digraph at 0xfbc02f868450>"
      ]
     },
     "execution_count": 51,
     "metadata": {},
     "output_type": "execute_result"
    }
   ],
   "execution_count": 51
  },
  {
   "metadata": {
    "ExecuteTime": {
     "end_time": "2024-08-26T16:20:05.796867Z",
     "start_time": "2024-08-26T16:20:05.791338Z"
    }
   },
   "cell_type": "code",
   "source": [
    "def print_sampled_data(sampled_data):\n",
    "    for key in sampled_data:\n",
    "        print(key, sampled_data[key])"
   ],
   "id": "327b890eed95452d",
   "outputs": [],
   "execution_count": 52
  },
  {
   "metadata": {
    "ExecuteTime": {
     "end_time": "2024-08-26T16:20:06.096931Z",
     "start_time": "2024-08-26T16:20:06.091756Z"
    }
   },
   "cell_type": "code",
   "source": "graph = hscm.collapse()",
   "id": "d0bf8666f1353db9",
   "outputs": [],
   "execution_count": 53
  },
  {
   "metadata": {
    "ExecuteTime": {
     "end_time": "2024-08-26T16:20:06.396433Z",
     "start_time": "2024-08-26T16:20:06.352861Z"
    }
   },
   "cell_type": "code",
   "source": "graph.draw()",
   "id": "82e7f5510595284e",
   "outputs": [
    {
     "data": {
      "image/svg+xml": "<?xml version=\"1.0\" encoding=\"UTF-8\" standalone=\"no\"?>\n<!DOCTYPE svg PUBLIC \"-//W3C//DTD SVG 1.1//EN\"\n \"http://www.w3.org/Graphics/SVG/1.1/DTD/svg11.dtd\">\n<!-- Generated by graphviz version 2.43.0 (0)\n -->\n<!-- Title: %3 Pages: 1 -->\n<svg width=\"299pt\" height=\"260pt\"\n viewBox=\"0.00 0.00 299.00 260.00\" xmlns=\"http://www.w3.org/2000/svg\" xmlns:xlink=\"http://www.w3.org/1999/xlink\">\n<g id=\"graph0\" class=\"graph\" transform=\"scale(1 1) rotate(0) translate(4 256)\">\n<title>%3</title>\n<polygon fill=\"white\" stroke=\"transparent\" points=\"-4,4 -4,-256 295,-256 295,4 -4,4\"/>\n<!-- e -->\n<g id=\"node1\" class=\"node\">\n<title>e</title>\n<ellipse fill=\"none\" stroke=\"black\" cx=\"27\" cy=\"-234\" rx=\"27\" ry=\"18\"/>\n<text text-anchor=\"middle\" x=\"27\" y=\"-230.3\" font-family=\"Times,serif\" font-size=\"14.00\">e</text>\n</g>\n<!-- h -->\n<g id=\"node10\" class=\"node\">\n<title>h</title>\n<ellipse fill=\"none\" stroke=\"black\" cx=\"27\" cy=\"-162\" rx=\"27\" ry=\"18\"/>\n<text text-anchor=\"middle\" x=\"27\" y=\"-158.3\" font-family=\"Times,serif\" font-size=\"14.00\">h</text>\n</g>\n<!-- e&#45;&gt;h -->\n<g id=\"edge1\" class=\"edge\">\n<title>e&#45;&gt;h</title>\n<path fill=\"none\" stroke=\"black\" d=\"M27,-215.7C27,-207.98 27,-198.71 27,-190.11\"/>\n<polygon fill=\"black\" stroke=\"black\" points=\"30.5,-190.1 27,-180.1 23.5,-190.1 30.5,-190.1\"/>\n</g>\n<!-- c -->\n<g id=\"node2\" class=\"node\">\n<title>c</title>\n<ellipse fill=\"none\" stroke=\"black\" cx=\"185\" cy=\"-162\" rx=\"27\" ry=\"18\"/>\n<text text-anchor=\"middle\" x=\"185\" y=\"-158.3\" font-family=\"Times,serif\" font-size=\"14.00\">c</text>\n</g>\n<!-- Q__d -->\n<g id=\"node4\" class=\"node\">\n<title>Q__d</title>\n<ellipse fill=\"none\" stroke=\"black\" cx=\"104\" cy=\"-90\" rx=\"32.49\" ry=\"18\"/>\n<text text-anchor=\"middle\" x=\"104\" y=\"-86.3\" font-family=\"Times,serif\" font-size=\"14.00\">Q__d</text>\n</g>\n<!-- c&#45;&gt;Q__d -->\n<g id=\"edge2\" class=\"edge\">\n<title>c&#45;&gt;Q__d</title>\n<path fill=\"none\" stroke=\"black\" d=\"M169,-147.17C157.47,-137.21 141.69,-123.57 128.57,-112.23\"/>\n<polygon fill=\"black\" stroke=\"black\" points=\"130.66,-109.41 120.81,-105.52 126.08,-114.71 130.66,-109.41\"/>\n</g>\n<!-- Q__g -->\n<g id=\"node8\" class=\"node\">\n<title>Q__g</title>\n<ellipse fill=\"none\" stroke=\"black\" cx=\"187\" cy=\"-90\" rx=\"32.49\" ry=\"18\"/>\n<text text-anchor=\"middle\" x=\"187\" y=\"-86.3\" font-family=\"Times,serif\" font-size=\"14.00\">Q__g</text>\n</g>\n<!-- c&#45;&gt;Q__g -->\n<g id=\"edge3\" class=\"edge\">\n<title>c&#45;&gt;Q__g</title>\n<path fill=\"none\" stroke=\"black\" d=\"M185.49,-143.7C185.71,-135.98 185.98,-126.71 186.23,-118.11\"/>\n<polygon fill=\"black\" stroke=\"black\" points=\"189.72,-118.2 186.51,-108.1 182.73,-118 189.72,-118.2\"/>\n</g>\n<!-- Q__i -->\n<g id=\"node3\" class=\"node\">\n<title>Q__i</title>\n<ellipse fill=\"none\" stroke=\"black\" cx=\"225\" cy=\"-18\" rx=\"29.8\" ry=\"18\"/>\n<text text-anchor=\"middle\" x=\"225\" y=\"-14.3\" font-family=\"Times,serif\" font-size=\"14.00\">Q__i</text>\n</g>\n<!-- j -->\n<g id=\"node5\" class=\"node\">\n<title>j</title>\n<ellipse fill=\"none\" stroke=\"black\" cx=\"27\" cy=\"-90\" rx=\"27\" ry=\"18\"/>\n<text text-anchor=\"middle\" x=\"27\" y=\"-86.3\" font-family=\"Times,serif\" font-size=\"14.00\">j</text>\n</g>\n<!-- Q__b -->\n<g id=\"node6\" class=\"node\">\n<title>Q__b</title>\n<ellipse fill=\"none\" stroke=\"black\" cx=\"105\" cy=\"-162\" rx=\"32.49\" ry=\"18\"/>\n<text text-anchor=\"middle\" x=\"105\" y=\"-158.3\" font-family=\"Times,serif\" font-size=\"14.00\">Q__b</text>\n</g>\n<!-- Q__b&#45;&gt;Q__d -->\n<g id=\"edge5\" class=\"edge\">\n<title>Q__b&#45;&gt;Q__d</title>\n<path fill=\"none\" stroke=\"black\" d=\"M104.75,-143.7C104.64,-135.98 104.51,-126.71 104.39,-118.11\"/>\n<polygon fill=\"black\" stroke=\"black\" points=\"107.89,-118.05 104.24,-108.1 100.89,-118.15 107.89,-118.05\"/>\n</g>\n<!-- a -->\n<g id=\"node7\" class=\"node\">\n<title>a</title>\n<ellipse fill=\"none\" stroke=\"black\" cx=\"185\" cy=\"-234\" rx=\"27\" ry=\"18\"/>\n<text text-anchor=\"middle\" x=\"185\" y=\"-230.3\" font-family=\"Times,serif\" font-size=\"14.00\">a</text>\n</g>\n<!-- a&#45;&gt;c -->\n<g id=\"edge8\" class=\"edge\">\n<title>a&#45;&gt;c</title>\n<path fill=\"none\" stroke=\"black\" d=\"M185,-215.7C185,-207.98 185,-198.71 185,-190.11\"/>\n<polygon fill=\"black\" stroke=\"black\" points=\"188.5,-190.1 185,-180.1 181.5,-190.1 188.5,-190.1\"/>\n</g>\n<!-- a&#45;&gt;Q__b -->\n<g id=\"edge7\" class=\"edge\">\n<title>a&#45;&gt;Q__b</title>\n<path fill=\"none\" stroke=\"black\" d=\"M169.19,-219.17C157.81,-209.21 142.23,-195.57 129.27,-184.23\"/>\n<polygon fill=\"black\" stroke=\"black\" points=\"131.43,-181.48 121.6,-177.52 126.82,-186.74 131.43,-181.48\"/>\n</g>\n<!-- f -->\n<g id=\"node9\" class=\"node\">\n<title>f</title>\n<ellipse fill=\"none\" stroke=\"black\" cx=\"264\" cy=\"-90\" rx=\"27\" ry=\"18\"/>\n<text text-anchor=\"middle\" x=\"264\" y=\"-86.3\" font-family=\"Times,serif\" font-size=\"14.00\">f</text>\n</g>\n<!-- a&#45;&gt;f -->\n<g id=\"edge6\" class=\"edge\">\n<title>a&#45;&gt;f</title>\n<path fill=\"none\" stroke=\"black\" d=\"M196.33,-217.62C203.75,-207.24 213.44,-193.1 221,-180 232.94,-159.31 244.61,-134.8 252.77,-116.75\"/>\n<polygon fill=\"black\" stroke=\"black\" points=\"256.05,-118 256.93,-107.45 249.65,-115.15 256.05,-118\"/>\n</g>\n<!-- Q__g&#45;&gt;Q__i -->\n<g id=\"edge4\" class=\"edge\">\n<title>Q__g&#45;&gt;Q__i</title>\n<path fill=\"none\" stroke=\"black\" d=\"M196.01,-72.41C200.55,-64.04 206.16,-53.71 211.23,-44.37\"/>\n<polygon fill=\"black\" stroke=\"black\" points=\"214.36,-45.93 216.06,-35.47 208.21,-42.59 214.36,-45.93\"/>\n</g>\n<!-- f&#45;&gt;Q__i -->\n<g id=\"edge9\" class=\"edge\">\n<title>f&#45;&gt;Q__i</title>\n<path fill=\"none\" stroke=\"black\" d=\"M254.95,-72.76C250.3,-64.4 244.51,-54.02 239.27,-44.61\"/>\n<polygon fill=\"black\" stroke=\"black\" points=\"242.19,-42.67 234.27,-35.63 236.08,-46.07 242.19,-42.67\"/>\n</g>\n<!-- h&#45;&gt;j -->\n<g id=\"edge10\" class=\"edge\">\n<title>h&#45;&gt;j</title>\n<path fill=\"none\" stroke=\"black\" d=\"M27,-143.7C27,-135.98 27,-126.71 27,-118.11\"/>\n<polygon fill=\"black\" stroke=\"black\" points=\"30.5,-118.1 27,-108.1 23.5,-118.1 30.5,-118.1\"/>\n</g>\n</g>\n</svg>\n",
      "text/plain": [
       "<graphviz.graphs.Digraph at 0xfbc02fe4cc50>"
      ]
     },
     "execution_count": 54,
     "metadata": {},
     "output_type": "execute_result"
    }
   ],
   "execution_count": 54
  },
  {
   "metadata": {
    "ExecuteTime": {
     "end_time": "2024-08-26T16:20:06.884394Z",
     "start_time": "2024-08-26T16:20:06.880735Z"
    }
   },
   "cell_type": "code",
   "source": "",
   "id": "fb7cbac0a5d01c7",
   "outputs": [],
   "execution_count": 54
  },
  {
   "metadata": {
    "ExecuteTime": {
     "end_time": "2024-08-26T15:48:20.501125Z",
     "start_time": "2024-08-26T15:48:20.497686Z"
    }
   },
   "cell_type": "code",
   "source": "",
   "id": "8b5d4d5d46de3bfd",
   "outputs": [],
   "execution_count": 39
  },
  {
   "metadata": {
    "ExecuteTime": {
     "end_time": "2024-08-26T15:48:20.559187Z",
     "start_time": "2024-08-26T15:48:20.555215Z"
    }
   },
   "cell_type": "code",
   "source": "",
   "id": "a659b59b7c408972",
   "outputs": [],
   "execution_count": 39
  },
  {
   "metadata": {
    "ExecuteTime": {
     "end_time": "2024-08-26T15:48:20.615516Z",
     "start_time": "2024-08-26T15:48:20.612138Z"
    }
   },
   "cell_type": "code",
   "source": "",
   "id": "4ec2219ad1b6ae95",
   "outputs": [],
   "execution_count": 39
  },
  {
   "metadata": {
    "ExecuteTime": {
     "end_time": "2024-08-26T15:48:20.651378Z",
     "start_time": "2024-08-26T15:48:20.647842Z"
    }
   },
   "cell_type": "code",
   "source": "",
   "id": "6eff7ae98e8f89eb",
   "outputs": [],
   "execution_count": 39
  },
  {
   "metadata": {},
   "cell_type": "code",
   "outputs": [],
   "execution_count": null,
   "source": "",
   "id": "7d8a95231d2ce124"
  }
 ],
 "metadata": {
  "kernelspec": {
   "display_name": "Python 3",
   "language": "python",
   "name": "python3"
  },
  "language_info": {
   "codemirror_mode": {
    "name": "ipython",
    "version": 2
   },
   "file_extension": ".py",
   "mimetype": "text/x-python",
   "name": "python",
   "nbconvert_exporter": "python",
   "pygments_lexer": "ipython2",
   "version": "2.7.6"
  }
 },
 "nbformat": 4,
 "nbformat_minor": 5
}
