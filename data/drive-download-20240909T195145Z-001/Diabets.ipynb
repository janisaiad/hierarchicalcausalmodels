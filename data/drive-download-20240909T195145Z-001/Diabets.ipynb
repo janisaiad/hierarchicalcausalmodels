{
  "nbformat": 4,
  "nbformat_minor": 0,
  "metadata": {
    "colab": {
      "provenance": []
    },
    "kernelspec": {
      "name": "python3",
      "display_name": "Python 3"
    },
    "language_info": {
      "name": "python"
    }
  },
  "cells": [
    {
      "cell_type": "markdown",
      "source": [
        "We will study the impact of nutrition change on development of Type 2 diabetes after a prediabetes diagnosis, using an observational data diabete."
      ],
      "metadata": {
        "id": "vIsjms_jdl14"
      }
    },
    {
      "cell_type": "markdown",
      "source": [
        "**Problem and data description**"
      ],
      "metadata": {
        "id": "UiaNDn4edl1I"
      }
    },
    {
      "cell_type": "markdown",
      "source": [
        "We use the following variables.\n",
        "\n",
        "*  Response variable\n",
        "- diabetes\\_5y: Indicator variable where =1 indicates development of type 2 diabetes by year 5 after treatment\n",
        "* Treatment variable\\\\\n",
        "- nutrition\\_control: Indicator variable where =1 indicates Nutrition change treatment\n",
        "\n",
        "* Covariates\n",
        "- sex: Indicator variable where =1 indicates male\n",
        "- diabetes_family:- Indicator variable where =1 indicates presence of type 2 diabetes in the family\n",
        "- obese_family: Indicator variable where =1 indicates presence of obesity ($BMI>30$) in the family\n",
        "- alcohol_consume: Indicator variable where =1 indicates regular consumption of alcohol\n",
        "- cardio-vascular\\_disease: Indicator variable where =1 indicates presence of cardio-vascular disease\n",
        "- sedentary: Indicator variable where =1 indicates sedentary work and lifestyle\n",
        "- age: Age at treatment begin\n",
        "- number_md_5y: Number of referring physicians over 5 years\n",
        "- bmi: Body Mass Index at treatment begin\n",
        "- mbp: Mean blood pressure at treatment begin (average between systolic and diastolic blood presure)"
      ],
      "metadata": {
        "id": "Xk2Tmz5VdZ43"
      }
    },
    {
      "cell_type": "code",
      "source": [],
      "metadata": {
        "id": "aW8mrh2Wdfw4"
      },
      "execution_count": null,
      "outputs": []
    }
  ]
}