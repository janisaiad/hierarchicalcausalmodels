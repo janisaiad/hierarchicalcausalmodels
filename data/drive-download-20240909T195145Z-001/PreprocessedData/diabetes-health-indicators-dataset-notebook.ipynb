{
 "metadata": {
  "kernelspec": {
   "language": "python",
   "display_name": "Python 3",
   "name": "python3"
  },
  "language_info": {
   "pygments_lexer": "ipython3",
   "nbconvert_exporter": "python",
   "version": "3.6.4",
   "file_extension": ".py",
   "codemirror_mode": {
    "name": "ipython",
    "version": 3
   },
   "name": "python",
   "mimetype": "text/x-python"
  },
  "kaggle": {
   "accelerator": "none",
   "dataSources": [
    {
     "sourceId": 3692,
     "sourceType": "datasetVersion",
     "datasetId": 2192
    }
   ],
   "dockerImageVersionId": 30138,
   "isInternetEnabled": false,
   "language": "python",
   "sourceType": "notebook",
   "isGpuEnabled": false
  }
 },
 "nbformat_minor": 4,
 "nbformat": 4,
 "cells": [
  {
   "cell_type": "markdown",
   "source": "# Diabetes Health Indicators Dataset Notebook\n\n## Purpose\nThe purpose of this code notebook is to clean BRFSS data into a useable format for machine learning alogrithms. \nThe dataset originally has 330 features (columns), but based on diabetes disease research regarding factors influencing diabetes disease and other chronic health conditions, only select features are included in this analysis.\n\n## Link to Dataset Output [Diabetes Health Indicators Dataset](https://www.kaggle.com/alexteboul/diabetes-health-indicators-dataset)\n**253,680 survey responses from cleaned BRFSS 2015 - binary classification**\n\n#### Important Risk Factors\nResearch in the field has identified the following as **important risk factors** for diabetes and other chronic illnesses like heart disease (not in strict order of importance):\n\n*   blood pressure (high)\n*   cholesterol (high)\n*   smoking\n*   diabetes\n*   obesity\n*   age\n*   sex\n*   race\n*   diet\n*   exercise\n*   alcohol consumption\n*   BMI\n*   Household Income\n*   Marital Status\n*   Sleep\n*   Time since last checkup\n*   Education\n*   Health care coverage\n*   Mental Health",
   "metadata": {
    "_uuid": "8f2839f25d086af736a60e9eeb907d3b93b6e0e5",
    "_cell_guid": "b1076dfc-b9ad-4769-8c92-a6c4dae69d19"
   }
  },
  {
   "cell_type": "markdown",
   "source": "### Selected Subset of Features from BRFSS 2015\nGiven these risk factors, I tried to select features (columns/questions) in the BRFSS related to these risk factors. To help understand what the columns mean, I consult the BRFSS 2015 Codebook to see the questions and information about the questions. I try to match the variable names in the codebook to the variable names in the dataset I downloaded from Kaggle. I also reference some of the same features chosen for a research paper by Zidian Xie et al for *Building Risk Prediction Models for Type 2 Diabetes Using Machine Learning Techniques* using the 2014 BRFSS.\n\n**BRFSS 2015 Codebook:** https://www.cdc.gov/brfss/annual_data/2015/pdf/codebook15_llcp.pdf\n\n**Relevant Research Paper using BRFSS for Diabetes ML:** https://www.cdc.gov/pcd/issues/2019/19_0109.htm\n\n\nThe **selected features** from the BRFSS 2015 dataset are:\n\n**Response Variable / Dependent Variable:**\n*   (Ever told) you have diabetes (If \"Yes\" and respondent is female, ask \"Was this only when you were pregnant?\". If Respondent says pre-diabetes or borderline diabetes, use response code 4.) --> DIABETE3\n\n**Independent Variables:**\n\n**High Blood Pressure**\n*   Adults who have been told they have high blood pressure by a doctor, nurse, or other health professional --> _RFHYPE5\n\n**High Cholesterol**\n*   Have you EVER been told by a doctor, nurse or other health professional that your blood cholesterol is high? --> TOLDHI2\n*   Cholesterol check within past five years --> _CHOLCHK\n\n**BMI**\n*   Body Mass Index (BMI) --> _BMI5\n\n**Smoking**\n*   Have you smoked at least 100 cigarettes in your entire life? [Note: 5 packs = 100 cigarettes] --> SMOKE100\n\n**Other Chronic Health Conditions**\n*   (Ever told) you had a stroke. --> CVDSTRK3\n*   Respondents that have ever reported having coronary heart disease (CHD) or myocardial infarction (MI) --> _MICHD\n\n**Physical Activity**\n*   Adults who reported doing physical activity or exercise during the past 30 days other than their regular job --> _TOTINDA\n\n**Diet**\n*   Consume Fruit 1 or more times per day --> _FRTLT1\n*   Consume Vegetables 1 or more times per day --> _VEGLT1\n\n**Alcohol Consumption**\n*   Heavy drinkers (adult men having more than 14 drinks per week and adult women having more than 7 drinks per week) --> _RFDRHV5\n\n**Health Care**\n*   Do you have any kind of health care coverage, including health insurance, prepaid plans such as HMOs, or government plans such as Medicare, or Indian Health Service?  --> HLTHPLN1\n*   Was there a time in the past 12 months when you needed to see a doctor but could not because of cost? --> MEDCOST\n\n**Health General and Mental Health**\n*   Would you say that in general your health is: --> GENHLTH\n*   Now thinking about your mental health, which includes stress, depression, and problems with emotions, for how many days during the past 30 days was your mental health not good? --> MENTHLTH\n*   Now thinking about your physical health, which includes physical illness and injury, for how many days during the past 30 days was your physical health not good? --> PHYSHLTH\n*   Do you have serious difficulty walking or climbing stairs? --> DIFFWALK\n\n**Demographics**\n*   Indicate sex of respondent. --> SEX\n*   Fourteen-level age category --> _AGEG5YR\n*   What is the highest grade or year of school you completed? --> EDUCA\n*   Is your annual household income from all sources: (If respondent refuses at any income level, code \"Refused.\") --> INCOME2",
   "metadata": {}
  },
  {
   "cell_type": "markdown",
   "source": "## 1. Get the data",
   "metadata": {}
  },
  {
   "cell_type": "code",
   "source": "#imports\nimport os\nimport pandas as pd\nimport numpy as np\nimport random\nrandom.seed(1)",
   "metadata": {
    "execution": {
     "iopub.status.busy": "2021-11-08T16:42:07.756496Z",
     "iopub.execute_input": "2021-11-08T16:42:07.758267Z",
     "iopub.status.idle": "2021-11-08T16:42:07.766909Z",
     "shell.execute_reply.started": "2021-11-08T16:42:07.758151Z",
     "shell.execute_reply": "2021-11-08T16:42:07.765325Z"
    },
    "trusted": true,
    "ExecuteTime": {
     "end_time": "2024-09-09T20:30:06.200327Z",
     "start_time": "2024-09-09T20:30:05.865101Z"
    }
   },
   "outputs": [],
   "execution_count": 1
  },
  {
   "cell_type": "code",
   "source": "#read in the dataset (select 2015)\nyear = '2015'\nbrfss_2015_dataset = pd.read_csv(f'../input/behavioral-risk-factor-surveillance-system/{year}.csv')",
   "metadata": {
    "execution": {
     "iopub.status.busy": "2021-11-08T16:41:23.603925Z",
     "iopub.execute_input": "2021-11-08T16:41:23.604736Z",
     "iopub.status.idle": "2021-11-08T16:41:45.652286Z",
     "shell.execute_reply.started": "2021-11-08T16:41:23.604682Z",
     "shell.execute_reply": "2021-11-08T16:41:45.651299Z"
    },
    "trusted": true,
    "ExecuteTime": {
     "end_time": "2024-09-09T20:30:06.603911Z",
     "start_time": "2024-09-09T20:30:06.202329Z"
    }
   },
   "outputs": [
    {
     "ename": "FileNotFoundError",
     "evalue": "[Errno 2] No such file or directory: '../input/behavioral-risk-factor-surveillance-system/2015.csv'",
     "output_type": "error",
     "traceback": [
      "\u001B[0;31m---------------------------------------------------------------------------\u001B[0m",
      "\u001B[0;31mFileNotFoundError\u001B[0m                         Traceback (most recent call last)",
      "Cell \u001B[0;32mIn[2], line 3\u001B[0m\n\u001B[1;32m      1\u001B[0m \u001B[38;5;66;03m#read in the dataset (select 2015)\u001B[39;00m\n\u001B[1;32m      2\u001B[0m year \u001B[38;5;241m=\u001B[39m \u001B[38;5;124m'\u001B[39m\u001B[38;5;124m2015\u001B[39m\u001B[38;5;124m'\u001B[39m\n\u001B[0;32m----> 3\u001B[0m brfss_2015_dataset \u001B[38;5;241m=\u001B[39m \u001B[43mpd\u001B[49m\u001B[38;5;241;43m.\u001B[39;49m\u001B[43mread_csv\u001B[49m\u001B[43m(\u001B[49m\u001B[38;5;124;43mf\u001B[39;49m\u001B[38;5;124;43m'\u001B[39;49m\u001B[38;5;124;43m../input/behavioral-risk-factor-surveillance-system/\u001B[39;49m\u001B[38;5;132;43;01m{\u001B[39;49;00m\u001B[43myear\u001B[49m\u001B[38;5;132;43;01m}\u001B[39;49;00m\u001B[38;5;124;43m.csv\u001B[39;49m\u001B[38;5;124;43m'\u001B[39;49m\u001B[43m)\u001B[49m\n",
      "File \u001B[0;32m~/venv/lib/python3.11/site-packages/pandas/io/parsers/readers.py:1026\u001B[0m, in \u001B[0;36mread_csv\u001B[0;34m(filepath_or_buffer, sep, delimiter, header, names, index_col, usecols, dtype, engine, converters, true_values, false_values, skipinitialspace, skiprows, skipfooter, nrows, na_values, keep_default_na, na_filter, verbose, skip_blank_lines, parse_dates, infer_datetime_format, keep_date_col, date_parser, date_format, dayfirst, cache_dates, iterator, chunksize, compression, thousands, decimal, lineterminator, quotechar, quoting, doublequote, escapechar, comment, encoding, encoding_errors, dialect, on_bad_lines, delim_whitespace, low_memory, memory_map, float_precision, storage_options, dtype_backend)\u001B[0m\n\u001B[1;32m   1013\u001B[0m kwds_defaults \u001B[38;5;241m=\u001B[39m _refine_defaults_read(\n\u001B[1;32m   1014\u001B[0m     dialect,\n\u001B[1;32m   1015\u001B[0m     delimiter,\n\u001B[0;32m   (...)\u001B[0m\n\u001B[1;32m   1022\u001B[0m     dtype_backend\u001B[38;5;241m=\u001B[39mdtype_backend,\n\u001B[1;32m   1023\u001B[0m )\n\u001B[1;32m   1024\u001B[0m kwds\u001B[38;5;241m.\u001B[39mupdate(kwds_defaults)\n\u001B[0;32m-> 1026\u001B[0m \u001B[38;5;28;01mreturn\u001B[39;00m \u001B[43m_read\u001B[49m\u001B[43m(\u001B[49m\u001B[43mfilepath_or_buffer\u001B[49m\u001B[43m,\u001B[49m\u001B[43m \u001B[49m\u001B[43mkwds\u001B[49m\u001B[43m)\u001B[49m\n",
      "File \u001B[0;32m~/venv/lib/python3.11/site-packages/pandas/io/parsers/readers.py:620\u001B[0m, in \u001B[0;36m_read\u001B[0;34m(filepath_or_buffer, kwds)\u001B[0m\n\u001B[1;32m    617\u001B[0m _validate_names(kwds\u001B[38;5;241m.\u001B[39mget(\u001B[38;5;124m\"\u001B[39m\u001B[38;5;124mnames\u001B[39m\u001B[38;5;124m\"\u001B[39m, \u001B[38;5;28;01mNone\u001B[39;00m))\n\u001B[1;32m    619\u001B[0m \u001B[38;5;66;03m# Create the parser.\u001B[39;00m\n\u001B[0;32m--> 620\u001B[0m parser \u001B[38;5;241m=\u001B[39m \u001B[43mTextFileReader\u001B[49m\u001B[43m(\u001B[49m\u001B[43mfilepath_or_buffer\u001B[49m\u001B[43m,\u001B[49m\u001B[43m \u001B[49m\u001B[38;5;241;43m*\u001B[39;49m\u001B[38;5;241;43m*\u001B[39;49m\u001B[43mkwds\u001B[49m\u001B[43m)\u001B[49m\n\u001B[1;32m    622\u001B[0m \u001B[38;5;28;01mif\u001B[39;00m chunksize \u001B[38;5;129;01mor\u001B[39;00m iterator:\n\u001B[1;32m    623\u001B[0m     \u001B[38;5;28;01mreturn\u001B[39;00m parser\n",
      "File \u001B[0;32m~/venv/lib/python3.11/site-packages/pandas/io/parsers/readers.py:1620\u001B[0m, in \u001B[0;36mTextFileReader.__init__\u001B[0;34m(self, f, engine, **kwds)\u001B[0m\n\u001B[1;32m   1617\u001B[0m     \u001B[38;5;28mself\u001B[39m\u001B[38;5;241m.\u001B[39moptions[\u001B[38;5;124m\"\u001B[39m\u001B[38;5;124mhas_index_names\u001B[39m\u001B[38;5;124m\"\u001B[39m] \u001B[38;5;241m=\u001B[39m kwds[\u001B[38;5;124m\"\u001B[39m\u001B[38;5;124mhas_index_names\u001B[39m\u001B[38;5;124m\"\u001B[39m]\n\u001B[1;32m   1619\u001B[0m \u001B[38;5;28mself\u001B[39m\u001B[38;5;241m.\u001B[39mhandles: IOHandles \u001B[38;5;241m|\u001B[39m \u001B[38;5;28;01mNone\u001B[39;00m \u001B[38;5;241m=\u001B[39m \u001B[38;5;28;01mNone\u001B[39;00m\n\u001B[0;32m-> 1620\u001B[0m \u001B[38;5;28mself\u001B[39m\u001B[38;5;241m.\u001B[39m_engine \u001B[38;5;241m=\u001B[39m \u001B[38;5;28;43mself\u001B[39;49m\u001B[38;5;241;43m.\u001B[39;49m\u001B[43m_make_engine\u001B[49m\u001B[43m(\u001B[49m\u001B[43mf\u001B[49m\u001B[43m,\u001B[49m\u001B[43m \u001B[49m\u001B[38;5;28;43mself\u001B[39;49m\u001B[38;5;241;43m.\u001B[39;49m\u001B[43mengine\u001B[49m\u001B[43m)\u001B[49m\n",
      "File \u001B[0;32m~/venv/lib/python3.11/site-packages/pandas/io/parsers/readers.py:1880\u001B[0m, in \u001B[0;36mTextFileReader._make_engine\u001B[0;34m(self, f, engine)\u001B[0m\n\u001B[1;32m   1878\u001B[0m     \u001B[38;5;28;01mif\u001B[39;00m \u001B[38;5;124m\"\u001B[39m\u001B[38;5;124mb\u001B[39m\u001B[38;5;124m\"\u001B[39m \u001B[38;5;129;01mnot\u001B[39;00m \u001B[38;5;129;01min\u001B[39;00m mode:\n\u001B[1;32m   1879\u001B[0m         mode \u001B[38;5;241m+\u001B[39m\u001B[38;5;241m=\u001B[39m \u001B[38;5;124m\"\u001B[39m\u001B[38;5;124mb\u001B[39m\u001B[38;5;124m\"\u001B[39m\n\u001B[0;32m-> 1880\u001B[0m \u001B[38;5;28mself\u001B[39m\u001B[38;5;241m.\u001B[39mhandles \u001B[38;5;241m=\u001B[39m \u001B[43mget_handle\u001B[49m\u001B[43m(\u001B[49m\n\u001B[1;32m   1881\u001B[0m \u001B[43m    \u001B[49m\u001B[43mf\u001B[49m\u001B[43m,\u001B[49m\n\u001B[1;32m   1882\u001B[0m \u001B[43m    \u001B[49m\u001B[43mmode\u001B[49m\u001B[43m,\u001B[49m\n\u001B[1;32m   1883\u001B[0m \u001B[43m    \u001B[49m\u001B[43mencoding\u001B[49m\u001B[38;5;241;43m=\u001B[39;49m\u001B[38;5;28;43mself\u001B[39;49m\u001B[38;5;241;43m.\u001B[39;49m\u001B[43moptions\u001B[49m\u001B[38;5;241;43m.\u001B[39;49m\u001B[43mget\u001B[49m\u001B[43m(\u001B[49m\u001B[38;5;124;43m\"\u001B[39;49m\u001B[38;5;124;43mencoding\u001B[39;49m\u001B[38;5;124;43m\"\u001B[39;49m\u001B[43m,\u001B[49m\u001B[43m \u001B[49m\u001B[38;5;28;43;01mNone\u001B[39;49;00m\u001B[43m)\u001B[49m\u001B[43m,\u001B[49m\n\u001B[1;32m   1884\u001B[0m \u001B[43m    \u001B[49m\u001B[43mcompression\u001B[49m\u001B[38;5;241;43m=\u001B[39;49m\u001B[38;5;28;43mself\u001B[39;49m\u001B[38;5;241;43m.\u001B[39;49m\u001B[43moptions\u001B[49m\u001B[38;5;241;43m.\u001B[39;49m\u001B[43mget\u001B[49m\u001B[43m(\u001B[49m\u001B[38;5;124;43m\"\u001B[39;49m\u001B[38;5;124;43mcompression\u001B[39;49m\u001B[38;5;124;43m\"\u001B[39;49m\u001B[43m,\u001B[49m\u001B[43m \u001B[49m\u001B[38;5;28;43;01mNone\u001B[39;49;00m\u001B[43m)\u001B[49m\u001B[43m,\u001B[49m\n\u001B[1;32m   1885\u001B[0m \u001B[43m    \u001B[49m\u001B[43mmemory_map\u001B[49m\u001B[38;5;241;43m=\u001B[39;49m\u001B[38;5;28;43mself\u001B[39;49m\u001B[38;5;241;43m.\u001B[39;49m\u001B[43moptions\u001B[49m\u001B[38;5;241;43m.\u001B[39;49m\u001B[43mget\u001B[49m\u001B[43m(\u001B[49m\u001B[38;5;124;43m\"\u001B[39;49m\u001B[38;5;124;43mmemory_map\u001B[39;49m\u001B[38;5;124;43m\"\u001B[39;49m\u001B[43m,\u001B[49m\u001B[43m \u001B[49m\u001B[38;5;28;43;01mFalse\u001B[39;49;00m\u001B[43m)\u001B[49m\u001B[43m,\u001B[49m\n\u001B[1;32m   1886\u001B[0m \u001B[43m    \u001B[49m\u001B[43mis_text\u001B[49m\u001B[38;5;241;43m=\u001B[39;49m\u001B[43mis_text\u001B[49m\u001B[43m,\u001B[49m\n\u001B[1;32m   1887\u001B[0m \u001B[43m    \u001B[49m\u001B[43merrors\u001B[49m\u001B[38;5;241;43m=\u001B[39;49m\u001B[38;5;28;43mself\u001B[39;49m\u001B[38;5;241;43m.\u001B[39;49m\u001B[43moptions\u001B[49m\u001B[38;5;241;43m.\u001B[39;49m\u001B[43mget\u001B[49m\u001B[43m(\u001B[49m\u001B[38;5;124;43m\"\u001B[39;49m\u001B[38;5;124;43mencoding_errors\u001B[39;49m\u001B[38;5;124;43m\"\u001B[39;49m\u001B[43m,\u001B[49m\u001B[43m \u001B[49m\u001B[38;5;124;43m\"\u001B[39;49m\u001B[38;5;124;43mstrict\u001B[39;49m\u001B[38;5;124;43m\"\u001B[39;49m\u001B[43m)\u001B[49m\u001B[43m,\u001B[49m\n\u001B[1;32m   1888\u001B[0m \u001B[43m    \u001B[49m\u001B[43mstorage_options\u001B[49m\u001B[38;5;241;43m=\u001B[39;49m\u001B[38;5;28;43mself\u001B[39;49m\u001B[38;5;241;43m.\u001B[39;49m\u001B[43moptions\u001B[49m\u001B[38;5;241;43m.\u001B[39;49m\u001B[43mget\u001B[49m\u001B[43m(\u001B[49m\u001B[38;5;124;43m\"\u001B[39;49m\u001B[38;5;124;43mstorage_options\u001B[39;49m\u001B[38;5;124;43m\"\u001B[39;49m\u001B[43m,\u001B[49m\u001B[43m \u001B[49m\u001B[38;5;28;43;01mNone\u001B[39;49;00m\u001B[43m)\u001B[49m\u001B[43m,\u001B[49m\n\u001B[1;32m   1889\u001B[0m \u001B[43m\u001B[49m\u001B[43m)\u001B[49m\n\u001B[1;32m   1890\u001B[0m \u001B[38;5;28;01massert\u001B[39;00m \u001B[38;5;28mself\u001B[39m\u001B[38;5;241m.\u001B[39mhandles \u001B[38;5;129;01mis\u001B[39;00m \u001B[38;5;129;01mnot\u001B[39;00m \u001B[38;5;28;01mNone\u001B[39;00m\n\u001B[1;32m   1891\u001B[0m f \u001B[38;5;241m=\u001B[39m \u001B[38;5;28mself\u001B[39m\u001B[38;5;241m.\u001B[39mhandles\u001B[38;5;241m.\u001B[39mhandle\n",
      "File \u001B[0;32m~/venv/lib/python3.11/site-packages/pandas/io/common.py:873\u001B[0m, in \u001B[0;36mget_handle\u001B[0;34m(path_or_buf, mode, encoding, compression, memory_map, is_text, errors, storage_options)\u001B[0m\n\u001B[1;32m    868\u001B[0m \u001B[38;5;28;01melif\u001B[39;00m \u001B[38;5;28misinstance\u001B[39m(handle, \u001B[38;5;28mstr\u001B[39m):\n\u001B[1;32m    869\u001B[0m     \u001B[38;5;66;03m# Check whether the filename is to be opened in binary mode.\u001B[39;00m\n\u001B[1;32m    870\u001B[0m     \u001B[38;5;66;03m# Binary mode does not support 'encoding' and 'newline'.\u001B[39;00m\n\u001B[1;32m    871\u001B[0m     \u001B[38;5;28;01mif\u001B[39;00m ioargs\u001B[38;5;241m.\u001B[39mencoding \u001B[38;5;129;01mand\u001B[39;00m \u001B[38;5;124m\"\u001B[39m\u001B[38;5;124mb\u001B[39m\u001B[38;5;124m\"\u001B[39m \u001B[38;5;129;01mnot\u001B[39;00m \u001B[38;5;129;01min\u001B[39;00m ioargs\u001B[38;5;241m.\u001B[39mmode:\n\u001B[1;32m    872\u001B[0m         \u001B[38;5;66;03m# Encoding\u001B[39;00m\n\u001B[0;32m--> 873\u001B[0m         handle \u001B[38;5;241m=\u001B[39m \u001B[38;5;28;43mopen\u001B[39;49m\u001B[43m(\u001B[49m\n\u001B[1;32m    874\u001B[0m \u001B[43m            \u001B[49m\u001B[43mhandle\u001B[49m\u001B[43m,\u001B[49m\n\u001B[1;32m    875\u001B[0m \u001B[43m            \u001B[49m\u001B[43mioargs\u001B[49m\u001B[38;5;241;43m.\u001B[39;49m\u001B[43mmode\u001B[49m\u001B[43m,\u001B[49m\n\u001B[1;32m    876\u001B[0m \u001B[43m            \u001B[49m\u001B[43mencoding\u001B[49m\u001B[38;5;241;43m=\u001B[39;49m\u001B[43mioargs\u001B[49m\u001B[38;5;241;43m.\u001B[39;49m\u001B[43mencoding\u001B[49m\u001B[43m,\u001B[49m\n\u001B[1;32m    877\u001B[0m \u001B[43m            \u001B[49m\u001B[43merrors\u001B[49m\u001B[38;5;241;43m=\u001B[39;49m\u001B[43merrors\u001B[49m\u001B[43m,\u001B[49m\n\u001B[1;32m    878\u001B[0m \u001B[43m            \u001B[49m\u001B[43mnewline\u001B[49m\u001B[38;5;241;43m=\u001B[39;49m\u001B[38;5;124;43m\"\u001B[39;49m\u001B[38;5;124;43m\"\u001B[39;49m\u001B[43m,\u001B[49m\n\u001B[1;32m    879\u001B[0m \u001B[43m        \u001B[49m\u001B[43m)\u001B[49m\n\u001B[1;32m    880\u001B[0m     \u001B[38;5;28;01melse\u001B[39;00m:\n\u001B[1;32m    881\u001B[0m         \u001B[38;5;66;03m# Binary mode\u001B[39;00m\n\u001B[1;32m    882\u001B[0m         handle \u001B[38;5;241m=\u001B[39m \u001B[38;5;28mopen\u001B[39m(handle, ioargs\u001B[38;5;241m.\u001B[39mmode)\n",
      "\u001B[0;31mFileNotFoundError\u001B[0m: [Errno 2] No such file or directory: '../input/behavioral-risk-factor-surveillance-system/2015.csv'"
     ]
    }
   ],
   "execution_count": 2
  },
  {
   "cell_type": "code",
   "source": "#How many rows and columns\nbrfss_2015_dataset.shape",
   "metadata": {
    "execution": {
     "iopub.status.busy": "2021-11-08T16:41:45.65405Z",
     "iopub.execute_input": "2021-11-08T16:41:45.654358Z",
     "iopub.status.idle": "2021-11-08T16:41:45.664459Z",
     "shell.execute_reply.started": "2021-11-08T16:41:45.654273Z",
     "shell.execute_reply": "2021-11-08T16:41:45.662641Z"
    },
    "trusted": true
   },
   "outputs": [],
   "execution_count": null
  },
  {
   "cell_type": "code",
   "source": "#check that the data loaded in is in the correct format\npd.set_option('display.max_columns', 500)\nbrfss_2015_dataset.head()",
   "metadata": {
    "execution": {
     "iopub.status.busy": "2021-11-08T16:41:45.666149Z",
     "iopub.execute_input": "2021-11-08T16:41:45.667161Z",
     "iopub.status.idle": "2021-11-08T16:41:46.059106Z",
     "shell.execute_reply.started": "2021-11-08T16:41:45.667079Z",
     "shell.execute_reply": "2021-11-08T16:41:46.058203Z"
    },
    "trusted": true
   },
   "outputs": [],
   "execution_count": null
  },
  {
   "cell_type": "markdown",
   "source": "**At this point we have 441,456 records and 330 columns. Each record contains an individual's BRFSS survey responses.**",
   "metadata": {}
  },
  {
   "cell_type": "code",
   "source": "# select specific columns\nbrfss_df_selected = brfss_2015_dataset[['DIABETE3',\n                                         '_RFHYPE5',  \n                                         'TOLDHI2', '_CHOLCHK', \n                                         '_BMI5', \n                                         'SMOKE100', \n                                         'CVDSTRK3', '_MICHD', \n                                         '_TOTINDA', \n                                         '_FRTLT1', '_VEGLT1', \n                                         '_RFDRHV5', \n                                         'HLTHPLN1', 'MEDCOST', \n                                         'GENHLTH', 'MENTHLTH', 'PHYSHLTH', 'DIFFWALK', \n                                         'SEX', '_AGEG5YR', 'EDUCA', 'INCOME2' ]]",
   "metadata": {
    "execution": {
     "iopub.status.busy": "2021-11-08T16:41:46.061445Z",
     "iopub.execute_input": "2021-11-08T16:41:46.062731Z",
     "iopub.status.idle": "2021-11-08T16:41:46.095225Z",
     "shell.execute_reply.started": "2021-11-08T16:41:46.062634Z",
     "shell.execute_reply": "2021-11-08T16:41:46.094012Z"
    },
    "trusted": true
   },
   "outputs": [],
   "execution_count": null
  },
  {
   "cell_type": "code",
   "source": "brfss_df_selected.shape",
   "metadata": {
    "execution": {
     "iopub.status.busy": "2021-11-08T16:41:46.096908Z",
     "iopub.execute_input": "2021-11-08T16:41:46.097372Z",
     "iopub.status.idle": "2021-11-08T16:41:46.111559Z",
     "shell.execute_reply.started": "2021-11-08T16:41:46.097322Z",
     "shell.execute_reply": "2021-11-08T16:41:46.110643Z"
    },
    "trusted": true
   },
   "outputs": [],
   "execution_count": null
  },
  {
   "cell_type": "code",
   "source": "brfss_df_selected.head()",
   "metadata": {
    "execution": {
     "iopub.status.busy": "2021-11-08T16:41:46.112722Z",
     "iopub.execute_input": "2021-11-08T16:41:46.113321Z",
     "iopub.status.idle": "2021-11-08T16:41:46.149445Z",
     "shell.execute_reply.started": "2021-11-08T16:41:46.113253Z",
     "shell.execute_reply": "2021-11-08T16:41:46.148708Z"
    },
    "trusted": true
   },
   "execution_count": null,
   "outputs": []
  },
  {
   "cell_type": "markdown",
   "source": "## 2. Clean the data",
   "metadata": {}
  },
  {
   "cell_type": "markdown",
   "source": "### 2.1 Drop missing values",
   "metadata": {}
  },
  {
   "cell_type": "code",
   "source": "#Drop Missing Values - knocks 100,000 rows out right away\nbrfss_df_selected = brfss_df_selected.dropna()\nbrfss_df_selected.shape",
   "metadata": {
    "execution": {
     "iopub.status.busy": "2021-11-08T16:41:46.150843Z",
     "iopub.execute_input": "2021-11-08T16:41:46.151243Z",
     "iopub.status.idle": "2021-11-08T16:41:46.217634Z",
     "shell.execute_reply.started": "2021-11-08T16:41:46.151212Z",
     "shell.execute_reply": "2021-11-08T16:41:46.216786Z"
    },
    "trusted": true
   },
   "execution_count": null,
   "outputs": []
  },
  {
   "cell_type": "markdown",
   "source": "### 2.2 Modify and clean the values to be more suitable to ML algorithms\nIn order to do this part, I referenced the codebook which says what each column/feature/question is: https://www.cdc.gov/brfss/annual_data/2015/pdf/codebook15_llcp.pdf",
   "metadata": {}
  },
  {
   "cell_type": "code",
   "source": "# DIABETE3\n# going to make this ordinal. 0 is for no diabetes or only during pregnancy, 1 is for pre-diabetes or borderline diabetes, 2 is for yes diabetes\n# Remove all 7 (dont knows)\n# Remove all 9 (refused)\nbrfss_df_selected['DIABETE3'] = brfss_df_selected['DIABETE3'].replace({2:0, 3:0, 1:2, 4:1})\nbrfss_df_selected = brfss_df_selected[brfss_df_selected.DIABETE3 != 7]\nbrfss_df_selected = brfss_df_selected[brfss_df_selected.DIABETE3 != 9]\nbrfss_df_selected.DIABETE3.unique()",
   "metadata": {
    "execution": {
     "iopub.status.busy": "2021-11-08T16:41:46.218995Z",
     "iopub.execute_input": "2021-11-08T16:41:46.219226Z",
     "iopub.status.idle": "2021-11-08T16:41:46.295841Z",
     "shell.execute_reply.started": "2021-11-08T16:41:46.219198Z",
     "shell.execute_reply": "2021-11-08T16:41:46.295238Z"
    },
    "trusted": true
   },
   "execution_count": null,
   "outputs": []
  },
  {
   "cell_type": "code",
   "source": "#1 _RFHYPE5\n#Change 1 to 0 so it represetnts No high blood pressure and 2 to 1 so it represents high blood pressure\nbrfss_df_selected['_RFHYPE5'] = brfss_df_selected['_RFHYPE5'].replace({1:0, 2:1})\nbrfss_df_selected = brfss_df_selected[brfss_df_selected._RFHYPE5 != 9]\nbrfss_df_selected._RFHYPE5.unique()",
   "metadata": {
    "execution": {
     "iopub.status.busy": "2021-11-08T16:41:46.296765Z",
     "iopub.execute_input": "2021-11-08T16:41:46.297455Z",
     "iopub.status.idle": "2021-11-08T16:41:46.34686Z",
     "shell.execute_reply.started": "2021-11-08T16:41:46.297412Z",
     "shell.execute_reply": "2021-11-08T16:41:46.345895Z"
    },
    "trusted": true
   },
   "execution_count": null,
   "outputs": []
  },
  {
   "cell_type": "code",
   "source": "#2 TOLDHI2\n# Change 2 to 0 because it is No\n# Remove all 7 (dont knows)\n# Remove all 9 (refused)\nbrfss_df_selected['TOLDHI2'] = brfss_df_selected['TOLDHI2'].replace({2:0})\nbrfss_df_selected = brfss_df_selected[brfss_df_selected.TOLDHI2 != 7]\nbrfss_df_selected = brfss_df_selected[brfss_df_selected.TOLDHI2 != 9]\nbrfss_df_selected.TOLDHI2.unique()",
   "metadata": {
    "execution": {
     "iopub.status.busy": "2021-11-08T16:41:46.349706Z",
     "iopub.execute_input": "2021-11-08T16:41:46.350094Z",
     "iopub.status.idle": "2021-11-08T16:41:46.421768Z",
     "shell.execute_reply.started": "2021-11-08T16:41:46.350062Z",
     "shell.execute_reply": "2021-11-08T16:41:46.420643Z"
    },
    "trusted": true
   },
   "execution_count": null,
   "outputs": []
  },
  {
   "cell_type": "code",
   "source": "#3 _CHOLCHK\n# Change 3 to 0 and 2 to 0 for Not checked cholesterol in past 5 years\n# Remove 9\nbrfss_df_selected['_CHOLCHK'] = brfss_df_selected['_CHOLCHK'].replace({3:0,2:0})\nbrfss_df_selected = brfss_df_selected[brfss_df_selected._CHOLCHK != 9]\nbrfss_df_selected._CHOLCHK.unique()",
   "metadata": {
    "execution": {
     "iopub.status.busy": "2021-11-08T16:41:46.423401Z",
     "iopub.execute_input": "2021-11-08T16:41:46.42388Z",
     "iopub.status.idle": "2021-11-08T16:41:46.464067Z",
     "shell.execute_reply.started": "2021-11-08T16:41:46.423846Z",
     "shell.execute_reply": "2021-11-08T16:41:46.463267Z"
    },
    "trusted": true
   },
   "execution_count": null,
   "outputs": []
  },
  {
   "cell_type": "code",
   "source": "#4 _BMI5 (no changes, just note that these are BMI * 100. So for example a BMI of 4018 is really 40.18)\nbrfss_df_selected['_BMI5'] = brfss_df_selected['_BMI5'].div(100).round(0)\nbrfss_df_selected._BMI5.unique()",
   "metadata": {
    "execution": {
     "iopub.status.busy": "2021-11-08T16:41:46.46595Z",
     "iopub.execute_input": "2021-11-08T16:41:46.466643Z",
     "iopub.status.idle": "2021-11-08T16:41:46.48208Z",
     "shell.execute_reply.started": "2021-11-08T16:41:46.466596Z",
     "shell.execute_reply": "2021-11-08T16:41:46.481259Z"
    },
    "trusted": true
   },
   "execution_count": null,
   "outputs": []
  },
  {
   "cell_type": "code",
   "source": "#5 SMOKE100\n# Change 2 to 0 because it is No\n# Remove all 7 (dont knows)\n# Remove all 9 (refused)\nbrfss_df_selected['SMOKE100'] = brfss_df_selected['SMOKE100'].replace({2:0})\nbrfss_df_selected = brfss_df_selected[brfss_df_selected.SMOKE100 != 7]\nbrfss_df_selected = brfss_df_selected[brfss_df_selected.SMOKE100 != 9]\nbrfss_df_selected.SMOKE100.unique()",
   "metadata": {
    "execution": {
     "iopub.status.busy": "2021-11-08T16:41:46.4832Z",
     "iopub.execute_input": "2021-11-08T16:41:46.48364Z",
     "iopub.status.idle": "2021-11-08T16:41:46.549833Z",
     "shell.execute_reply.started": "2021-11-08T16:41:46.483595Z",
     "shell.execute_reply": "2021-11-08T16:41:46.548704Z"
    },
    "trusted": true
   },
   "execution_count": null,
   "outputs": []
  },
  {
   "cell_type": "code",
   "source": "#6 CVDSTRK3\n# Change 2 to 0 because it is No\n# Remove all 7 (dont knows)\n# Remove all 9 (refused)\nbrfss_df_selected['CVDSTRK3'] = brfss_df_selected['CVDSTRK3'].replace({2:0})\nbrfss_df_selected = brfss_df_selected[brfss_df_selected.CVDSTRK3 != 7]\nbrfss_df_selected = brfss_df_selected[brfss_df_selected.CVDSTRK3 != 9]\nbrfss_df_selected.CVDSTRK3.unique()",
   "metadata": {
    "execution": {
     "iopub.status.busy": "2021-11-08T16:41:46.551984Z",
     "iopub.execute_input": "2021-11-08T16:41:46.552295Z",
     "iopub.status.idle": "2021-11-08T16:41:46.608888Z",
     "shell.execute_reply.started": "2021-11-08T16:41:46.552262Z",
     "shell.execute_reply": "2021-11-08T16:41:46.607534Z"
    },
    "trusted": true
   },
   "execution_count": null,
   "outputs": []
  },
  {
   "cell_type": "code",
   "source": "#7 _MICHD\n#Change 2 to 0 because this means did not have MI or CHD\nbrfss_df_selected['_MICHD'] = brfss_df_selected['_MICHD'].replace({2: 0})\nbrfss_df_selected._MICHD.unique()",
   "metadata": {
    "execution": {
     "iopub.status.busy": "2021-11-08T16:41:46.610422Z",
     "iopub.execute_input": "2021-11-08T16:41:46.610746Z",
     "iopub.status.idle": "2021-11-08T16:41:46.623875Z",
     "shell.execute_reply.started": "2021-11-08T16:41:46.610713Z",
     "shell.execute_reply": "2021-11-08T16:41:46.622956Z"
    },
    "trusted": true
   },
   "execution_count": null,
   "outputs": []
  },
  {
   "cell_type": "code",
   "source": "#8 _TOTINDA\n# 1 for physical activity\n# change 2 to 0 for no physical activity\n# Remove all 9 (don't know/refused)\nbrfss_df_selected['_TOTINDA'] = brfss_df_selected['_TOTINDA'].replace({2:0})\nbrfss_df_selected = brfss_df_selected[brfss_df_selected._TOTINDA != 9]\nbrfss_df_selected._TOTINDA.unique()",
   "metadata": {
    "execution": {
     "iopub.status.busy": "2021-11-08T16:41:46.625324Z",
     "iopub.execute_input": "2021-11-08T16:41:46.62572Z",
     "iopub.status.idle": "2021-11-08T16:41:46.661331Z",
     "shell.execute_reply.started": "2021-11-08T16:41:46.625687Z",
     "shell.execute_reply": "2021-11-08T16:41:46.660678Z"
    },
    "trusted": true
   },
   "execution_count": null,
   "outputs": []
  },
  {
   "cell_type": "code",
   "source": "#9 _FRTLT1\n# Change 2 to 0. this means no fruit consumed per day. 1 will mean consumed 1 or more pieces of fruit per day \n# remove all dont knows and missing 9\nbrfss_df_selected['_FRTLT1'] = brfss_df_selected['_FRTLT1'].replace({2:0})\nbrfss_df_selected = brfss_df_selected[brfss_df_selected._FRTLT1 != 9]\nbrfss_df_selected._FRTLT1.unique()",
   "metadata": {
    "execution": {
     "iopub.status.busy": "2021-11-08T16:41:46.662413Z",
     "iopub.execute_input": "2021-11-08T16:41:46.662996Z",
     "iopub.status.idle": "2021-11-08T16:41:46.696314Z",
     "shell.execute_reply.started": "2021-11-08T16:41:46.662964Z",
     "shell.execute_reply": "2021-11-08T16:41:46.695382Z"
    },
    "trusted": true
   },
   "execution_count": null,
   "outputs": []
  },
  {
   "cell_type": "code",
   "source": "#10 _VEGLT1\n# Change 2 to 0. this means no vegetables consumed per day. 1 will mean consumed 1 or more pieces of vegetable per day \n# remove all dont knows and missing 9\nbrfss_df_selected['_VEGLT1'] = brfss_df_selected['_VEGLT1'].replace({2:0})\nbrfss_df_selected = brfss_df_selected[brfss_df_selected._VEGLT1 != 9]\nbrfss_df_selected._VEGLT1.unique()",
   "metadata": {
    "execution": {
     "iopub.status.busy": "2021-11-08T16:41:46.697507Z",
     "iopub.execute_input": "2021-11-08T16:41:46.697759Z",
     "iopub.status.idle": "2021-11-08T16:41:46.730609Z",
     "shell.execute_reply.started": "2021-11-08T16:41:46.697718Z",
     "shell.execute_reply": "2021-11-08T16:41:46.729773Z"
    },
    "trusted": true
   },
   "execution_count": null,
   "outputs": []
  },
  {
   "cell_type": "code",
   "source": "#11 _RFDRHV5\n# Change 1 to 0 (1 was no for heavy drinking). change all 2 to 1 (2 was yes for heavy drinking)\n# remove all dont knows and missing 9\nbrfss_df_selected['_RFDRHV5'] = brfss_df_selected['_RFDRHV5'].replace({1:0, 2:1})\nbrfss_df_selected = brfss_df_selected[brfss_df_selected._RFDRHV5 != 9]\nbrfss_df_selected._RFDRHV5.unique()",
   "metadata": {
    "execution": {
     "iopub.status.busy": "2021-11-08T16:41:46.732387Z",
     "iopub.execute_input": "2021-11-08T16:41:46.733023Z",
     "iopub.status.idle": "2021-11-08T16:41:46.76234Z",
     "shell.execute_reply.started": "2021-11-08T16:41:46.732983Z",
     "shell.execute_reply": "2021-11-08T16:41:46.761433Z"
    },
    "trusted": true
   },
   "execution_count": null,
   "outputs": []
  },
  {
   "cell_type": "code",
   "source": "#12 HLTHPLN1\n# 1 is yes, change 2 to 0 because it is No health care access\n# remove 7 and 9 for don't know or refused\nbrfss_df_selected['HLTHPLN1'] = brfss_df_selected['HLTHPLN1'].replace({2:0})\nbrfss_df_selected = brfss_df_selected[brfss_df_selected.HLTHPLN1 != 7]\nbrfss_df_selected = brfss_df_selected[brfss_df_selected.HLTHPLN1 != 9]\nbrfss_df_selected.HLTHPLN1.unique()",
   "metadata": {
    "execution": {
     "iopub.status.busy": "2021-11-08T16:41:46.763934Z",
     "iopub.execute_input": "2021-11-08T16:41:46.764173Z",
     "iopub.status.idle": "2021-11-08T16:41:46.817609Z",
     "shell.execute_reply.started": "2021-11-08T16:41:46.764144Z",
     "shell.execute_reply": "2021-11-08T16:41:46.81696Z"
    },
    "trusted": true
   },
   "execution_count": null,
   "outputs": []
  },
  {
   "cell_type": "code",
   "source": "#13 MEDCOST\n# Change 2 to 0 for no, 1 is already yes\n# remove 7 for don/t know and 9 for refused\nbrfss_df_selected['MEDCOST'] = brfss_df_selected['MEDCOST'].replace({2:0})\nbrfss_df_selected = brfss_df_selected[brfss_df_selected.MEDCOST != 7]\nbrfss_df_selected = brfss_df_selected[brfss_df_selected.MEDCOST != 9]\nbrfss_df_selected.MEDCOST.unique()",
   "metadata": {
    "execution": {
     "iopub.status.busy": "2021-11-08T16:41:46.819134Z",
     "iopub.execute_input": "2021-11-08T16:41:46.819612Z",
     "iopub.status.idle": "2021-11-08T16:41:46.871358Z",
     "shell.execute_reply.started": "2021-11-08T16:41:46.819575Z",
     "shell.execute_reply": "2021-11-08T16:41:46.870546Z"
    },
    "trusted": true
   },
   "execution_count": null,
   "outputs": []
  },
  {
   "cell_type": "code",
   "source": "#14 GENHLTH\n# This is an ordinal variable that I want to keep (1 is Excellent -> 5 is Poor)\n# Remove 7 and 9 for don't know and refused\nbrfss_df_selected = brfss_df_selected[brfss_df_selected.GENHLTH != 7]\nbrfss_df_selected = brfss_df_selected[brfss_df_selected.GENHLTH != 9]\nbrfss_df_selected.GENHLTH.unique()",
   "metadata": {
    "execution": {
     "iopub.status.busy": "2021-11-08T16:41:46.872499Z",
     "iopub.execute_input": "2021-11-08T16:41:46.873576Z",
     "iopub.status.idle": "2021-11-08T16:41:46.921921Z",
     "shell.execute_reply.started": "2021-11-08T16:41:46.873519Z",
     "shell.execute_reply": "2021-11-08T16:41:46.92074Z"
    },
    "trusted": true
   },
   "execution_count": null,
   "outputs": []
  },
  {
   "cell_type": "code",
   "source": "#15 MENTHLTH\n# already in days so keep that, scale will be 0-30\n# change 88 to 0 because it means none (no bad mental health days)\n# remove 77 and 99 for don't know not sure and refused\nbrfss_df_selected['MENTHLTH'] = brfss_df_selected['MENTHLTH'].replace({88:0})\nbrfss_df_selected = brfss_df_selected[brfss_df_selected.MENTHLTH != 77]\nbrfss_df_selected = brfss_df_selected[brfss_df_selected.MENTHLTH != 99]\nbrfss_df_selected.MENTHLTH.unique()",
   "metadata": {
    "execution": {
     "iopub.status.busy": "2021-11-08T16:41:46.923607Z",
     "iopub.execute_input": "2021-11-08T16:41:46.923836Z",
     "iopub.status.idle": "2021-11-08T16:41:46.976516Z",
     "shell.execute_reply.started": "2021-11-08T16:41:46.923809Z",
     "shell.execute_reply": "2021-11-08T16:41:46.975697Z"
    },
    "trusted": true
   },
   "execution_count": null,
   "outputs": []
  },
  {
   "cell_type": "code",
   "source": "#16 PHYSHLTH\n# already in days so keep that, scale will be 0-30\n# change 88 to 0 because it means none (no bad mental health days)\n# remove 77 and 99 for don't know not sure and refused\nbrfss_df_selected['PHYSHLTH'] = brfss_df_selected['PHYSHLTH'].replace({88:0})\nbrfss_df_selected = brfss_df_selected[brfss_df_selected.PHYSHLTH != 77]\nbrfss_df_selected = brfss_df_selected[brfss_df_selected.PHYSHLTH != 99]\nbrfss_df_selected.PHYSHLTH.unique()",
   "metadata": {
    "execution": {
     "iopub.status.busy": "2021-11-08T16:41:46.977753Z",
     "iopub.execute_input": "2021-11-08T16:41:46.977976Z",
     "iopub.status.idle": "2021-11-08T16:41:47.028164Z",
     "shell.execute_reply.started": "2021-11-08T16:41:46.977949Z",
     "shell.execute_reply": "2021-11-08T16:41:47.027358Z"
    },
    "trusted": true
   },
   "execution_count": null,
   "outputs": []
  },
  {
   "cell_type": "code",
   "source": "#17 DIFFWALK\n# change 2 to 0 for no. 1 is already yes\n# remove 7 and 9 for don't know not sure and refused\nbrfss_df_selected['DIFFWALK'] = brfss_df_selected['DIFFWALK'].replace({2:0})\nbrfss_df_selected = brfss_df_selected[brfss_df_selected.DIFFWALK != 7]\nbrfss_df_selected = brfss_df_selected[brfss_df_selected.DIFFWALK != 9]\nbrfss_df_selected.DIFFWALK.unique()",
   "metadata": {
    "execution": {
     "iopub.status.busy": "2021-11-08T16:41:47.029532Z",
     "iopub.execute_input": "2021-11-08T16:41:47.029898Z",
     "iopub.status.idle": "2021-11-08T16:41:47.086436Z",
     "shell.execute_reply.started": "2021-11-08T16:41:47.029857Z",
     "shell.execute_reply": "2021-11-08T16:41:47.085292Z"
    },
    "trusted": true
   },
   "execution_count": null,
   "outputs": []
  },
  {
   "cell_type": "code",
   "source": "#18 SEX\n# in other words - is respondent male (somewhat arbitrarily chose this change because men are at higher risk for heart disease)\n# change 2 to 0 (female as 0). Male is 1\nbrfss_df_selected['SEX'] = brfss_df_selected['SEX'].replace({2:0})\nbrfss_df_selected.SEX.unique()",
   "metadata": {
    "execution": {
     "iopub.status.busy": "2021-11-08T16:41:47.087632Z",
     "iopub.execute_input": "2021-11-08T16:41:47.08787Z",
     "iopub.status.idle": "2021-11-08T16:41:47.103491Z",
     "shell.execute_reply.started": "2021-11-08T16:41:47.087811Z",
     "shell.execute_reply": "2021-11-08T16:41:47.102594Z"
    },
    "trusted": true
   },
   "execution_count": null,
   "outputs": []
  },
  {
   "cell_type": "code",
   "source": "#19 _AGEG5YR\n# already ordinal. 1 is 18-24 all the way up to 13 wis 80 and older. 5 year increments.\n# remove 14 because it is don't know or missing\nbrfss_df_selected = brfss_df_selected[brfss_df_selected._AGEG5YR != 14]\nbrfss_df_selected._AGEG5YR.unique()",
   "metadata": {
    "execution": {
     "iopub.status.busy": "2021-11-08T16:41:47.105212Z",
     "iopub.execute_input": "2021-11-08T16:41:47.105676Z",
     "iopub.status.idle": "2021-11-08T16:41:47.140417Z",
     "shell.execute_reply.started": "2021-11-08T16:41:47.10561Z",
     "shell.execute_reply": "2021-11-08T16:41:47.139277Z"
    },
    "trusted": true
   },
   "execution_count": null,
   "outputs": []
  },
  {
   "cell_type": "code",
   "source": "#20 EDUCA\n# This is already an ordinal variable with 1 being never attended school or kindergarten only up to 6 being college 4 years or more\n# Scale here is 1-6\n# Remove 9 for refused:\nbrfss_df_selected = brfss_df_selected[brfss_df_selected.EDUCA != 9]\nbrfss_df_selected.EDUCA.unique()",
   "metadata": {
    "execution": {
     "iopub.status.busy": "2021-11-08T16:41:47.144038Z",
     "iopub.execute_input": "2021-11-08T16:41:47.144662Z",
     "iopub.status.idle": "2021-11-08T16:41:47.177149Z",
     "shell.execute_reply.started": "2021-11-08T16:41:47.144617Z",
     "shell.execute_reply": "2021-11-08T16:41:47.176436Z"
    },
    "trusted": true
   },
   "execution_count": null,
   "outputs": []
  },
  {
   "cell_type": "code",
   "source": "#21 INCOME2\n# Variable is already ordinal with 1 being less than $10,000 all the way up to 8 being $75,000 or more\n# Remove 77 and 99 for don't know and refused\nbrfss_df_selected = brfss_df_selected[brfss_df_selected.INCOME2 != 77]\nbrfss_df_selected = brfss_df_selected[brfss_df_selected.INCOME2 != 99]\nbrfss_df_selected.INCOME2.unique()",
   "metadata": {
    "execution": {
     "iopub.status.busy": "2021-11-08T16:41:47.17841Z",
     "iopub.execute_input": "2021-11-08T16:41:47.178807Z",
     "iopub.status.idle": "2021-11-08T16:41:47.225293Z",
     "shell.execute_reply.started": "2021-11-08T16:41:47.178764Z",
     "shell.execute_reply": "2021-11-08T16:41:47.224363Z"
    },
    "trusted": true
   },
   "execution_count": null,
   "outputs": []
  },
  {
   "cell_type": "code",
   "source": "#Check the shape of the dataset now: We have 253,680 cleaned rows and 22 columns (1 of which is our dependent variable)\nbrfss_df_selected.shape",
   "metadata": {
    "execution": {
     "iopub.status.busy": "2021-11-08T16:41:47.226862Z",
     "iopub.execute_input": "2021-11-08T16:41:47.227115Z",
     "iopub.status.idle": "2021-11-08T16:41:47.233386Z",
     "shell.execute_reply.started": "2021-11-08T16:41:47.227088Z",
     "shell.execute_reply": "2021-11-08T16:41:47.232394Z"
    },
    "trusted": true
   },
   "execution_count": null,
   "outputs": []
  },
  {
   "cell_type": "code",
   "source": "#Let's see what the data looks like after Modifying Values\nbrfss_df_selected.head()",
   "metadata": {
    "execution": {
     "iopub.status.busy": "2021-11-08T16:41:47.235193Z",
     "iopub.execute_input": "2021-11-08T16:41:47.235448Z",
     "iopub.status.idle": "2021-11-08T16:41:47.268621Z",
     "shell.execute_reply.started": "2021-11-08T16:41:47.23542Z",
     "shell.execute_reply": "2021-11-08T16:41:47.267775Z"
    },
    "trusted": true
   },
   "execution_count": null,
   "outputs": []
  },
  {
   "cell_type": "code",
   "source": "#Check Class Sizes of the heart disease column\nbrfss_df_selected.groupby(['DIABETE3']).size()",
   "metadata": {
    "execution": {
     "iopub.status.busy": "2021-11-08T16:41:47.270241Z",
     "iopub.execute_input": "2021-11-08T16:41:47.270924Z",
     "iopub.status.idle": "2021-11-08T16:41:47.288825Z",
     "shell.execute_reply.started": "2021-11-08T16:41:47.270878Z",
     "shell.execute_reply": "2021-11-08T16:41:47.287971Z"
    },
    "trusted": true
   },
   "execution_count": null,
   "outputs": []
  },
  {
   "cell_type": "markdown",
   "source": "## 3. Make feature names more readable",
   "metadata": {}
  },
  {
   "cell_type": "code",
   "source": "#Rename the columns to make them more readable\nbrfss = brfss_df_selected.rename(columns = {'DIABETE3':'Diabetes_012', \n                                         '_RFHYPE5':'HighBP',  \n                                         'TOLDHI2':'HighChol', '_CHOLCHK':'CholCheck', \n                                         '_BMI5':'BMI', \n                                         'SMOKE100':'Smoker', \n                                         'CVDSTRK3':'Stroke', '_MICHD':'HeartDiseaseorAttack', \n                                         '_TOTINDA':'PhysActivity', \n                                         '_FRTLT1':'Fruits', '_VEGLT1':\"Veggies\", \n                                         '_RFDRHV5':'HvyAlcoholConsump', \n                                         'HLTHPLN1':'AnyHealthcare', 'MEDCOST':'NoDocbcCost', \n                                         'GENHLTH':'GenHlth', 'MENTHLTH':'MentHlth', 'PHYSHLTH':'PhysHlth', 'DIFFWALK':'DiffWalk', \n                                         'SEX':'Sex', '_AGEG5YR':'Age', 'EDUCA':'Education', 'INCOME2':'Income' })",
   "metadata": {
    "execution": {
     "iopub.status.busy": "2021-11-08T16:41:47.290302Z",
     "iopub.execute_input": "2021-11-08T16:41:47.290626Z",
     "iopub.status.idle": "2021-11-08T16:41:47.309309Z",
     "shell.execute_reply.started": "2021-11-08T16:41:47.290586Z",
     "shell.execute_reply": "2021-11-08T16:41:47.307756Z"
    },
    "trusted": true
   },
   "execution_count": null,
   "outputs": []
  },
  {
   "cell_type": "code",
   "source": "brfss.head()",
   "metadata": {
    "execution": {
     "iopub.status.busy": "2021-11-08T16:41:47.310878Z",
     "iopub.execute_input": "2021-11-08T16:41:47.311161Z",
     "iopub.status.idle": "2021-11-08T16:41:47.347028Z",
     "shell.execute_reply.started": "2021-11-08T16:41:47.311132Z",
     "shell.execute_reply": "2021-11-08T16:41:47.346182Z"
    },
    "trusted": true
   },
   "execution_count": null,
   "outputs": []
  },
  {
   "cell_type": "code",
   "source": "brfss.shape",
   "metadata": {
    "execution": {
     "iopub.status.busy": "2021-11-08T16:41:47.348369Z",
     "iopub.execute_input": "2021-11-08T16:41:47.348638Z",
     "iopub.status.idle": "2021-11-08T16:41:47.353158Z",
     "shell.execute_reply.started": "2021-11-08T16:41:47.348611Z",
     "shell.execute_reply": "2021-11-08T16:41:47.352552Z"
    },
    "trusted": true
   },
   "execution_count": null,
   "outputs": []
  },
  {
   "cell_type": "code",
   "source": "#Check how many respondents have no diabetes, prediabetes or diabetes. Note the class imbalance!\nbrfss.groupby(['Diabetes_012']).size()",
   "metadata": {
    "execution": {
     "iopub.status.busy": "2021-11-08T16:41:47.354373Z",
     "iopub.execute_input": "2021-11-08T16:41:47.355083Z",
     "iopub.status.idle": "2021-11-08T16:41:47.373435Z",
     "shell.execute_reply.started": "2021-11-08T16:41:47.355047Z",
     "shell.execute_reply": "2021-11-08T16:41:47.372625Z"
    },
    "trusted": true
   },
   "execution_count": null,
   "outputs": []
  },
  {
   "cell_type": "markdown",
   "source": "## 4. Save to csv\nFirst save version where diabetes is the target variable and in the first column. This is the full cleaned dataset with prediabetes still there.",
   "metadata": {}
  },
  {
   "cell_type": "code",
   "source": "#************************************************************************************************\nbrfss.to_csv('diabetes_012_health_indicators_BRFSS2015.csv', sep=\",\", index=False)\n#************************************************************************************************",
   "metadata": {
    "execution": {
     "iopub.status.busy": "2021-11-08T16:41:47.374848Z",
     "iopub.execute_input": "2021-11-08T16:41:47.375609Z",
     "iopub.status.idle": "2021-11-08T16:41:50.973221Z",
     "shell.execute_reply.started": "2021-11-08T16:41:47.375563Z",
     "shell.execute_reply": "2021-11-08T16:41:50.971857Z"
    },
    "trusted": true
   },
   "execution_count": null,
   "outputs": []
  },
  {
   "cell_type": "markdown",
   "source": "## 5. Create Binary Dataset for diabetes vs. no diabetes\n*  If we want to do binary classification of diabtes vs no diabetes that can be accomplished by either joining the prediabetics with the diabetics, with the non-diabetics, or removing them entirely. I would like to add them to the diabetic group, as being told by a doctor you are prediabetic is an indication of diabetes risk and ultimately we are interested in risk.\n* While we're at it, we can make the dataset balanced in a 50-50 split of non-diabetics to diabetics and prediabetics. There are a sufficient number of records to do this randomly and yield predictive results. There are 4631 (pre-diabetes) + 35346 (diabetes) so we can make a new 50-50 binary dataset of 39,977 diabetic risk individuals to 39,977 randomly selected non-diabetics.\n* Note that because it is a survey it is always possible (actually likely) that some individuals will not have been diagnosed yet but are either pre-diabetic or diabetic.",
   "metadata": {}
  },
  {
   "cell_type": "code",
   "source": "#Copy old table to new one.\nbrfss_binary = brfss\n#Change the diabetics 2 to a 1 and pre-diabetics 1 to a 0, so that we have 0 meaning non-diabetic and pre-diabetic and 1 meaning diabetic.\nbrfss_binary['Diabetes_012'] = brfss_binary['Diabetes_012'].replace({1:0})\nbrfss_binary['Diabetes_012'] = brfss_binary['Diabetes_012'].replace({2:1})\n\n#Change the column name to Diabetes_binary\nbrfss_binary = brfss_binary.rename(columns = {'Diabetes_012': 'Diabetes_binary'})\nbrfss_binary.Diabetes_binary.unique()",
   "metadata": {
    "execution": {
     "iopub.status.busy": "2021-11-08T16:41:50.975282Z",
     "iopub.execute_input": "2021-11-08T16:41:50.976418Z",
     "iopub.status.idle": "2021-11-08T16:41:51.012176Z",
     "shell.execute_reply.started": "2021-11-08T16:41:50.976358Z",
     "shell.execute_reply": "2021-11-08T16:41:51.009976Z"
    },
    "trusted": true
   },
   "execution_count": null,
   "outputs": []
  },
  {
   "cell_type": "code",
   "source": "#Show the change\nbrfss_binary.head()",
   "metadata": {
    "execution": {
     "iopub.status.busy": "2021-11-08T16:41:51.013933Z",
     "iopub.execute_input": "2021-11-08T16:41:51.015926Z",
     "iopub.status.idle": "2021-11-08T16:41:51.062175Z",
     "shell.execute_reply.started": "2021-11-08T16:41:51.015868Z",
     "shell.execute_reply": "2021-11-08T16:41:51.060326Z"
    },
    "trusted": true
   },
   "execution_count": null,
   "outputs": []
  },
  {
   "cell_type": "code",
   "source": "#show class sizes\nbrfss_binary.groupby(['Diabetes_binary']).size()",
   "metadata": {
    "execution": {
     "iopub.status.busy": "2021-11-08T16:41:51.064777Z",
     "iopub.execute_input": "2021-11-08T16:41:51.065183Z",
     "iopub.status.idle": "2021-11-08T16:41:51.085712Z",
     "shell.execute_reply.started": "2021-11-08T16:41:51.065134Z",
     "shell.execute_reply": "2021-11-08T16:41:51.084227Z"
    },
    "trusted": true
   },
   "execution_count": null,
   "outputs": []
  },
  {
   "cell_type": "code",
   "source": "#Separate the 0(No Diabetes) and 1&2(Pre-diabetes and Diabetes)\n#Get the 1s\nis1 = brfss_binary['Diabetes_binary'] == 1\nbrfss_5050_1 = brfss_binary[is1]\n\n#Get the 0s\nis0 = brfss_binary['Diabetes_binary'] == 0\nbrfss_5050_0 = brfss_binary[is0] \n\n#Select the 39977 random cases from the 0 (non-diabetes group). we already have 35346 cases from the diabetes risk group\nbrfss_5050_0_rand1 = brfss_5050_0.take(np.random.permutation(len(brfss_5050_0))[:35346])\n\n#Append the 39977 1s to the 39977 randomly selected 0s\nbrfss_5050 = brfss_5050_0_rand1.append(brfss_5050_1, ignore_index = True)",
   "metadata": {
    "execution": {
     "iopub.status.busy": "2021-11-08T16:42:15.749346Z",
     "iopub.execute_input": "2021-11-08T16:42:15.750245Z",
     "iopub.status.idle": "2021-11-08T16:42:15.806041Z",
     "shell.execute_reply.started": "2021-11-08T16:42:15.750204Z",
     "shell.execute_reply": "2021-11-08T16:42:15.804911Z"
    },
    "trusted": true
   },
   "execution_count": null,
   "outputs": []
  },
  {
   "cell_type": "code",
   "source": "#Check that it worked. Now we have a dataset of 79,954 rows that is equally balanced with 50% 1 and 50% 0 for the target variable Diabetes_binary\nbrfss_5050.head()",
   "metadata": {
    "execution": {
     "iopub.status.busy": "2021-11-08T16:42:16.47397Z",
     "iopub.execute_input": "2021-11-08T16:42:16.474265Z",
     "iopub.status.idle": "2021-11-08T16:42:16.507599Z",
     "shell.execute_reply.started": "2021-11-08T16:42:16.474236Z",
     "shell.execute_reply": "2021-11-08T16:42:16.506531Z"
    },
    "trusted": true
   },
   "execution_count": null,
   "outputs": []
  },
  {
   "cell_type": "code",
   "source": "brfss_5050.tail()",
   "metadata": {
    "execution": {
     "iopub.status.busy": "2021-11-08T16:42:16.626507Z",
     "iopub.execute_input": "2021-11-08T16:42:16.626825Z",
     "iopub.status.idle": "2021-11-08T16:42:16.660557Z",
     "shell.execute_reply.started": "2021-11-08T16:42:16.626792Z",
     "shell.execute_reply": "2021-11-08T16:42:16.65889Z"
    },
    "trusted": true
   },
   "execution_count": null,
   "outputs": []
  },
  {
   "cell_type": "code",
   "source": "#See the classes are perfectly balanced now\nbrfss_5050.groupby(['Diabetes_binary']).size()",
   "metadata": {
    "execution": {
     "iopub.status.busy": "2021-11-08T16:42:16.824719Z",
     "iopub.execute_input": "2021-11-08T16:42:16.825541Z",
     "iopub.status.idle": "2021-11-08T16:42:16.83662Z",
     "shell.execute_reply.started": "2021-11-08T16:42:16.825503Z",
     "shell.execute_reply": "2021-11-08T16:42:16.835261Z"
    },
    "trusted": true
   },
   "execution_count": null,
   "outputs": []
  },
  {
   "cell_type": "markdown",
   "source": "## 6. Save binary dataset and 50-50 binary balanced dataset to csv\nThese files have prediabetes added to the diabetes group. The 50-50 dataset takes it a step further and has a randomly selected even split to help beginners train their models. ",
   "metadata": {}
  },
  {
   "cell_type": "code",
   "source": "print(f'brfss_5050={brfss_5050.shape}',f'brfss_binary={brfss_binary.shape}')",
   "metadata": {
    "execution": {
     "iopub.status.busy": "2021-11-08T16:42:17.202994Z",
     "iopub.execute_input": "2021-11-08T16:42:17.203442Z",
     "iopub.status.idle": "2021-11-08T16:42:17.2114Z",
     "shell.execute_reply.started": "2021-11-08T16:42:17.203408Z",
     "shell.execute_reply": "2021-11-08T16:42:17.210563Z"
    },
    "trusted": true
   },
   "execution_count": null,
   "outputs": []
  },
  {
   "cell_type": "code",
   "source": "#Save the 50-50 balanced dataset to csv\n#************************************************************************************************\nbrfss_5050.to_csv('diabetes_binary_5050split_health_indicators_BRFSS2015.csv', sep=\",\", index=False)\n#************************************************************************************************\n\n#Also save the original binary dataset to csv\n#************************************************************************************************\nbrfss_binary.to_csv('diabetes_binary_health_indicators_BRFSS2015.csv', sep=\",\", index=False)\n#************************************************************************************************",
   "metadata": {
    "execution": {
     "iopub.status.busy": "2021-11-08T16:42:17.392345Z",
     "iopub.execute_input": "2021-11-08T16:42:17.392845Z",
     "iopub.status.idle": "2021-11-08T16:42:21.89139Z",
     "shell.execute_reply.started": "2021-11-08T16:42:17.392805Z",
     "shell.execute_reply": "2021-11-08T16:42:21.889965Z"
    },
    "trusted": true
   },
   "execution_count": null,
   "outputs": []
  }
 ]
}
